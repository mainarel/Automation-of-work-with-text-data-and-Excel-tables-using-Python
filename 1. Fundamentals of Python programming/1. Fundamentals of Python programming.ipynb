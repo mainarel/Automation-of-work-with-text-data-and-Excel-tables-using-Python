{
 "cells": [
  {
   "cell_type": "markdown",
   "metadata": {
    "id": "cK2HWFh0BwV0"
   },
   "source": [
    "# **Занятие 1. Основы программирования на Python**\n",
    "---"
   ]
  },
  {
   "cell_type": "markdown",
   "metadata": {
    "id": "fcwBIN73BwV4"
   },
   "source": [
    "### Почему программисты используют Python?\n",
    "* Качество программного обеспечения\n",
    "* Высокая скорость разработки\n",
    "* Переносимость программ\n",
    "* Свободные библиотеки\n",
    "* Интеграция компонентов\n",
    "---"
   ]
  },
  {
   "cell_type": "markdown",
   "metadata": {
    "id": "JT9OC9ee3YhB"
   },
   "source": [
    "### Некоторые особенности языка  Python\n",
    "<font size=\"3\">\n",
    "    \n",
    "* Объектно-ориентированный\n",
    "    \n",
    "* Динамически типизированный\n",
    "    >Переменная связывается с типом автоматически при присваивании ей какого-нибудь значения\n",
    "* Автоматическое управление памятью\n",
    "    > Автоматически выделяет память под объекты и освобождает ее, когда объекты становятся не нужными.\n",
    "* Встроенные типы данных и инструменты\n",
    "    > Реализованные в Python типы данных, такие как списки, строки или словари, обладают большой гибкостью. Например, их можно расширять или же сжимать по мере необходимости, комбинировать друг с другом.\n",
    "* Удобен и прост в изучении\n",
    "***"
   ]
  },
  {
   "cell_type": "markdown",
   "metadata": {
    "id": "pNHCgsr13YhC"
   },
   "source": [
    "### Установка и использование\n",
    "\n",
    "[![Anaconda](https://upload.wikimedia.org/wikipedia/commons/e/ea/Conda_logo.svg)](https://www.anaconda.com/products/individual)\n",
    "\n",
    " [![Google Colab](https://colab.research.google.com/assets/colab-badge.svg)](https://colab.research.google.com)"
   ]
  },
  {
   "cell_type": "markdown",
   "metadata": {
    "id": "Iz5X9JSPBwV6"
   },
   "source": [
    "## Типы данных\n",
    "\n",
    "В данной части курса мы познакомим Вас с базовыми типами данных в языке Python, их особенностями, синтаксисом и доступными для них операциями.\n",
    "\n",
    "\n",
    "В Python существуют следующие типы встроенных данных:\n",
    "\n",
    "* int / float / complex - числа\n",
    "* bool - булевые значения  \n",
    "* str - строки\n",
    "* list - списки\n",
    "* tuple - неизменяемые списки (кортежи)\n",
    "* set - множества\n",
    "* dict - словари\n"
   ]
  },
  {
   "cell_type": "markdown",
   "metadata": {
    "id": "2lWS2pZCBwV7"
   },
   "source": [
    "### Числа\n",
    "\n",
    "Python включает в себя стандарные типы числовых данных:\n"
   ]
  },
  {
   "cell_type": "code",
   "execution_count": 1,
   "metadata": {
    "id": "bvbBaw1NBwV7"
   },
   "outputs": [
    {
     "data": {
      "text/plain": [
       "int"
      ]
     },
     "execution_count": 1,
     "metadata": {},
     "output_type": "execute_result"
    }
   ],
   "source": [
    "type(5)"
   ]
  },
  {
   "cell_type": "markdown",
   "metadata": {
    "id": "4GvmLJRo3YhD"
   },
   "source": [
    "Действительное число задается с точкой"
   ]
  },
  {
   "cell_type": "code",
   "execution_count": 2,
   "metadata": {
    "id": "XPFhlhmzBwV8"
   },
   "outputs": [
    {
     "data": {
      "text/plain": [
       "float"
      ]
     },
     "execution_count": 2,
     "metadata": {},
     "output_type": "execute_result"
    }
   ],
   "source": [
    "type(5.0)"
   ]
  },
  {
   "cell_type": "markdown",
   "metadata": {
    "id": "qSpN6pu73YhE"
   },
   "source": [
    "### Операции с числами"
   ]
  },
  {
   "cell_type": "markdown",
   "metadata": {
    "id": "N1PALkK4BwV-"
   },
   "source": [
    "Для чисел в Python существуют следующие типы операций:\n",
    "\n",
    "| Тип операции | Обозначение |\n",
    "|-------|-------------|\n",
    "| `+`  | Сложение |\n",
    "| `-` | Вычитание |\n",
    "| `/` | Деление |\n",
    "| `//` | Целая часть от деления |\n",
    "| `%` | Остаток от деления |\n",
    "| `*` | Умножение |\n",
    "| `**` | Возведение в степень |"
   ]
  },
  {
   "cell_type": "markdown",
   "metadata": {
    "id": "b8rLp6AE3YhE"
   },
   "source": [
    "Давайте продемонстрируем эти операции на примерах. Сложим два целых числа, результатом также будет целое число"
   ]
  },
  {
   "cell_type": "code",
   "execution_count": 3,
   "metadata": {
    "id": "Y1R-VegYBwV-"
   },
   "outputs": [
    {
     "data": {
      "text/plain": [
       "23"
      ]
     },
     "execution_count": 3,
     "metadata": {},
     "output_type": "execute_result"
    }
   ],
   "source": [
    "1 + 22"
   ]
  },
  {
   "cell_type": "markdown",
   "metadata": {
    "id": "ON47TrEp3YhF"
   },
   "source": [
    "Для операциии деления не все так однозначно, если мы рассмотрим пример, в котором разделим одно целое число на другое целое, то результатом будет вещественное число"
   ]
  },
  {
   "cell_type": "code",
   "execution_count": 4,
   "metadata": {
    "id": "dZJA-YZW3YhF"
   },
   "outputs": [
    {
     "data": {
      "text/plain": [
       "3.3333333333333335"
      ]
     },
     "execution_count": 4,
     "metadata": {},
     "output_type": "execute_result"
    }
   ],
   "source": [
    "10 / 3"
   ]
  },
  {
   "cell_type": "markdown",
   "metadata": {
    "id": "WmkPtMZb3YhF"
   },
   "source": [
    "Несколько иначе действует оператор целочисленного деления `//`. В отличии от обыкновенного деления, данный оператор округляет результат до ближайшего нижнего целого значения"
   ]
  },
  {
   "cell_type": "code",
   "execution_count": 5,
   "metadata": {
    "id": "rp_V-Mwx3YhF"
   },
   "outputs": [
    {
     "data": {
      "text/plain": [
       "7"
      ]
     },
     "execution_count": 5,
     "metadata": {},
     "output_type": "execute_result"
    }
   ],
   "source": [
    "22 // 3"
   ]
  },
  {
   "cell_type": "code",
   "execution_count": 6,
   "metadata": {
    "id": "ZGT1Y-KS3YhF"
   },
   "outputs": [
    {
     "data": {
      "text/plain": [
       "-6"
      ]
     },
     "execution_count": 6,
     "metadata": {},
     "output_type": "execute_result"
    }
   ],
   "source": [
    "22 // -4"
   ]
  },
  {
   "cell_type": "markdown",
   "metadata": {
    "id": "F7AqvLLp3YhF"
   },
   "source": [
    "Оператор взятия остатка от деления действует без хитростей и возвращает то, что от него просят"
   ]
  },
  {
   "cell_type": "code",
   "execution_count": 7,
   "metadata": {
    "id": "YtTlUSVF3YhF"
   },
   "outputs": [
    {
     "data": {
      "text/plain": [
       "1"
      ]
     },
     "execution_count": 7,
     "metadata": {},
     "output_type": "execute_result"
    }
   ],
   "source": [
    "10 % 3"
   ]
  },
  {
   "cell_type": "markdown",
   "metadata": {
    "id": "Lu71YVM73YhF"
   },
   "source": [
    "Теперь посмотрим как производится возведение в степень. Для этого необходимо указать желаемую степень после двойной звезды."
   ]
  },
  {
   "cell_type": "code",
   "execution_count": 8,
   "metadata": {
    "id": "5WDCS-Jc3YhG"
   },
   "outputs": [
    {
     "data": {
      "text/plain": [
       "125"
      ]
     },
     "execution_count": 8,
     "metadata": {},
     "output_type": "execute_result"
    }
   ],
   "source": [
    "5 ** 3"
   ]
  },
  {
   "cell_type": "markdown",
   "metadata": {
    "id": "cvHain0n3YhG"
   },
   "source": [
    "#### Порядок операций"
   ]
  },
  {
   "cell_type": "markdown",
   "metadata": {
    "id": "culi9tZ-3YhG"
   },
   "source": [
    "Давайте теперь покажем в каком порядке будут проводиться вычисления сложных выражений. В этом плане порядок операций в Python такой же как и обычных вычислениях в алгебре"
   ]
  },
  {
   "cell_type": "code",
   "execution_count": 9,
   "metadata": {
    "id": "ptlntCTeBwV_"
   },
   "outputs": [
    {
     "data": {
      "text/plain": [
       "12.0"
      ]
     },
     "execution_count": 9,
     "metadata": {},
     "output_type": "execute_result"
    }
   ],
   "source": [
    "8 / 2 * 3"
   ]
  },
  {
   "cell_type": "markdown",
   "metadata": {
    "id": "iSww_Mz53YhG"
   },
   "source": [
    "Если возникает необходимость задать специальный порядок, то нужно использовать круглые скобки"
   ]
  },
  {
   "cell_type": "code",
   "execution_count": 10,
   "metadata": {
    "id": "JDANOhE73YhG"
   },
   "outputs": [
    {
     "data": {
      "text/plain": [
       "1.3333333333333333"
      ]
     },
     "execution_count": 10,
     "metadata": {},
     "output_type": "execute_result"
    }
   ],
   "source": [
    "8 / (2 * 3)"
   ]
  },
  {
   "cell_type": "markdown",
   "metadata": {
    "id": "GuyTMvGL3YhG"
   },
   "source": [
    "Отметим, что операция возведения в степень имеет высший приоритет\n",
    "\n",
    "В данном случае вначале будет произведено возведение двойки в степень трех, а уже затем восемь будет разделено на результат возведения в степень\n"
   ]
  },
  {
   "cell_type": "code",
   "execution_count": 11,
   "metadata": {
    "id": "QvpCPeDO3YhH"
   },
   "outputs": [
    {
     "data": {
      "text/plain": [
       "1.0"
      ]
     },
     "execution_count": 11,
     "metadata": {},
     "output_type": "execute_result"
    }
   ],
   "source": [
    "8 / 2 ** 3"
   ]
  },
  {
   "cell_type": "markdown",
   "metadata": {
    "id": "IoN7u_Ok3YhH"
   },
   "source": [
    "Также как и для более простых операций мы может явно указать порядок действий используя круглые скобки"
   ]
  },
  {
   "cell_type": "markdown",
   "metadata": {
    "id": "v_G7dJ_u3YhH"
   },
   "source": [
    "Если мы имеем несколько возведений в степень подряд, то очередь будет выстроена справа - налево."
   ]
  },
  {
   "cell_type": "code",
   "execution_count": 12,
   "metadata": {
    "id": "lO4gLimvBwV_"
   },
   "outputs": [
    {
     "name": "stdout",
     "output_type": "stream",
     "text": [
      "512\n",
      "64\n"
     ]
    }
   ],
   "source": [
    "print(2 ** 3 ** 2)\n",
    "print((2 ** 3) ** 2)"
   ]
  },
  {
   "cell_type": "markdown",
   "metadata": {
    "id": "v2nrqU-A3YhI"
   },
   "source": [
    "### Задача 1.\n",
    "\n"
   ]
  },
  {
   "cell_type": "markdown",
   "metadata": {
    "id": "wGe-53EeiIwA"
   },
   "source": [
    "![](https://cdn-user84060.skyeng.ru/uploads/64f980c43bf01557275911.png)\n",
    "\n",
    "Площадь треугольника равна половине произведения длины основания и высоты, проведённой к этому основанию.  $S = (h * a) / 2$. Дя заданных длины основания `a` и высоты `h` напишите программу, вычисляющую площадь треугольника `s`"
   ]
  },
  {
   "cell_type": "code",
   "execution_count": 13,
   "metadata": {
    "id": "x5KHVr353YhI"
   },
   "outputs": [
    {
     "data": {
      "text/plain": [
       "3.0"
      ]
     },
     "execution_count": 13,
     "metadata": {},
     "output_type": "execute_result"
    }
   ],
   "source": [
    "a = 3\n",
    "h = 2\n",
    "\n",
    "s = (a * h) / 2\n",
    "\n",
    "s"
   ]
  },
  {
   "cell_type": "markdown",
   "metadata": {
    "id": "EDB6qRor3YhI"
   },
   "source": [
    "### Задача 2.\n",
    "\n",
    "![](https://s1.hostingkartinok.com/uploads/images/2022/05/5ebfcebdcc7d43a2c04362eb830750af.jpg)\n",
    "\n",
    "Имеется панельный дом, в котором известно количество этажей `floor` и число подъездов `entrance`. Все квартиры пронумерованы снизу-вверх и слева-направо, начиная с единицы. По заданному номеру квартиры определите этаж и подъезд"
   ]
  },
  {
   "cell_type": "code",
   "execution_count": 15,
   "metadata": {
    "id": "K4KZBZXR3YhI"
   },
   "outputs": [
    {
     "data": {
      "text/plain": [
       "(4, 2)"
      ]
     },
     "execution_count": 15,
     "metadata": {},
     "output_type": "execute_result"
    }
   ],
   "source": [
    "floor = 8\n",
    "entrance = 4\n",
    "\n",
    "num = 26\n",
    "\n",
    "pod = (num - 1) // floor + 1\n",
    "et = (num - 1) % floor + 1\n",
    "\n",
    "pod, et"
   ]
  },
  {
   "cell_type": "markdown",
   "metadata": {
    "id": "4y1L79CuBwWA"
   },
   "source": [
    "### Строки\n",
    "Строки являются __неизменяемыми__ упорядоченнными коллекциями объектов для хранения и работы c текстовыми данными."
   ]
  },
  {
   "cell_type": "markdown",
   "metadata": {
    "id": "zaI06fY23YhI"
   },
   "source": [
    "Рассмотрим следующий тип данных _строки_. Строки являются неизменяемыми упорядоченными коллекциями объектов\n",
    "Строки чаще всего задаются с помощью одинарных или двойных кавычек"
   ]
  },
  {
   "cell_type": "code",
   "execution_count": 16,
   "metadata": {
    "id": "UOi8GNx83YhJ"
   },
   "outputs": [
    {
     "data": {
      "text/plain": [
       "str"
      ]
     },
     "execution_count": 16,
     "metadata": {},
     "output_type": "execute_result"
    }
   ],
   "source": [
    "type(\"Hey\")"
   ]
  },
  {
   "cell_type": "code",
   "execution_count": 17,
   "metadata": {
    "id": "nfmtP1P2BwWA"
   },
   "outputs": [
    {
     "data": {
      "text/plain": [
       "str"
      ]
     },
     "execution_count": 17,
     "metadata": {},
     "output_type": "execute_result"
    }
   ],
   "source": [
    "type('Hey')"
   ]
  },
  {
   "cell_type": "markdown",
   "metadata": {
    "id": "xuPmAu-03YhJ"
   },
   "source": [
    "Так же можно создавать строки с помощью \"тройных кавычек\""
   ]
  },
  {
   "cell_type": "code",
   "execution_count": 18,
   "metadata": {
    "id": "oifFmyBV3YhJ"
   },
   "outputs": [
    {
     "data": {
      "text/plain": [
       "str"
      ]
     },
     "execution_count": 18,
     "metadata": {},
     "output_type": "execute_result"
    }
   ],
   "source": [
    "type('''Hello''')"
   ]
  },
  {
   "cell_type": "code",
   "execution_count": 19,
   "metadata": {
    "id": "ZC_6Qnto3YhJ"
   },
   "outputs": [
    {
     "data": {
      "text/plain": [
       "str"
      ]
     },
     "execution_count": 19,
     "metadata": {},
     "output_type": "execute_result"
    }
   ],
   "source": [
    "type(\n",
    "    \"\"\"\n",
    "        I am\n",
    "        long\n",
    "        string\n",
    "    \"\"\"\n",
    ")"
   ]
  },
  {
   "cell_type": "code",
   "execution_count": 20,
   "metadata": {
    "id": "srGOEh523YhJ"
   },
   "outputs": [
    {
     "data": {
      "text/plain": [
       "str"
      ]
     },
     "execution_count": 20,
     "metadata": {},
     "output_type": "execute_result"
    }
   ],
   "source": [
    "type(\"\"\"I am string too\"\"\")"
   ]
  },
  {
   "cell_type": "markdown",
   "metadata": {
    "id": "C9-Wvk8U3YhJ"
   },
   "source": [
    "_Примечание_. Однако такой способ задания чаще используется при написании документации к функциям и классам или в местах где нужно задать текст в несколько строк. При задании строковых переменных обычно используют одинарные или двойные кавычки"
   ]
  },
  {
   "cell_type": "markdown",
   "metadata": {
    "id": "_DaO2C0MBwWA"
   },
   "source": [
    "#### Вывод строк\n",
    "При работе со строками очень часто приходится выводить информацию на экран. Для этой цели используют функцию `print()`.\n",
    "```python\n",
    "    print(value1, value2, ..., sep=' ', end='\\n')\n",
    "```\n",
    "агрумент ***end***, содержит символ конца строки, ***sep*** - разделитель между выводимыми объектами"
   ]
  },
  {
   "cell_type": "markdown",
   "metadata": {
    "id": "vr0ReSvb3YhK"
   },
   "source": [
    "В функцию `print` можно передать один или несколько объектов для вывода на экран. Функция `print` имеет несколько расширений. Основными из них являются возможность задать разделитель между выводимыми объектами через агрумент `sep` и изменять символ конца строки через агрумент `end`. Продемострируем это на следующих примерах"
   ]
  },
  {
   "cell_type": "code",
   "execution_count": 21,
   "metadata": {
    "id": "iRXnm6IcBwWB"
   },
   "outputs": [
    {
     "name": "stdout",
     "output_type": "stream",
     "text": [
      "first linesecond line\n",
      "\n",
      "third :) line\n"
     ]
    }
   ],
   "source": [
    "print('first line', end='')\n",
    "print('second line', end='\\n\\n')\n",
    "print('third',  'line', sep=' :) ')"
   ]
  },
  {
   "cell_type": "markdown",
   "metadata": {
    "id": "iN-58AvQ3YhK"
   },
   "source": [
    "Первая функция `print` выводит строку 'first line' и в данном случае конец строки отсутствует, так как агрумент `end` задан пустой строкой.\n",
    "Из-за этого вторая строка 'second line' начинается сразу после первой. Но теперь мы задает конец строки  двойным переносом. В третьей строке кода в функцию `print` подаются две строки, которые будут разделены смайликом."
   ]
  },
  {
   "cell_type": "markdown",
   "metadata": {
    "id": "J8gkmJTTBwWB"
   },
   "source": [
    "Еще несколько примеров"
   ]
  },
  {
   "cell_type": "markdown",
   "metadata": {
    "id": "SKOdsCC03YhK"
   },
   "source": [
    "В функцию `print` необязательно передавать только строки, можно задать любой друой объект или их комбинацию  "
   ]
  },
  {
   "cell_type": "code",
   "execution_count": 22,
   "metadata": {
    "id": "zGth2IuRBwWB"
   },
   "outputs": [
    {
     "name": "stdout",
     "output_type": "stream",
     "text": [
      "1.0\n",
      "1 = 1\n"
     ]
    }
   ],
   "source": [
    "print(1.0)\n",
    "print('1 =', 1)"
   ]
  },
  {
   "cell_type": "markdown",
   "metadata": {
    "id": "JM36M88jQFAD"
   },
   "source": [
    "#### Табуляции и разрывы строк\n",
    "В программировании термином «пропуск» (whitespace) называются такие непечатаемые символы, как пробелы, табуляции и символы конца строки. Пропуски\n",
    "структурируют текст, чтобы пользователю было удобнее читать его.\n",
    "Для включения в текст табуляции используется комбинация символов\n",
    "`\\t`"
   ]
  },
  {
   "cell_type": "code",
   "execution_count": 23,
   "metadata": {
    "id": "Z1jqviidQFAE"
   },
   "outputs": [
    {
     "name": "stdout",
     "output_type": "stream",
     "text": [
      "Hi, there\n",
      "\tHi, there\n"
     ]
    }
   ],
   "source": [
    "print(\"Hi, there\")\n",
    "print(\"\\tHi, there\")"
   ]
  },
  {
   "cell_type": "markdown",
   "metadata": {
    "id": "CquAHTIkQFAE"
   },
   "source": [
    "Разрывы строк добавляются с помощью комбинации символов `\\n`:"
   ]
  },
  {
   "cell_type": "code",
   "execution_count": 24,
   "metadata": {
    "id": "NZI5ejn6QFAE"
   },
   "outputs": [
    {
     "name": "stdout",
     "output_type": "stream",
     "text": [
      "Line\n",
      "New line\n"
     ]
    }
   ],
   "source": [
    "print(\"Line\\nNew line\")"
   ]
  },
  {
   "cell_type": "markdown",
   "metadata": {
    "id": "AA0yL6cAQFAF"
   },
   "source": [
    "Табуляции и разрывы строк могут сочетаться в тексте. Скажем, последовательность `\\n\\t` приказывает Python начать текст с новой строки, в начале которой располагается табуляция.\n",
    "Следующий пример демонстрирует вывод одного сообщения с разбиением на четыре строки:"
   ]
  },
  {
   "cell_type": "code",
   "execution_count": 25,
   "metadata": {
    "id": "I0CbGW7eQFAF"
   },
   "outputs": [
    {
     "name": "stdout",
     "output_type": "stream",
     "text": [
      "Languages:\n",
      "\tPython\n",
      "\tC++\n",
      "\tJavaScript\n"
     ]
    }
   ],
   "source": [
    "print(\"Languages:\\n\\tPython\\n\\tC++\\n\\tJavaScript\")"
   ]
  },
  {
   "cell_type": "markdown",
   "metadata": {
    "id": "8Fkwt4VT3YhK"
   },
   "source": [
    "#### Форматирование строк"
   ]
  },
  {
   "cell_type": "markdown",
   "metadata": {
    "id": "zz9egCqG3YhL"
   },
   "source": [
    "<!-- Это стало одной из причин дальнейшего усовершенствования способа форматирования строк.  -->\n",
    "Совсем недавно появились так называемые `f`-строки. Они компактнее и быстрее предыдущих способов форматирования. Используя f строки мы можем преобразовать предыдующий пример следующим образом"
   ]
  },
  {
   "cell_type": "code",
   "execution_count": 26,
   "metadata": {
    "id": "xfTmUwSdjO_o"
   },
   "outputs": [],
   "source": [
    "s1 = 'Привет'\n",
    "s2 = 'Андрей'\n",
    "s3 = 'Ну где-ты был?'"
   ]
  },
  {
   "cell_type": "code",
   "execution_count": 27,
   "metadata": {
    "id": "dl_9GqWD3YhM"
   },
   "outputs": [
    {
     "name": "stdout",
     "output_type": "stream",
     "text": [
      "Привет / Ну где-ты был? / Андрей\n"
     ]
    }
   ],
   "source": [
    "print(f\"{s1} / {s3} / {s2}\")"
   ]
  },
  {
   "cell_type": "markdown",
   "metadata": {
    "id": "LbkVDfbckJWu"
   },
   "source": [
    "Рассмотрим другой пример работы с `f` - строками"
   ]
  },
  {
   "cell_type": "code",
   "execution_count": 28,
   "metadata": {
    "id": "wK5XH5IQj23X"
   },
   "outputs": [
    {
     "data": {
      "text/plain": [
       "'a = 1'"
      ]
     },
     "execution_count": 28,
     "metadata": {},
     "output_type": "execute_result"
    }
   ],
   "source": [
    "a = 1\n",
    "f'a = {a}'"
   ]
  },
  {
   "cell_type": "markdown",
   "metadata": {
    "id": "ZS_d9hK4kQFW"
   },
   "source": [
    "Здесь мы забыли фигурные скобки:"
   ]
  },
  {
   "cell_type": "code",
   "execution_count": 29,
   "metadata": {
    "id": "0VQt5WGjkDuK"
   },
   "outputs": [
    {
     "data": {
      "text/plain": [
       "'a = a'"
      ]
     },
     "execution_count": 29,
     "metadata": {},
     "output_type": "execute_result"
    }
   ],
   "source": [
    "a = 1\n",
    "f'a = a'"
   ]
  },
  {
   "cell_type": "markdown",
   "metadata": {
    "id": "og59HjGKkTL3"
   },
   "source": [
    "Здесь забыли написать `f` в начале строки:"
   ]
  },
  {
   "cell_type": "code",
   "execution_count": 30,
   "metadata": {
    "id": "U3kptHuMkGTx"
   },
   "outputs": [
    {
     "data": {
      "text/plain": [
       "'a = {a}'"
      ]
     },
     "execution_count": 30,
     "metadata": {},
     "output_type": "execute_result"
    }
   ],
   "source": [
    "a = 1\n",
    "'a = {a}'"
   ]
  },
  {
   "cell_type": "markdown",
   "metadata": {
    "id": "gw4ItTcwkXNx"
   },
   "source": [
    "В фигурных скобках можно производить вычисления:"
   ]
  },
  {
   "cell_type": "code",
   "execution_count": 31,
   "metadata": {
    "id": "B5zZ-oKGj9pU"
   },
   "outputs": [
    {
     "data": {
      "text/plain": [
       "'b = 2'"
      ]
     },
     "execution_count": 31,
     "metadata": {},
     "output_type": "execute_result"
    }
   ],
   "source": [
    "f'b = {a + 1}'"
   ]
  },
  {
   "cell_type": "markdown",
   "metadata": {
    "id": "65BXBZV73YhM"
   },
   "source": [
    "Стоит пояснить, что происходит после символа `:`, при выводе мы можем указать количество знаков под выражение слева, в данном случае под первое число отводится 5 символов, а под второе 10. Также есть возможность выравнивать вывод по левой, правой границам или по центру выделенной области, сделасть это можно, разместив символы $>$, $<$, ^ перед числом, указывающим на количество зарезервированных символов.\n",
    "\n",
    "При выводе числовых данных можно также указать количество выводимых\n",
    "символов после запятой, указав через точку нужно количество символов и добавив  `f`.\n",
    "\n",
    "f-строки имеют еще много возможностей форматирования тескта при желании Вы можете посмотреть остальные на сайте [документации](https://www.python.org/dev/peps/pep-0498/)\n"
   ]
  },
  {
   "cell_type": "code",
   "execution_count": 32,
   "metadata": {
    "id": "MAYYI_wg3YhM"
   },
   "outputs": [
    {
     "name": "stdout",
     "output_type": "stream",
     "text": [
      "x = 12.00\n"
     ]
    }
   ],
   "source": [
    "print(f'x = {12:.2f}')"
   ]
  },
  {
   "cell_type": "code",
   "execution_count": 33,
   "metadata": {
    "id": "3ouZFC8Hk604"
   },
   "outputs": [
    {
     "name": "stdout",
     "output_type": "stream",
     "text": [
      "x <      12.00 < y\n"
     ]
    }
   ],
   "source": [
    "print(f'x < {12:>10.2f} < y')"
   ]
  },
  {
   "cell_type": "code",
   "execution_count": 34,
   "metadata": {
    "id": "7gHimIvOlKOv"
   },
   "outputs": [
    {
     "name": "stdout",
     "output_type": "stream",
     "text": [
      "x < 12.00      < y\n"
     ]
    }
   ],
   "source": [
    "print(f'x < {12:<10.2f} < y')"
   ]
  },
  {
   "cell_type": "code",
   "execution_count": 35,
   "metadata": {
    "id": "ed8-CB6TlMZm"
   },
   "outputs": [
    {
     "name": "stdout",
     "output_type": "stream",
     "text": [
      "x <   12.00    < y\n"
     ]
    }
   ],
   "source": [
    "print(f'x < {12:^10.2f} < y')"
   ]
  },
  {
   "cell_type": "markdown",
   "metadata": {
    "id": "yOTBGXJZ3YhM"
   },
   "source": [
    "#### Строки как последовательности"
   ]
  },
  {
   "cell_type": "markdown",
   "metadata": {
    "id": "gSTgD0YrBwWD"
   },
   "source": [
    "Так как строки являются последовательностями символов, то к ним можно обращаться по индексу, который передается в квадратных скобках. Индексация в python начинается с нуля."
   ]
  },
  {
   "cell_type": "code",
   "execution_count": 36,
   "metadata": {
    "id": "h_-7zR-lBwWD"
   },
   "outputs": [
    {
     "name": "stdout",
     "output_type": "stream",
     "text": [
      "С\n",
      "т\n",
      "а\n",
      " \n"
     ]
    }
   ],
   "source": [
    "s = 'Строка - последовательность'\n",
    "print(s[0])\n",
    "print(s[1])\n",
    "print(s[5])\n",
    "print(s[6])"
   ]
  },
  {
   "cell_type": "code",
   "execution_count": 37,
   "metadata": {
    "id": "XuuSMzHqlhck"
   },
   "outputs": [
    {
     "name": "stdout",
     "output_type": "stream",
     "text": [
      "ь\n",
      "т\n"
     ]
    }
   ],
   "source": [
    "print(s[-1])\n",
    "print(s[-2])"
   ]
  },
  {
   "cell_type": "markdown",
   "metadata": {
    "id": "Qx_n0lR9BwWG"
   },
   "source": [
    "##### Срезы\n",
    "\n",
    "<!-- Чтобы получить несколько элементов сразу можно использовать так, называемые срезы. Забегая вперед, срезы могут применяться не только к строкам, но и к другим последовательностям\n",
    " -->\n",
    "\n",
    "В общем виде\n",
    "```python\n",
    "    S[start_index:end_index]\n",
    "    S[start_index:end_index:step]\n",
    "```"
   ]
  },
  {
   "cell_type": "markdown",
   "metadata": {
    "id": "Kazq0CoE3YhN"
   },
   "source": [
    "в строку `S` в квадратные скобки передается номер первого, а через двоеточие номер последнего индексов. В выводимой подстроке последний индекс не включается. По умолчанию шаг среза равен единице, чтобы его изменить нужно указать его значение через двоеточие."
   ]
  },
  {
   "cell_type": "code",
   "execution_count": 38,
   "metadata": {
    "id": "4Z0vg1dfBwWG"
   },
   "outputs": [
    {
     "data": {
      "text/plain": [
       "'Строка'"
      ]
     },
     "execution_count": 38,
     "metadata": {},
     "output_type": "execute_result"
    }
   ],
   "source": [
    "s = 'Строка - последовательность'\n",
    "s[0:6]"
   ]
  },
  {
   "cell_type": "markdown",
   "metadata": {
    "id": "bchbB3Ow3YhN"
   },
   "source": [
    "Инструмент извлечения срезов довольно гибкий и позволяет упрощать запись"
   ]
  },
  {
   "cell_type": "code",
   "execution_count": 39,
   "metadata": {
    "id": "FFoX0CVDBwWH"
   },
   "outputs": [
    {
     "data": {
      "text/plain": [
       "'Строка'"
      ]
     },
     "execution_count": 39,
     "metadata": {},
     "output_type": "execute_result"
    }
   ],
   "source": [
    "s[:6]"
   ]
  },
  {
   "cell_type": "markdown",
   "metadata": {
    "id": "eOdw25DD3YhN"
   },
   "source": [
    "В данном случае мы опустили левый индекс и получили идентичный результат. Можно опускать и правый индекс в таком случае срез будет извлекаться от указанного индекса до конца последовательности с шагом 1"
   ]
  },
  {
   "cell_type": "code",
   "execution_count": 40,
   "metadata": {
    "id": "jZJ5t3L_BwWH"
   },
   "outputs": [
    {
     "data": {
      "text/plain": [
       "' - последовательность'"
      ]
     },
     "execution_count": 40,
     "metadata": {},
     "output_type": "execute_result"
    }
   ],
   "source": [
    "s[6:]"
   ]
  },
  {
   "cell_type": "markdown",
   "metadata": {
    "id": "ACwPOUqj3YhN"
   },
   "source": [
    "Шаг обхода последовательности также можно изменять"
   ]
  },
  {
   "cell_type": "code",
   "execution_count": 41,
   "metadata": {
    "id": "oiq7RNTaBwWH"
   },
   "outputs": [
    {
     "data": {
      "text/plain": [
       "'Со'"
      ]
     },
     "execution_count": 41,
     "metadata": {},
     "output_type": "execute_result"
    }
   ],
   "source": [
    "s[0:6:3]"
   ]
  },
  {
   "cell_type": "code",
   "execution_count": 42,
   "metadata": {
    "id": "EeGXiOaemE8h"
   },
   "outputs": [
    {
     "data": {
      "text/plain": [
       "' акортС'"
      ]
     },
     "execution_count": 42,
     "metadata": {},
     "output_type": "execute_result"
    }
   ],
   "source": [
    "s[6: :-1]"
   ]
  },
  {
   "cell_type": "code",
   "execution_count": 43,
   "metadata": {
    "id": "qlEZeSvkmsh5"
   },
   "outputs": [
    {
     "data": {
      "text/plain": [
       "'ьтсоньлетаводелсоп - акортС'"
      ]
     },
     "execution_count": 43,
     "metadata": {},
     "output_type": "execute_result"
    }
   ],
   "source": [
    "s[::-1]"
   ]
  },
  {
   "cell_type": "markdown",
   "metadata": {
    "id": "5eRpRuPb3YhO"
   },
   "source": [
    "#### Операции со строками"
   ]
  },
  {
   "cell_type": "markdown",
   "metadata": {
    "id": "HAlk_ivLBwWE"
   },
   "source": [
    "Строки можно умножать и складывать:"
   ]
  },
  {
   "cell_type": "markdown",
   "metadata": {
    "id": "wPxy71Yw3YhO"
   },
   "source": [
    "При умножении строки на число n получится исходная строка продублированная n раз"
   ]
  },
  {
   "cell_type": "code",
   "execution_count": 44,
   "metadata": {
    "id": "j3dHRJ1uBwWE"
   },
   "outputs": [
    {
     "data": {
      "text/plain": [
       "'aaaaaa'"
      ]
     },
     "execution_count": 44,
     "metadata": {},
     "output_type": "execute_result"
    }
   ],
   "source": [
    "'a' * 6"
   ]
  },
  {
   "cell_type": "markdown",
   "metadata": {
    "id": "wZPJEhKX3YhO"
   },
   "source": [
    "Посмотрим как будут вести себя строки при сложении друг с другом"
   ]
  },
  {
   "cell_type": "code",
   "execution_count": 45,
   "metadata": {
    "id": "1CSHulzCBwWF"
   },
   "outputs": [],
   "source": [
    "s1 = 'a'\n",
    "s2 = 'b'"
   ]
  },
  {
   "cell_type": "code",
   "execution_count": 46,
   "metadata": {
    "id": "toBkUQuyBwWF",
    "scrolled": true
   },
   "outputs": [
    {
     "data": {
      "text/plain": [
       "'ab'"
      ]
     },
     "execution_count": 46,
     "metadata": {},
     "output_type": "execute_result"
    }
   ],
   "source": [
    "s1 + s2"
   ]
  },
  {
   "cell_type": "markdown",
   "metadata": {
    "id": "6Sy3iq3i3YhO"
   },
   "source": [
    "То есть происходит подсоединение одной строки к другой"
   ]
  },
  {
   "cell_type": "markdown",
   "metadata": {
    "id": "oUOd3m-H3YhO"
   },
   "source": [
    "#### Встроенные методы"
   ]
  },
  {
   "cell_type": "markdown",
   "metadata": {
    "id": "1ZcvSNyXBwWI"
   },
   "source": [
    "Для строк в Python существуют встроенные [методы](https://docs.python.org/2.4/lib/string-methods.html).\n"
   ]
  },
  {
   "cell_type": "markdown",
   "metadata": {
    "id": "AGVKynw13YhP"
   },
   "source": [
    "Рассмотрим некоторые методы на примерах. Для перевода строк в верхний и нижний регистр используются методы `upper()` и `lower()` соотвественно"
   ]
  },
  {
   "cell_type": "code",
   "execution_count": 47,
   "metadata": {
    "id": "96K33O-vBwWI"
   },
   "outputs": [
    {
     "data": {
      "text/plain": [
       "'LOW'"
      ]
     },
     "execution_count": 47,
     "metadata": {},
     "output_type": "execute_result"
    }
   ],
   "source": [
    "'low'.upper()"
   ]
  },
  {
   "cell_type": "code",
   "execution_count": 48,
   "metadata": {
    "id": "Ne6AU4XVBwWI"
   },
   "outputs": [
    {
     "data": {
      "text/plain": [
       "'caps'"
      ]
     },
     "execution_count": 48,
     "metadata": {},
     "output_type": "execute_result"
    }
   ],
   "source": [
    "'CAPS'.lower()"
   ]
  },
  {
   "cell_type": "markdown",
   "metadata": {
    "id": "QbtQ1s6b3YhP"
   },
   "source": [
    "Возможно одним из самых часто встречающихся методов при работе со строками является метод `split()`. Его функция заключается в разбиении строки на подстроки по некоторому символу. По умолчанию строка будет разбиваться по служебным символам и пробелам"
   ]
  },
  {
   "cell_type": "code",
   "execution_count": 49,
   "metadata": {
    "id": "Fg-8p_GQBwWJ"
   },
   "outputs": [
    {
     "data": {
      "text/plain": [
       "['This', 'is', 'string']"
      ]
     },
     "execution_count": 49,
     "metadata": {},
     "output_type": "execute_result"
    }
   ],
   "source": [
    "'This\\nis\\tstring'.split()"
   ]
  },
  {
   "cell_type": "markdown",
   "metadata": {
    "id": "hkQfWg2K3YhQ"
   },
   "source": [
    "Разделитель может быть любым символом, задать его можно, подав строку в первый агрумент метода `split`"
   ]
  },
  {
   "cell_type": "code",
   "execution_count": 50,
   "metadata": {
    "id": "8MYCrt4xBwWJ"
   },
   "outputs": [
    {
     "data": {
      "text/plain": [
       "['Th', ' / ', ' string']"
      ]
     },
     "execution_count": 50,
     "metadata": {},
     "output_type": "execute_result"
    }
   ],
   "source": [
    "'This / is string'.split('is')"
   ]
  },
  {
   "cell_type": "markdown",
   "metadata": {
    "id": "UIEAN8GS3YhQ"
   },
   "source": [
    "Также можно задать максимальное число разбиений строки"
   ]
  },
  {
   "cell_type": "code",
   "execution_count": 51,
   "metadata": {
    "id": "uIdvCumj3YhQ",
    "scrolled": false
   },
   "outputs": [
    {
     "data": {
      "text/plain": [
       "['Th', ' / is string']"
      ]
     },
     "execution_count": 51,
     "metadata": {},
     "output_type": "execute_result"
    }
   ],
   "source": [
    "'This / is string'.split('is', 1)"
   ]
  },
  {
   "cell_type": "markdown",
   "metadata": {
    "id": "WnotroeP3YhQ"
   },
   "source": [
    "Еще одним важным методом является функция `join`. Она помогает склеить строку из нескольких элементов по заданному разделителю, который указывается вначале\n"
   ]
  },
  {
   "cell_type": "code",
   "execution_count": 52,
   "metadata": {
    "id": "ScZaO94R3YhQ"
   },
   "outputs": [
    {
     "data": {
      "text/plain": [
       "'Thisisstring'"
      ]
     },
     "execution_count": 52,
     "metadata": {},
     "output_type": "execute_result"
    }
   ],
   "source": [
    "''.join(['This', \"is\", 'string'])"
   ]
  },
  {
   "cell_type": "code",
   "execution_count": 53,
   "metadata": {
    "id": "GTIylW753YhQ"
   },
   "outputs": [
    {
     "data": {
      "text/plain": [
       "'This is string'"
      ]
     },
     "execution_count": 53,
     "metadata": {},
     "output_type": "execute_result"
    }
   ],
   "source": [
    "' '.join(['This', \"is\", 'string'])"
   ]
  },
  {
   "cell_type": "code",
   "execution_count": 54,
   "metadata": {
    "id": "yD53jvd_3YhQ"
   },
   "outputs": [
    {
     "data": {
      "text/plain": [
       "'This\\\\is\\\\string'"
      ]
     },
     "execution_count": 54,
     "metadata": {},
     "output_type": "execute_result"
    }
   ],
   "source": [
    "'\\\\'.join(['This', \"is\", 'string'])"
   ]
  },
  {
   "cell_type": "markdown",
   "metadata": {
    "id": "yLAcvfOO3YhR"
   },
   "source": [
    "#### Неизменяемость"
   ]
  },
  {
   "cell_type": "markdown",
   "metadata": {
    "id": "uPjlnDViBwWJ"
   },
   "source": [
    "Строки в Python являются неизменяемым типом данных. Соответственно, при попытке изменить элемент строки по индексу будет выдана ошибка"
   ]
  },
  {
   "cell_type": "code",
   "execution_count": 55,
   "metadata": {
    "id": "qvNwb9upBwWK"
   },
   "outputs": [
    {
     "ename": "TypeError",
     "evalue": "'str' object does not support item assignment",
     "output_type": "error",
     "traceback": [
      "\u001b[1;31m---------------------------------------------------------------------------\u001b[0m",
      "\u001b[1;31mTypeError\u001b[0m                                 Traceback (most recent call last)",
      "Cell \u001b[1;32mIn[55], line 2\u001b[0m\n\u001b[0;32m      1\u001b[0m s \u001b[38;5;241m=\u001b[39m \u001b[38;5;124m'\u001b[39m\u001b[38;5;124mworld\u001b[39m\u001b[38;5;124m'\u001b[39m\n\u001b[1;32m----> 2\u001b[0m s[\u001b[38;5;241m0\u001b[39m] \u001b[38;5;241m=\u001b[39m \u001b[38;5;124m'\u001b[39m\u001b[38;5;124mp\u001b[39m\u001b[38;5;124m'\u001b[39m\n",
      "\u001b[1;31mTypeError\u001b[0m: 'str' object does not support item assignment"
     ]
    }
   ],
   "source": [
    "s = 'world'\n",
    "s[0] = 'p'"
   ]
  },
  {
   "cell_type": "markdown",
   "metadata": {
    "id": "nqgUJq5k3YhR"
   },
   "source": [
    "Для изменения некоторых элементов в строке можно использовать, например, метод `replace`. Этот метод создаст новый объект - в данном случае строку с измененным элементом, а начальная строка останется прежней.\n"
   ]
  },
  {
   "cell_type": "code",
   "execution_count": 56,
   "metadata": {
    "id": "xd69yvw4BwWK"
   },
   "outputs": [],
   "source": [
    "s1 = s.replace('w', 'p')"
   ]
  },
  {
   "cell_type": "code",
   "execution_count": 57,
   "metadata": {
    "id": "rbFEap5-3YhR"
   },
   "outputs": [
    {
     "name": "stdout",
     "output_type": "stream",
     "text": [
      "world porld\n",
      "False\n"
     ]
    }
   ],
   "source": [
    "print(s, s1)\n",
    "print(id(s) == id(s1))"
   ]
  },
  {
   "cell_type": "markdown",
   "metadata": {
    "id": "rwdFN-W-3YhR"
   },
   "source": [
    "#### Преобразование в строки"
   ]
  },
  {
   "cell_type": "markdown",
   "metadata": {
    "id": "tQQkIIyDBwWL"
   },
   "source": [
    "Часто бывает, что в строках записаны числа, их можно перевести в числовой формат следующими командами"
   ]
  },
  {
   "cell_type": "code",
   "execution_count": 58,
   "metadata": {
    "id": "4M2n0ZMaBwWL"
   },
   "outputs": [
    {
     "data": {
      "text/plain": [
       "1.5"
      ]
     },
     "execution_count": 58,
     "metadata": {},
     "output_type": "execute_result"
    }
   ],
   "source": [
    "float('1.5')"
   ]
  },
  {
   "cell_type": "code",
   "execution_count": 59,
   "metadata": {
    "id": "tMSqZUzBBwWM"
   },
   "outputs": [
    {
     "data": {
      "text/plain": [
       "10"
      ]
     },
     "execution_count": 59,
     "metadata": {},
     "output_type": "execute_result"
    }
   ],
   "source": [
    "int('10')"
   ]
  },
  {
   "cell_type": "code",
   "execution_count": 60,
   "metadata": {
    "id": "x41vIs-ZBwWM"
   },
   "outputs": [
    {
     "data": {
      "text/plain": [
       "'10'"
      ]
     },
     "execution_count": 60,
     "metadata": {},
     "output_type": "execute_result"
    }
   ],
   "source": [
    "str(10)"
   ]
  },
  {
   "cell_type": "markdown",
   "metadata": {
    "id": "mLHr8v9pBTBm"
   },
   "source": [
    "#### Задача 3\n",
    "\n",
    "В переменной `text` находится текст, который начинается с заголовка, затем со следующей строки идёт его содержание. Напишите программу, которая выводит заголовок текста."
   ]
  },
  {
   "cell_type": "code",
   "execution_count": null,
   "metadata": {
    "id": "-gIo8vOTBhqV"
   },
   "outputs": [],
   "source": [
    "text = \"\"\"РАБОТА С ТАБЛИЦАМИ\n",
    "Таблицы выступают мощным инструментом форматирования. При помощи таблиц странице документа можно придать различный вид.\n",
    "Обычно для решения поставленной задачи использование таблиц является наиболее приемлемым, а иногда единственно возможным вариантом.\"\"\""
   ]
  },
  {
   "cell_type": "code",
   "execution_count": null,
   "metadata": {
    "id": "6pX5NN2bCdSy"
   },
   "outputs": [
    {
     "data": {
      "text/plain": [
       "'РАБОТА С ТАБЛИЦАМИ'"
      ]
     },
     "execution_count": 64,
     "metadata": {},
     "output_type": "execute_result"
    }
   ],
   "source": [
    "text.split(\"\\n\", 1)[0]"
   ]
  },
  {
   "cell_type": "markdown",
   "metadata": {
    "id": "GQW0xaXP3YhY"
   },
   "source": [
    "#### Задача 4.\n",
    "Определите является ли строка палиндромом."
   ]
  },
  {
   "cell_type": "code",
   "execution_count": 67,
   "metadata": {
    "id": "46pLatv53YhY"
   },
   "outputs": [],
   "source": [
    "s = 'anna'"
   ]
  },
  {
   "cell_type": "code",
   "execution_count": 68,
   "metadata": {
    "id": "R5Yynr3Wn0m-"
   },
   "outputs": [
    {
     "data": {
      "text/plain": [
       "'yes'"
      ]
     },
     "execution_count": 68,
     "metadata": {},
     "output_type": "execute_result"
    }
   ],
   "source": [
    "('yes' if s == s[::-1] else 'no')"
   ]
  },
  {
   "cell_type": "markdown",
   "metadata": {
    "id": "9WI47FO8BwWM"
   },
   "source": [
    "### Списки\n",
    "Списки - это изменяемые упорядоченные коллекции объектов произвольных типов. В Python списки задаются через  квадратные скобки:"
   ]
  },
  {
   "cell_type": "code",
   "execution_count": 69,
   "metadata": {
    "id": "t2p0dHGjBwWN"
   },
   "outputs": [
    {
     "data": {
      "text/plain": [
       "list"
      ]
     },
     "execution_count": 69,
     "metadata": {},
     "output_type": "execute_result"
    }
   ],
   "source": [
    "type([1, 2])"
   ]
  },
  {
   "cell_type": "markdown",
   "metadata": {
    "id": "EhEg-pft3YhT"
   },
   "source": [
    "Список может содержать в себе любые данные"
   ]
  },
  {
   "cell_type": "code",
   "execution_count": 70,
   "metadata": {
    "id": "g6ccsBazBwWN"
   },
   "outputs": [
    {
     "data": {
      "text/plain": [
       "['spam', 10, (1+1j), None, 12, 'hi']"
      ]
     },
     "execution_count": 70,
     "metadata": {},
     "output_type": "execute_result"
    }
   ],
   "source": [
    "L = ['spam', 10, 1 + 1j, None, 12, 'hi']\n",
    "L"
   ]
  },
  {
   "cell_type": "markdown",
   "metadata": {
    "id": "BnyY7bck3YhT"
   },
   "source": [
    "или совсем ничего"
   ]
  },
  {
   "cell_type": "code",
   "execution_count": 71,
   "metadata": {
    "id": "O52BaOEtBwWN"
   },
   "outputs": [
    {
     "data": {
      "text/plain": [
       "[]"
      ]
     },
     "execution_count": 71,
     "metadata": {},
     "output_type": "execute_result"
    }
   ],
   "source": [
    "[]"
   ]
  },
  {
   "cell_type": "markdown",
   "metadata": {
    "id": "BzLrzLHCBwWN"
   },
   "source": [
    "Обращаться к элементам списка можно по индексу. Напомним, что в Python отсчет начинается с *нуля*"
   ]
  },
  {
   "cell_type": "code",
   "execution_count": 72,
   "metadata": {
    "id": "7EJKugAIBwWO"
   },
   "outputs": [
    {
     "data": {
      "text/plain": [
       "(10, 'spam')"
      ]
     },
     "execution_count": 72,
     "metadata": {},
     "output_type": "execute_result"
    }
   ],
   "source": [
    "L = ['spam', 10, 1 + 1j, None, 12, 'hi']\n",
    "L[1], L[0]"
   ]
  },
  {
   "cell_type": "markdown",
   "metadata": {
    "id": "3inb0yGF3YhT"
   },
   "source": [
    "Возможно индексирование с конца списка через отрицательные индексы, так индекс -1 вернет последний элемент, -2 предпоследний и так далее."
   ]
  },
  {
   "cell_type": "code",
   "execution_count": 73,
   "metadata": {
    "id": "FAMIFOdQBwWO"
   },
   "outputs": [
    {
     "data": {
      "text/plain": [
       "('hi', 12, 'hi')"
      ]
     },
     "execution_count": 73,
     "metadata": {},
     "output_type": "execute_result"
    }
   ],
   "source": [
    "L[-1], L[-2], L[5]"
   ]
  },
  {
   "cell_type": "markdown",
   "metadata": {
    "id": "ChiauP5E3YhU"
   },
   "source": [
    "#### Срезы"
   ]
  },
  {
   "cell_type": "markdown",
   "metadata": {
    "id": "_HYMmxkG3YhU"
   },
   "source": [
    "Срезы можно применять и к спискам"
   ]
  },
  {
   "cell_type": "code",
   "execution_count": 74,
   "metadata": {
    "id": "cf91Cr_6BwWO"
   },
   "outputs": [
    {
     "data": {
      "text/plain": [
       "[10, (1+1j)]"
      ]
     },
     "execution_count": 74,
     "metadata": {},
     "output_type": "execute_result"
    }
   ],
   "source": [
    "L = ['spam', 10, 1 + 1j, None, 12, 'hi']\n",
    "L[1:3]"
   ]
  },
  {
   "cell_type": "code",
   "execution_count": 75,
   "metadata": {
    "id": "rZ3nqQ6qBwWP"
   },
   "outputs": [
    {
     "data": {
      "text/plain": [
       "['spam', (1+1j), 12]"
      ]
     },
     "execution_count": 75,
     "metadata": {},
     "output_type": "execute_result"
    }
   ],
   "source": [
    "L[0:5:2]"
   ]
  },
  {
   "cell_type": "markdown",
   "metadata": {
    "id": "gWHFbGqb3YhU"
   },
   "source": [
    "<!-- Функционал срезов довольно гибкий, он позволяет опускать значения начала и конца, если задан только шаг. В таком случае срез будет начинаться с первого элемента и заканчиваться последним. -->\n",
    "\n",
    "Есть возможность опускать значения начала и конца в срезе и задавать только шаг"
   ]
  },
  {
   "cell_type": "code",
   "execution_count": 76,
   "metadata": {
    "id": "v8-LGfpBBwWP"
   },
   "outputs": [
    {
     "data": {
      "text/plain": [
       "['spam', (1+1j), 12]"
      ]
     },
     "execution_count": 76,
     "metadata": {},
     "output_type": "execute_result"
    }
   ],
   "source": [
    "L[::2]"
   ]
  },
  {
   "cell_type": "markdown",
   "metadata": {
    "id": "edr0Zk1-3YhU"
   },
   "source": [
    "Также можно задавать лишь одну из границ с шагом"
   ]
  },
  {
   "cell_type": "code",
   "execution_count": 77,
   "metadata": {
    "id": "awQUaWr3BwWP"
   },
   "outputs": [
    {
     "data": {
      "text/plain": [
       "[10, None, 'hi']"
      ]
     },
     "execution_count": 77,
     "metadata": {},
     "output_type": "execute_result"
    }
   ],
   "source": [
    "L[1::2]"
   ]
  },
  {
   "cell_type": "markdown",
   "metadata": {
    "id": "6O9jq5fX3YhU"
   },
   "source": [
    "Шаг среза может быть и отрицательным, что позволяет обходить последовательность в обратном порядке, в таком случае начальный индекс должен быть больше конечного."
   ]
  },
  {
   "cell_type": "code",
   "execution_count": 78,
   "metadata": {
    "id": "wVjulv6NBwWP"
   },
   "outputs": [
    {
     "data": {
      "text/plain": [
       "['hi', 12, None, (1+1j), 10, 'spam']"
      ]
     },
     "execution_count": 78,
     "metadata": {},
     "output_type": "execute_result"
    }
   ],
   "source": [
    "L[::-1]"
   ]
  },
  {
   "cell_type": "code",
   "execution_count": 79,
   "metadata": {
    "id": "XXd3tVxc3YhV"
   },
   "outputs": [
    {
     "data": {
      "text/plain": [
       "['hi', 12, None, (1+1j)]"
      ]
     },
     "execution_count": 79,
     "metadata": {},
     "output_type": "execute_result"
    }
   ],
   "source": [
    "L[5:1:-1]"
   ]
  },
  {
   "cell_type": "markdown",
   "metadata": {
    "id": "CN-y_2g-3YhV"
   },
   "source": [
    "#### Изменяемость\n",
    "\n",
    "Так как списки это изменяемые объекты, мы можем свободно менять их содержимое на любой другой объект"
   ]
  },
  {
   "cell_type": "code",
   "execution_count": 80,
   "metadata": {
    "id": "yA4S86wa3YhV"
   },
   "outputs": [
    {
     "name": "stdout",
     "output_type": "stream",
     "text": [
      "[100, 10, (1+1j), None, 12, 'hi']\n"
     ]
    }
   ],
   "source": [
    "L = ['spam', 10, 1 + 1j, None, 12, 'hi']\n",
    "L[0] = 100\n",
    "print(L)"
   ]
  },
  {
   "cell_type": "markdown",
   "metadata": {
    "id": "jlyScPIP3YhV"
   },
   "source": [
    "Списки могут быть и вложенными в друг в друга, причем не обязательно с сохранением размерности."
   ]
  },
  {
   "cell_type": "markdown",
   "metadata": {
    "id": "qblQ8mze3YhV"
   },
   "source": [
    "Например здесь, мы изменили второй элемент списка положив в него список из двух элементов. При этом длина списка L не изменилась, а вот размерность втрого элемента стала равной двум"
   ]
  },
  {
   "cell_type": "code",
   "execution_count": 81,
   "metadata": {
    "id": "TWM5iIB43YhV"
   },
   "outputs": [
    {
     "name": "stdout",
     "output_type": "stream",
     "text": [
      "[100, [12, 13], (1+1j), None, 12, 'hi']\n"
     ]
    }
   ],
   "source": [
    "L[1] = [12,13]\n",
    "print(L)"
   ]
  },
  {
   "cell_type": "markdown",
   "metadata": {
    "id": "IYz0tukZBwWP"
   },
   "source": [
    "#### Операции со списками"
   ]
  },
  {
   "cell_type": "markdown",
   "metadata": {
    "id": "j43TErKN3YhW"
   },
   "source": [
    "Для операций со списками также доступны методы по умолчанию. Рассмотрим некоторые из них"
   ]
  },
  {
   "cell_type": "code",
   "execution_count": 82,
   "metadata": {
    "id": "ToEjLzhzBwWQ"
   },
   "outputs": [
    {
     "data": {
      "text/plain": [
       "[1, 3, 5, 1]"
      ]
     },
     "execution_count": 82,
     "metadata": {},
     "output_type": "execute_result"
    }
   ],
   "source": [
    "a = [1, 3, 5]\n",
    "a.append(1)\n",
    "a"
   ]
  },
  {
   "cell_type": "code",
   "execution_count": 83,
   "metadata": {
    "id": "liGNfO-yBwWQ"
   },
   "outputs": [
    {
     "data": {
      "text/plain": [
       "[1, 1, 3, 5]"
      ]
     },
     "execution_count": 83,
     "metadata": {},
     "output_type": "execute_result"
    }
   ],
   "source": [
    "a.sort()\n",
    "a"
   ]
  },
  {
   "cell_type": "markdown",
   "metadata": {
    "id": "xYNifz3N3YhW"
   },
   "source": [
    "для удаление элемента по значению используется функция remove если таких элементов несколько, то удаляется первое совпадение"
   ]
  },
  {
   "cell_type": "code",
   "execution_count": 84,
   "metadata": {
    "id": "7TMCnXxFBwWQ"
   },
   "outputs": [
    {
     "data": {
      "text/plain": [
       "[2, 3, 1, 5]"
      ]
     },
     "execution_count": 84,
     "metadata": {},
     "output_type": "execute_result"
    }
   ],
   "source": [
    "a = [2, 1, 3, 1, 5]\n",
    "a.remove(1)\n",
    "a"
   ]
  },
  {
   "cell_type": "markdown",
   "metadata": {
    "id": "0HV_cUWI3YhX"
   },
   "source": [
    "Можно удалять элементы списка по индексу, например, функцией `pop`, которая возвращает удаленный элемент"
   ]
  },
  {
   "cell_type": "code",
   "execution_count": 85,
   "metadata": {
    "id": "AmpuZWUw3YhX"
   },
   "outputs": [
    {
     "data": {
      "text/plain": [
       "[2, 3, 1]"
      ]
     },
     "execution_count": 85,
     "metadata": {},
     "output_type": "execute_result"
    }
   ],
   "source": [
    "element = a.pop(-1)\n",
    "a"
   ]
  },
  {
   "cell_type": "code",
   "execution_count": 86,
   "metadata": {},
   "outputs": [
    {
     "data": {
      "text/plain": [
       "5"
      ]
     },
     "execution_count": 86,
     "metadata": {},
     "output_type": "execute_result"
    }
   ],
   "source": [
    "element"
   ]
  },
  {
   "cell_type": "markdown",
   "metadata": {
    "id": "neONH-cm3YhX"
   },
   "source": [
    "Альтернативным способом удаления элемента или подпоследовательности элементов является использование встроенной функции `del`."
   ]
  },
  {
   "cell_type": "code",
   "execution_count": 87,
   "metadata": {
    "id": "JD_WHVnV3YhX"
   },
   "outputs": [
    {
     "data": {
      "text/plain": [
       "[1, 3, 10, 105]"
      ]
     },
     "execution_count": 87,
     "metadata": {},
     "output_type": "execute_result"
    }
   ],
   "source": [
    "a = [1, 3, 10, 105, 12]\n",
    "del a[-1]\n",
    "a"
   ]
  },
  {
   "cell_type": "code",
   "execution_count": 88,
   "metadata": {
    "id": "VVDFVjmT3YhX"
   },
   "outputs": [
    {
     "data": {
      "text/plain": [
       "[1, 3, 12]"
      ]
     },
     "execution_count": 88,
     "metadata": {},
     "output_type": "execute_result"
    }
   ],
   "source": [
    "a = [1, 3, 10, 105, 12]\n",
    "del a[2:4]\n",
    "a"
   ]
  },
  {
   "cell_type": "markdown",
   "metadata": {
    "id": "lFrc85Ct3YhX"
   },
   "source": [
    "Остальные методы можно посмотреть [тут](https://docs.python.org/3/tutorial/datastructures.html)"
   ]
  },
  {
   "cell_type": "markdown",
   "metadata": {
    "id": "DU-9RfkfBwWR"
   },
   "source": [
    "Списки можно умножать и складывать"
   ]
  },
  {
   "cell_type": "code",
   "execution_count": 89,
   "metadata": {
    "id": "9-KlCGFuBwWR"
   },
   "outputs": [
    {
     "data": {
      "text/plain": [
       "[1, 4, 1, 4, 1, 4]"
      ]
     },
     "execution_count": 89,
     "metadata": {},
     "output_type": "execute_result"
    }
   ],
   "source": [
    "a = [1, 4]\n",
    "a * 3"
   ]
  },
  {
   "cell_type": "code",
   "execution_count": 90,
   "metadata": {
    "id": "qX5ZO-56BwWR"
   },
   "outputs": [
    {
     "data": {
      "text/plain": [
       "[1, 4, 1, 4]"
      ]
     },
     "execution_count": 90,
     "metadata": {},
     "output_type": "execute_result"
    }
   ],
   "source": [
    "a + a"
   ]
  },
  {
   "cell_type": "markdown",
   "metadata": {
    "id": "-fd6Wa0T3YhY"
   },
   "source": [
    "#### Задача 5.\n",
    "Дана строка, содержащая целые числа, записанные через пробел. Найдите сумму двух последних чисел\n"
   ]
  },
  {
   "cell_type": "code",
   "execution_count": 92,
   "metadata": {
    "id": "BOGK-B5M3YhZ"
   },
   "outputs": [
    {
     "data": {
      "text/plain": [
       "11"
      ]
     },
     "execution_count": 92,
     "metadata": {},
     "output_type": "execute_result"
    }
   ],
   "source": [
    "s = \"1 3 4 5 6\"\n",
    "\n",
    "int(s.split()[-1]) + int(s.split()[-2])"
   ]
  },
  {
   "cell_type": "markdown",
   "metadata": {
    "id": "RsnJfcsqBwWR"
   },
   "source": [
    "### Кортежи\n",
    "Кортежи в Python задаются через круглые скобки. По сути, кортежи являются неизменяемыми списками, то есть по аналогии со строками при попытке изменить элемент кортежа\n",
    "возникнет ошибка"
   ]
  },
  {
   "cell_type": "code",
   "execution_count": 93,
   "metadata": {
    "id": "6OkKRM2dBwWR",
    "scrolled": true
   },
   "outputs": [
    {
     "ename": "TypeError",
     "evalue": "'tuple' object does not support item assignment",
     "output_type": "error",
     "traceback": [
      "\u001b[1;31m---------------------------------------------------------------------------\u001b[0m",
      "\u001b[1;31mTypeError\u001b[0m                                 Traceback (most recent call last)",
      "Cell \u001b[1;32mIn[93], line 2\u001b[0m\n\u001b[0;32m      1\u001b[0m a \u001b[38;5;241m=\u001b[39m (\u001b[38;5;241m1\u001b[39m, \u001b[38;5;241m2\u001b[39m, \u001b[38;5;241m3\u001b[39m)\n\u001b[1;32m----> 2\u001b[0m a[\u001b[38;5;241m0\u001b[39m] \u001b[38;5;241m=\u001b[39m \u001b[38;5;124m'\u001b[39m\u001b[38;5;124mdf\u001b[39m\u001b[38;5;124m'\u001b[39m\n",
      "\u001b[1;31mTypeError\u001b[0m: 'tuple' object does not support item assignment"
     ]
    }
   ],
   "source": [
    "a = (1, 2, 3)\n",
    "a[0] = 'df'"
   ]
  },
  {
   "cell_type": "markdown",
   "metadata": {
    "id": "ZKRsCnVT3YhZ"
   },
   "source": [
    "Иногда нужно создать кортеж лишь из одного числа. Этот\n",
    "случай заслуживает отдельного пояснения, так как, обернув число круглыми\n",
    "скобками, мы все равно получим число."
   ]
  },
  {
   "cell_type": "code",
   "execution_count": 94,
   "metadata": {
    "id": "LaDXphqUBwWS"
   },
   "outputs": [
    {
     "data": {
      "text/plain": [
       "int"
      ]
     },
     "execution_count": 94,
     "metadata": {},
     "output_type": "execute_result"
    }
   ],
   "source": [
    "type((1))"
   ]
  },
  {
   "cell_type": "markdown",
   "metadata": {
    "id": "jlAspFnc3YhZ"
   },
   "source": [
    "Противоречия здесь нет, так как скобками можно окружать выражения. Поэтому неоходимо дать интерпретатору понять, что объект в круглых скобках - это именно кортеж. Было решено, что для такого случая нужно просто добавить запятую после этого элемента."
   ]
  },
  {
   "cell_type": "code",
   "execution_count": 95,
   "metadata": {
    "id": "pf8DLI-OBwWS"
   },
   "outputs": [
    {
     "data": {
      "text/plain": [
       "tuple"
      ]
     },
     "execution_count": 95,
     "metadata": {},
     "output_type": "execute_result"
    }
   ],
   "source": [
    "type((1,))"
   ]
  },
  {
   "cell_type": "markdown",
   "metadata": {
    "id": "vWMp3ovM3Yha"
   },
   "source": [
    "Кортеж можно получить из списка, сделав нам ним следующее преобразование"
   ]
  },
  {
   "cell_type": "code",
   "execution_count": 96,
   "metadata": {
    "id": "lXnyp5umBwWT"
   },
   "outputs": [
    {
     "name": "stdout",
     "output_type": "stream",
     "text": [
      "(1, 6, 8, 6)\n"
     ]
    }
   ],
   "source": [
    "a = [1, 6, 8, 6]\n",
    "b = tuple(a)\n",
    "print(b)"
   ]
  },
  {
   "cell_type": "markdown",
   "metadata": {
    "id": "DLt3Ow9k3Yha"
   },
   "source": [
    "Для кортежей определены всего два встроенных метода. Метод `count` подсчитывает число вхождений заданного элемента в кортеж:"
   ]
  },
  {
   "cell_type": "code",
   "execution_count": 97,
   "metadata": {
    "id": "sM2l3MPn3Yha"
   },
   "outputs": [
    {
     "data": {
      "text/plain": [
       "1"
      ]
     },
     "execution_count": 97,
     "metadata": {},
     "output_type": "execute_result"
    }
   ],
   "source": [
    "b.count(8)"
   ]
  },
  {
   "cell_type": "markdown",
   "metadata": {
    "id": "-g66tJhj3Yha"
   },
   "source": [
    "Метод `index` возвращает индекс заданного элемента в кортеже, если таких элементов несколько, то возвращается индекс первого из них:"
   ]
  },
  {
   "cell_type": "code",
   "execution_count": 98,
   "metadata": {
    "id": "Ip5RhtU93Yha"
   },
   "outputs": [
    {
     "data": {
      "text/plain": [
       "1"
      ]
     },
     "execution_count": 98,
     "metadata": {},
     "output_type": "execute_result"
    }
   ],
   "source": [
    "b.index(6)"
   ]
  },
  {
   "cell_type": "markdown",
   "metadata": {
    "id": "jy5ufAX1BwWU"
   },
   "source": [
    "### Словари\n",
    "\n",
    "Cловарь представляет собой набор пар ключ-значение, в качестве ключа могут выступать неизменяемые типы данных (int, str, tuple, ...)\n",
    "[docs_link](https://docs.python.org/3/tutorial/datastructures.html#dictionaries)."
   ]
  },
  {
   "cell_type": "markdown",
   "metadata": {
    "id": "0PikioKo3Yhb"
   },
   "source": [
    "Словари в Python представляют собой совершенно иной тип данных, нежели все предыдущие рассмотренные нами.\n",
    "Словари не являются последовательностями и неупорядочены. Они делают некоторое  отображение одного объекта на другой. Первый из этих двух объектов называют ключом, а второй значением. Последний может быть совершенно любым объектом из языка Python встроенным или реализованным самостоятельно - любым. А вот на ключи накладывается ограничение, они должны быть неизменяемые.\n",
    "\n",
    "\n",
    "Если говорить более формально, то словарь (или ассоциативный массив) представляет собой набор пар ключ-значение, в качестве ключа могут выступать неизменяемые типы данных (int, str, tuple, ...)\n",
    "[docs_link](https://docs.python.org/3/tutorial/datastructures.html#dictionaries).\n",
    "\n",
    "\n",
    "Задать словарь можно несколькими способами, например, через фигурные скобки c прямым указанием пар ''ключ-значение''. В этом примере создается словарь из двух ключей 1 и 3, каждому из которых отвечают значения 2 и 4, соответственно.   "
   ]
  },
  {
   "cell_type": "code",
   "execution_count": 99,
   "metadata": {
    "id": "g5rTtwd_BwWV"
   },
   "outputs": [
    {
     "name": "stdout",
     "output_type": "stream",
     "text": [
      "<class 'dict'> {1: 2, 3: 4}\n"
     ]
    }
   ],
   "source": [
    "d = {1:2, 3:4}\n",
    "print(type(d), d)"
   ]
  },
  {
   "cell_type": "markdown",
   "metadata": {
    "id": "iTN6hTSV3Yhb"
   },
   "source": [
    "Ключом может быть любой объект с неизменяемым типом данных. В данном случае ключами являются число 1 и строка ''hi'':"
   ]
  },
  {
   "cell_type": "code",
   "execution_count": 100,
   "metadata": {
    "id": "GEkW_KtABwWV"
   },
   "outputs": [
    {
     "name": "stdout",
     "output_type": "stream",
     "text": [
      "{1: 2, 'hi': 4}\n"
     ]
    }
   ],
   "source": [
    "d = {1:2, 'hi':4}\n",
    "print(d)"
   ]
  },
  {
   "cell_type": "markdown",
   "metadata": {
    "id": "qRe9OeM73Yhc"
   },
   "source": [
    "Словари можно задавать при помощи встроенной функции `dict`, передав в качестве пар ключ-значение именованные агрументы (про именованные агрументы более подробно см. лекцию `Functions`). Соответственно ключами в данном случае будут строки ''name'' и ''age'', а значениями - ''Alex'' и ''100''."
   ]
  },
  {
   "cell_type": "code",
   "execution_count": 101,
   "metadata": {
    "id": "y4rJTe-fBwWV"
   },
   "outputs": [
    {
     "name": "stdout",
     "output_type": "stream",
     "text": [
      "{'name': 'Alex', 'age': '100'}\n"
     ]
    }
   ],
   "source": [
    "d = dict(name='Alex', age='100')\n",
    "print(d)"
   ]
  },
  {
   "cell_type": "markdown",
   "metadata": {
    "id": "Qr1O4gZ23Yhc"
   },
   "source": [
    "Если имеются списки ключей и значений по отдельности, то для создания словаря удобно использовать встроенную функцию  `zip`\n",
    "<!-- , которая составляет список из поэлементных кортежей из элементов двух списков -->"
   ]
  },
  {
   "cell_type": "markdown",
   "metadata": {
    "id": "s5HJc8K93Yhc"
   },
   "source": [
    "Пример работы функции `zip`"
   ]
  },
  {
   "cell_type": "markdown",
   "metadata": {
    "id": "WFhXHX8K3Yhc"
   },
   "source": [
    "которая создаст список из пар ключ-значение следующим образом"
   ]
  },
  {
   "cell_type": "code",
   "execution_count": 102,
   "metadata": {
    "id": "_-JfKJIv3Yhc"
   },
   "outputs": [
    {
     "data": {
      "text/plain": [
       "[('apple', 5), ('banana', 2), ('watermelon', 1)]"
      ]
     },
     "execution_count": 102,
     "metadata": {},
     "output_type": "execute_result"
    }
   ],
   "source": [
    "lst1 = ['apple', 'banana', 'watermelon']\n",
    "lst2 = [5, 2, 1]\n",
    "list(zip(lst1, lst2))"
   ]
  },
  {
   "cell_type": "markdown",
   "metadata": {
    "id": "UzB6B9Sv3Yhd"
   },
   "source": [
    "передав результат функции zip в dict мы получим словарь"
   ]
  },
  {
   "cell_type": "code",
   "execution_count": 103,
   "metadata": {
    "id": "pr0FfeWsBwWV"
   },
   "outputs": [
    {
     "data": {
      "text/plain": [
       "{'apple': 5, 'banana': 2, 'watermelon': 1}"
      ]
     },
     "execution_count": 103,
     "metadata": {},
     "output_type": "execute_result"
    }
   ],
   "source": [
    "d = dict(zip(lst1, lst2))\n",
    "d"
   ]
  },
  {
   "cell_type": "markdown",
   "metadata": {
    "id": "u1VfObft3Yhd"
   },
   "source": [
    "\n",
    "#### Добавление, удаление и обращение к элементам списка"
   ]
  },
  {
   "cell_type": "markdown",
   "metadata": {
    "id": "iuIStVAT3Yhd"
   },
   "source": [
    "Можно добавить новую пару напрямую"
   ]
  },
  {
   "cell_type": "code",
   "execution_count": 104,
   "metadata": {
    "id": "WtxXmUZ43Yhd"
   },
   "outputs": [
    {
     "data": {
      "text/plain": [
       "5"
      ]
     },
     "execution_count": 104,
     "metadata": {},
     "output_type": "execute_result"
    }
   ],
   "source": [
    "d['apple']"
   ]
  },
  {
   "cell_type": "code",
   "execution_count": 105,
   "metadata": {
    "id": "HmfNhLVD3Yhd"
   },
   "outputs": [
    {
     "name": "stdout",
     "output_type": "stream",
     "text": [
      "{'apple': 5, 'banana': 2, 'watermelon': 1, 'clementine': 7}\n"
     ]
    }
   ],
   "source": [
    "d['clementine'] = 7\n",
    "print(d)"
   ]
  },
  {
   "cell_type": "code",
   "execution_count": 106,
   "metadata": {
    "id": "aU9vneOV3Yhe"
   },
   "outputs": [
    {
     "name": "stdout",
     "output_type": "stream",
     "text": [
      "{'apple': 10, 'banana': 2, 'watermelon': 1, 'clementine': 7}\n"
     ]
    }
   ],
   "source": [
    "d['apple'] = 10\n",
    "print(d)"
   ]
  },
  {
   "cell_type": "markdown",
   "metadata": {
    "id": "3VvGa4RN3Yhe"
   },
   "source": [
    "Удаляется ключ методом `pop(key)`"
   ]
  },
  {
   "cell_type": "code",
   "execution_count": 107,
   "metadata": {
    "id": "vOr1CUJJ3Yhe"
   },
   "outputs": [
    {
     "data": {
      "text/plain": [
       "1"
      ]
     },
     "execution_count": 107,
     "metadata": {},
     "output_type": "execute_result"
    }
   ],
   "source": [
    "d.pop('watermelon')"
   ]
  },
  {
   "cell_type": "code",
   "execution_count": 108,
   "metadata": {
    "id": "1Bsy5F8V3Yhe",
    "scrolled": true
   },
   "outputs": [
    {
     "name": "stdout",
     "output_type": "stream",
     "text": [
      "{'apple': 10, 'banana': 2, 'clementine': 7}\n"
     ]
    }
   ],
   "source": [
    "print(d)"
   ]
  },
  {
   "cell_type": "markdown",
   "metadata": {
    "id": "Qs42Yr0Y3Yhe"
   },
   "source": [
    "Достаются значения из словаря следующим образом"
   ]
  },
  {
   "cell_type": "markdown",
   "metadata": {
    "id": "TAiFiUeR3Yhe"
   },
   "source": [
    "Если с помощью предыдущего способа попытаться вытащить значение по\n",
    "несуществующему ключу, то, очевидно, произойдет ошибка. Такое поведение\n",
    "не всегда полезно при исполнении программы. Поэтому для словарей\n",
    "существует метод, который возвращает некоторое значение по умолчанию без\n",
    "выбрасывания исключения и прерывания программы\n"
   ]
  },
  {
   "cell_type": "code",
   "execution_count": 109,
   "metadata": {
    "id": "fWG2-bex3Yhf"
   },
   "outputs": [
    {
     "ename": "KeyError",
     "evalue": "'orange'",
     "output_type": "error",
     "traceback": [
      "\u001b[1;31m---------------------------------------------------------------------------\u001b[0m",
      "\u001b[1;31mKeyError\u001b[0m                                  Traceback (most recent call last)",
      "Cell \u001b[1;32mIn[109], line 1\u001b[0m\n\u001b[1;32m----> 1\u001b[0m d[\u001b[38;5;124m'\u001b[39m\u001b[38;5;124morange\u001b[39m\u001b[38;5;124m'\u001b[39m]\n",
      "\u001b[1;31mKeyError\u001b[0m: 'orange'"
     ]
    }
   ],
   "source": [
    "d['orange']"
   ]
  },
  {
   "cell_type": "code",
   "execution_count": 110,
   "metadata": {
    "id": "gFdMRsTU3Yhf"
   },
   "outputs": [
    {
     "data": {
      "text/plain": [
       "'orange is not found'"
      ]
     },
     "execution_count": 110,
     "metadata": {},
     "output_type": "execute_result"
    }
   ],
   "source": [
    "key = 'orange'\n",
    "d.get(key, f'{key} is not found')"
   ]
  },
  {
   "cell_type": "markdown",
   "metadata": {
    "id": "SVefXTNSBwWW"
   },
   "source": [
    "#### Операции со словарями"
   ]
  },
  {
   "cell_type": "markdown",
   "metadata": {
    "id": "eruA5k8y3Yhf"
   },
   "source": [
    "Рассмотрим некоторые операции со словарями\n",
    "\n",
    "\n",
    "Вывести ключи словаря можно через метод `keys`"
   ]
  },
  {
   "cell_type": "code",
   "execution_count": 111,
   "metadata": {
    "id": "vjimoy_kBwWW"
   },
   "outputs": [
    {
     "data": {
      "text/plain": [
       "dict_keys(['apple', 'banana', 'clementine'])"
      ]
     },
     "execution_count": 111,
     "metadata": {},
     "output_type": "execute_result"
    }
   ],
   "source": [
    "d.keys()"
   ]
  },
  {
   "cell_type": "markdown",
   "metadata": {
    "id": "lLCqaEHH3Yhf"
   },
   "source": [
    "Соответственно, для получения значений словаря существует метод `values`"
   ]
  },
  {
   "cell_type": "code",
   "execution_count": 112,
   "metadata": {
    "id": "hof1ZirhBwWW"
   },
   "outputs": [
    {
     "data": {
      "text/plain": [
       "dict_values([10, 2, 7])"
      ]
     },
     "execution_count": 112,
     "metadata": {},
     "output_type": "execute_result"
    }
   ],
   "source": [
    "d.values()"
   ]
  },
  {
   "cell_type": "markdown",
   "metadata": {
    "id": "VQpmiydf3Yhf"
   },
   "source": [
    "Можно также извлечь из словаря пары ключ-значение [(key1, value1), (key2, value2) ...]"
   ]
  },
  {
   "cell_type": "code",
   "execution_count": 113,
   "metadata": {
    "id": "HQ3tta9jBwWX"
   },
   "outputs": [
    {
     "data": {
      "text/plain": [
       "dict_items([('apple', 10), ('banana', 2), ('clementine', 7)])"
      ]
     },
     "execution_count": 113,
     "metadata": {},
     "output_type": "execute_result"
    }
   ],
   "source": [
    "d.items()"
   ]
  },
  {
   "cell_type": "markdown",
   "metadata": {
    "id": "iyCrioh03Yhg"
   },
   "source": [
    "Также полезным методом является функция `update`, которая позволяет обновить значения в текущем словаре значениями из подаваемого словаря, если такие существуют и добавить несуществующие"
   ]
  },
  {
   "cell_type": "code",
   "execution_count": 114,
   "metadata": {
    "id": "wBOOVWGy3Yhg"
   },
   "outputs": [],
   "source": [
    "d1 = {'banana': 10, 'abricot': 3}"
   ]
  },
  {
   "cell_type": "code",
   "execution_count": 115,
   "metadata": {
    "id": "b8aGPtXoBwWX"
   },
   "outputs": [
    {
     "data": {
      "text/plain": [
       "{'apple': 10, 'banana': 10, 'clementine': 7, 'abricot': 3}"
      ]
     },
     "execution_count": 115,
     "metadata": {},
     "output_type": "execute_result"
    }
   ],
   "source": [
    "d.update(d1)\n",
    "d"
   ]
  },
  {
   "cell_type": "markdown",
   "metadata": {
    "id": "ptOQznT-3Yhg"
   },
   "source": [
    "#### Задача 6.\n",
    "Имеется словарь `melt`, где ключом является химическое соединение, а значением - его температура плавления.\n",
    "\n",
    "Вводятся два химических соединения. Определите на сколько градусов температура плавления первого соединения выше, чем второго."
   ]
  },
  {
   "cell_type": "code",
   "execution_count": 117,
   "metadata": {
    "id": "Wd8QST4S3Yhg"
   },
   "outputs": [],
   "source": [
    "melt = {\n",
    "    'SiO2': 1600,\n",
    "    'MoS2': 1185,\n",
    "    'WS2': 1234,\n",
    "    'FeO2': 1377,\n",
    "    'Pb': 327,\n",
    "    'H': -259,\n",
    "    'Na2O': 1132,\n",
    "    'C3O2': -107,\n",
    "    'Hg': -38.83,\n",
    "    'Mg': 650,\n",
    "    'Gd': 1586,\n",
    "    'H2O': 0\n",
    "}"
   ]
  },
  {
   "cell_type": "code",
   "execution_count": 120,
   "metadata": {
    "id": "tfAx4cYh3Yhg"
   },
   "outputs": [
    {
     "data": {
      "text/plain": [
       "535"
      ]
     },
     "execution_count": 120,
     "metadata": {},
     "output_type": "execute_result"
    }
   ],
   "source": [
    "first, second = 'MoS2', 'Mg'\n",
    "\n",
    "melt[first] - melt[second]"
   ]
  },
  {
   "cell_type": "markdown",
   "metadata": {
    "id": "z6W6tV6IBwWT"
   },
   "source": [
    "### Множества"
   ]
  },
  {
   "cell_type": "markdown",
   "metadata": {
    "id": "WVLHyHX13Yhg"
   },
   "source": [
    "Множества являются изменяемыми, неупорядоченными коллекциями объектов. Их не относят ни к последовательностям, ни к отображениям, так как к ним нельзя обратиться по индексу, и они не отображают никаких значений по ключу. Элементы множества в Python задаются через запятую в фигурных скобках. Все элементы множества являются уникальными: в нем не может быть одинаковых элементов. В данном примере в фигурных скобках записано шесть элементов, однако множество состоит всего из четырех, так как число уникальных элементов - четыре."
   ]
  },
  {
   "cell_type": "code",
   "execution_count": 121,
   "metadata": {
    "id": "T8zvi87DBwWT"
   },
   "outputs": [
    {
     "data": {
      "text/plain": [
       "set"
      ]
     },
     "execution_count": 121,
     "metadata": {},
     "output_type": "execute_result"
    }
   ],
   "source": [
    "type({1, 2})"
   ]
  },
  {
   "cell_type": "code",
   "execution_count": 122,
   "metadata": {
    "id": "JR1xEeDABwWT"
   },
   "outputs": [
    {
     "data": {
      "text/plain": [
       "{1, '1', 2, 3}"
      ]
     },
     "execution_count": 122,
     "metadata": {},
     "output_type": "execute_result"
    }
   ],
   "source": [
    "s = {1, 2, 3, 3, 3, '1'}\n",
    "s"
   ]
  },
  {
   "cell_type": "markdown",
   "metadata": {
    "id": "aIZbBip73Yhh"
   },
   "source": [
    "#### Операции с множествами"
   ]
  },
  {
   "cell_type": "markdown",
   "metadata": {
    "id": "zDTBt3593Yhh"
   },
   "source": [
    "Давайте создадим второе множество и посмотрим основные операции этого типа данных"
   ]
  },
  {
   "cell_type": "code",
   "execution_count": 123,
   "metadata": {
    "id": "yZkvDAnRBwWT"
   },
   "outputs": [],
   "source": [
    "s = {1, 2, 3, 3, 3, '1'}\n",
    "s1 = {'1', '3', 2, 1}"
   ]
  },
  {
   "cell_type": "markdown",
   "metadata": {
    "id": "5oO3Cp_03Yhh"
   },
   "source": [
    "Метод `union` создает множество, содержащее все элементы множеств `s` и `s1`:"
   ]
  },
  {
   "cell_type": "code",
   "execution_count": 124,
   "metadata": {
    "id": "zqjfWmewBwWU"
   },
   "outputs": [
    {
     "data": {
      "text/plain": [
       "{1, '1', 2, 3, '3'}"
      ]
     },
     "execution_count": 124,
     "metadata": {},
     "output_type": "execute_result"
    }
   ],
   "source": [
    "s.union(s1)"
   ]
  },
  {
   "cell_type": "markdown",
   "metadata": {
    "id": "qsWwynaM3Yhh"
   },
   "source": [
    " Метод `intersection` создает множество, содержащее только те элементы, которые есть в обоих множествах `s` и `s1`:"
   ]
  },
  {
   "cell_type": "code",
   "execution_count": 125,
   "metadata": {
    "id": "0W5yDY6HBwWU"
   },
   "outputs": [
    {
     "data": {
      "text/plain": [
       "{1, '1', 2}"
      ]
     },
     "execution_count": 125,
     "metadata": {},
     "output_type": "execute_result"
    }
   ],
   "source": [
    "s.intersection(s1)"
   ]
  },
  {
   "cell_type": "markdown",
   "metadata": {
    "id": "JYII6bjf3Yhh"
   },
   "source": [
    "Метод `s.difference(s1)` создает множество из элементов, которые присутствуют в `s`, но отсутствуют в `s1`:"
   ]
  },
  {
   "cell_type": "code",
   "execution_count": 126,
   "metadata": {
    "id": "lry9NmydBwWU"
   },
   "outputs": [
    {
     "data": {
      "text/plain": [
       "{3}"
      ]
     },
     "execution_count": 126,
     "metadata": {},
     "output_type": "execute_result"
    }
   ],
   "source": [
    "s.difference(s1)"
   ]
  },
  {
   "cell_type": "markdown",
   "metadata": {
    "id": "W8wwac7Z3Yhh"
   },
   "source": [
    "Аналогично работает метод s1.difference(s). Теперь в результирующем  множестве только те элементы, которые есть в s1 и которых нет в s."
   ]
  },
  {
   "cell_type": "code",
   "execution_count": 127,
   "metadata": {
    "id": "gIQq-D5gBwWU"
   },
   "outputs": [
    {
     "data": {
      "text/plain": [
       "{'3'}"
      ]
     },
     "execution_count": 127,
     "metadata": {},
     "output_type": "execute_result"
    }
   ],
   "source": [
    "s1.difference(s)"
   ]
  },
  {
   "cell_type": "markdown",
   "metadata": {
    "id": "DWNq3twkBwWX"
   },
   "source": [
    "## Логические значения\n",
    "<!-- Прежде чем переходить к операторам ветвления в Python остановимся более подробно на логических операторах и их принципах работы. -->"
   ]
  },
  {
   "cell_type": "markdown",
   "metadata": {
    "id": "U1fX01e7YF5z"
   },
   "source": [
    "Логический тип `bool` представляет две константы True и False. Понятия \"Истина\" и \"Ложь\" в Python имеют несколько иное, более широкое понятие.\n",
    "* Любое число отличное от нуля, а также любой непустой объект трактуется как истина\n",
    "* Пустые объекты, нуль и специальный объект None - ложные значения\n",
    "* Операции сравнения и проверки на равенство возвращают значение True или False"
   ]
  },
  {
   "cell_type": "code",
   "execution_count": 128,
   "metadata": {
    "id": "8zaiEcXwBwWX"
   },
   "outputs": [
    {
     "data": {
      "text/plain": [
       "bool"
      ]
     },
     "execution_count": 128,
     "metadata": {},
     "output_type": "execute_result"
    }
   ],
   "source": [
    "type(True)"
   ]
  },
  {
   "cell_type": "markdown",
   "metadata": {
    "id": "i_aYVCBLYF51"
   },
   "source": [
    "Логический тип `bool` представляет две константы True и False, отражающие истинное и ложное понятия соответственно. Однако сами понятия \"Истина\" и \"Ложь\" в Python имеют несколько иное, более широкое понятие, нежели\n",
    "в других языках программирования.\n",
    "* Любое число отличное от нуля, а также любой непустой объект трактуется как истина\n",
    "* Пустые объекты, нуль и специальный объект None - ложные значения\n",
    "* Операции сравнения и проверки на равенство возвращают значение True или False"
   ]
  },
  {
   "cell_type": "markdown",
   "metadata": {
    "id": "BwLr_o4_YF52"
   },
   "source": [
    "#### Логические операторы\n",
    "В Python существуют три основных логических оператора\n",
    "* `or` - логическое ИЛИ возвращает истину, если хотя бы один из объектов истина\n",
    "* `and` - логическое И возвращает истину только когда все объекты истинные\n",
    "* `not` - логическое НЕ обращает ложь в истину и наоборот"
   ]
  },
  {
   "cell_type": "code",
   "execution_count": 129,
   "metadata": {
    "id": "Azl0GImzBwWX"
   },
   "outputs": [
    {
     "data": {
      "text/plain": [
       "True"
      ]
     },
     "execution_count": 129,
     "metadata": {},
     "output_type": "execute_result"
    }
   ],
   "source": [
    "True or False"
   ]
  },
  {
   "cell_type": "code",
   "execution_count": 130,
   "metadata": {
    "id": "PL5w51wWBwWY"
   },
   "outputs": [
    {
     "data": {
      "text/plain": [
       "False"
      ]
     },
     "execution_count": 130,
     "metadata": {},
     "output_type": "execute_result"
    }
   ],
   "source": [
    "True and False"
   ]
  },
  {
   "cell_type": "code",
   "execution_count": 131,
   "metadata": {
    "id": "G3xLoAWoYF52",
    "scrolled": true
   },
   "outputs": [
    {
     "data": {
      "text/plain": [
       "True"
      ]
     },
     "execution_count": 131,
     "metadata": {},
     "output_type": "execute_result"
    }
   ],
   "source": [
    "not False"
   ]
  },
  {
   "cell_type": "markdown",
   "metadata": {
    "id": "aAvv7d67YF53"
   },
   "source": [
    "В Python присутствует необычное поведение логических операторов. Рассмотрим на примере"
   ]
  },
  {
   "cell_type": "code",
   "execution_count": 132,
   "metadata": {
    "id": "6ynK84UtYF53"
   },
   "outputs": [],
   "source": [
    "a = ''\n",
    "b = 10\n",
    "c = 1"
   ]
  },
  {
   "cell_type": "code",
   "execution_count": 133,
   "metadata": {
    "id": "qubLqT5HYF53"
   },
   "outputs": [
    {
     "data": {
      "text/plain": [
       "10"
      ]
     },
     "execution_count": 133,
     "metadata": {},
     "output_type": "execute_result"
    }
   ],
   "source": [
    "a or b or c"
   ]
  },
  {
   "cell_type": "markdown",
   "metadata": {
    "id": "yIPh9CwXYF54"
   },
   "source": [
    "Казалось бы результатом сравнения этих переменных должен быть либо True, либо False. В действительности же возвращаемое значение будет равняться 10. Это происходит потому, что на самом деле оператор `or` возвращает один объект из двух, а именно первый не пустой объект.\n",
    "\n",
    "Тоже самое касается и оператора `and`. Данный оператор возвращает либо первый ложный объект, либо последний истинный, если выражение дает истину"
   ]
  },
  {
   "cell_type": "code",
   "execution_count": 134,
   "metadata": {
    "id": "Hvmx3KCXYF54"
   },
   "outputs": [
    {
     "data": {
      "text/plain": [
       "''"
      ]
     },
     "execution_count": 134,
     "metadata": {},
     "output_type": "execute_result"
    }
   ],
   "source": [
    "a and c"
   ]
  },
  {
   "cell_type": "code",
   "execution_count": 135,
   "metadata": {
    "id": "4TMzet_nYF54"
   },
   "outputs": [
    {
     "data": {
      "text/plain": [
       "12"
      ]
     },
     "execution_count": 135,
     "metadata": {},
     "output_type": "execute_result"
    }
   ],
   "source": [
    "b and 12"
   ]
  },
  {
   "cell_type": "markdown",
   "metadata": {
    "id": "A-aF5CsxYF54"
   },
   "source": [
    "## Операторы ветвления"
   ]
  },
  {
   "cell_type": "markdown",
   "metadata": {
    "id": "kgp6FzYjBwWY"
   },
   "source": [
    "Операторы ветвления в программировании используются в тех случаях, когда в зависимости от выполнения или невыполнения какого-либо условия `condition` должны выполняться разные части кода программы. Как и во многих других языках программирования, оператор ветвления в Python задается ключевым словом `if`.\n",
    "\n",
    "Формат оператора `if` в общем виде:"
   ]
  },
  {
   "cell_type": "markdown",
   "metadata": {
    "id": "Yl7vHr7DYF54"
   },
   "source": [
    "```python\n",
    "if condition:\n",
    "    some code here\n",
    "elif condition:\n",
    "    some code here\n",
    "else:\n",
    "    some code here\n",
    "```"
   ]
  },
  {
   "cell_type": "markdown",
   "metadata": {
    "id": "MMvQE0A8YF54"
   },
   "source": [
    "После ключевого слова `if` задается простое или составное условие, при истинности которого выполняется соответствующий ему блок кода, выделенный отступом. Python поддерживает процедуру множественного ветвления, для этой цели есть инструкция `elif`. Часть кода, содержащаяся в блоке `else`, выполняется в том случае, если ни одно из условий перед этим не приняло значение True. Инструкции `elif` и `else` не являются обязательными при использовании `if`."
   ]
  },
  {
   "cell_type": "markdown",
   "metadata": {
    "id": "RSgZBz-vYF55"
   },
   "source": [
    "#### Примеры использования"
   ]
  },
  {
   "cell_type": "markdown",
   "metadata": {
    "id": "unCGNSgFYF55"
   },
   "source": [
    "Рассмотрим простейший пример использования условного оператора. Допустим у нас есть переменная $x$, которая считывается с клавиатуры. Наша \"программа\" имеет три варианта продолжения в зависимости от введенного значения x:"
   ]
  },
  {
   "cell_type": "code",
   "execution_count": 136,
   "metadata": {
    "id": "OA1J5tOMBwWZ"
   },
   "outputs": [
    {
     "name": "stdout",
     "output_type": "stream",
     "text": [
      "x > 5\n"
     ]
    }
   ],
   "source": [
    "x = float(input())\n",
    "if x > 5:\n",
    "    print('x > 5')\n",
    "elif x == 5:\n",
    "    print('x = 5')\n",
    "else:\n",
    "    print('x < 5')"
   ]
  },
  {
   "cell_type": "markdown",
   "metadata": {
    "id": "rOdwigcJYF55"
   },
   "source": [
    "Если вариантов продолжения всего два, то можно использовать более короткий вариант записи (так называемый тернарный условный оператор):"
   ]
  },
  {
   "cell_type": "code",
   "execution_count": 137,
   "metadata": {
    "id": "noKudvucYF55"
   },
   "outputs": [
    {
     "name": "stdout",
     "output_type": "stream",
     "text": [
      "x == 1\n"
     ]
    }
   ],
   "source": [
    "x = 1\n",
    "print('x == 1') if x == 1 else print('x != 1')"
   ]
  },
  {
   "cell_type": "markdown",
   "metadata": {
    "id": "a2epyEb4YF55"
   },
   "source": [
    "#### Задача 7.\n",
    "В переменной `name` должен содержаться текст с фамилией и именем человека, разделенных пробелом. Напишите программу, которая проверяет, что в переменной действительно находится два слова, а также делает так, что каждое слово начинается с заглавной буквы."
   ]
  },
  {
   "cell_type": "code",
   "execution_count": 143,
   "metadata": {
    "id": "QiebwbwZ2MwS"
   },
   "outputs": [
    {
     "name": "stdout",
     "output_type": "stream",
     "text": [
      "Иван Иванов\n"
     ]
    }
   ],
   "source": [
    "name = \"иван иванов\"\n",
    "\n",
    "\n",
    "if (len(name.split()) == 2) and all(word.isalpha() for word in name.split(\" \")):\n",
    "    print(name.title())\n",
    "else:\n",
    "    print(\"В строке не 2 слова или есть недопустимые символы\")"
   ]
  },
  {
   "cell_type": "markdown",
   "metadata": {
    "font-size": 8,
    "id": "_9_mYFZcgU0Q"
   },
   "source": [
    "## Циклы\n",
    "\n",
    "В Python доступны два стандартных цикла `while` и `for` - инструкции, которые повторяют одно и то же действие снова и снова."
   ]
  },
  {
   "cell_type": "markdown",
   "metadata": {
    "id": "TokD0ZMrBwWZ"
   },
   "source": [
    "Мы начнем изучение циклов с инструкции `while`. Конструкция открывается ключевым словом `while`, после которого следует проверка входного условия. Если условие срабатывает, то программа начнет исполнять код внутри конструкции. По достижении конца блока условие на входе цикла проверяется вновь"
   ]
  },
  {
   "cell_type": "markdown",
   "metadata": {
    "id": "gAK-Qme-gU0T"
   },
   "source": [
    "```python\n",
    "while condition:\n",
    "    <some code here>\n",
    "```"
   ]
  },
  {
   "cell_type": "markdown",
   "metadata": {
    "id": "RzI2fXkRgU0U"
   },
   "source": [
    "Посмотрим на примере. Пусть у нас имеется переменная $x = 1$. Далее проверяется условие на входе в цикл и так как действительно $1 != 5$, то интерпретатор заходит во вложеный блок кода. Далее, к $x$ будет добавлена двойка, и напечатано значение  $x$ на экран. После этого вновь проверится условие на входе и так как $3 != 5$,то все операции будут проделаны еще раз. Теперь $x = 5$, и входное условие не выполнится, программа завершится"
   ]
  },
  {
   "cell_type": "code",
   "execution_count": 144,
   "metadata": {
    "id": "DidORufIBwWZ"
   },
   "outputs": [
    {
     "name": "stdout",
     "output_type": "stream",
     "text": [
      "3\n",
      "5\n"
     ]
    }
   ],
   "source": [
    "x = 1\n",
    "while x != 5:\n",
    "    x += 2\n",
    "    print(x)"
   ]
  },
  {
   "cell_type": "markdown",
   "metadata": {
    "id": "7ocjRlGqgU0V"
   },
   "source": [
    "Инструкции `break` и `continue`"
   ]
  },
  {
   "cell_type": "markdown",
   "metadata": {
    "id": "PtZvkDLdgU0V"
   },
   "source": [
    "Возможно использование инструкций `break` и `continue` для немедленного выхода из цикла, либо пропуска вложенных операций для каких-нибудь особенных значений.\n",
    "\n",
    "Конкретно в этом примере мы имеем бесконечный цикл, в котором будет накапливаться сумма в переменной $x$. Данный цикл выполнялся бы бесконечно долго, если бы не явное прерывание при $x = 5$."
   ]
  },
  {
   "cell_type": "code",
   "execution_count": null,
   "metadata": {
    "id": "qMCe1ZTmBwWa"
   },
   "outputs": [
    {
     "name": "stdout",
     "output_type": "stream",
     "text": [
      "3\n"
     ]
    }
   ],
   "source": [
    "x = 1\n",
    "while True:\n",
    "    x += 2\n",
    "    if x == 5:\n",
    "        break\n",
    "    print(x)"
   ]
  },
  {
   "cell_type": "markdown",
   "metadata": {
    "id": "Ewa1L92RgU0W"
   },
   "source": [
    "В данном примере инструкция `print` внутри цикла никогда не будет напечатана, так как при первой проверке значение $x$ равно $3$ и сработает оператор `continue`, а на следующей проверке произойдет выход из цикла, так как x станет равным пяти."
   ]
  },
  {
   "cell_type": "code",
   "execution_count": null,
   "metadata": {
    "id": "yVE4bru4BwWa"
   },
   "outputs": [
    {
     "name": "stdout",
     "output_type": "stream",
     "text": [
      "5\n"
     ]
    }
   ],
   "source": [
    "x = 1\n",
    "while True:\n",
    "    x += 2\n",
    "    if x != 5:\n",
    "        continue\n",
    "    else:\n",
    "        break\n",
    "    print(\"never get printed\")\n",
    "print(x)"
   ]
  },
  {
   "cell_type": "markdown",
   "metadata": {
    "id": "FWPkLW3MgU0X"
   },
   "source": [
    "#### Задача 8.\n",
    "В переменной `text` хранится текст, в котором мы должны оставить столько первых предложений, чтобы удовлетворить ограничению по количеству слов, заданному в переменной `word_number`."
   ]
  },
  {
   "cell_type": "code",
   "execution_count": 170,
   "metadata": {
    "id": "W5CjiA-8gU0X"
   },
   "outputs": [],
   "source": [
    "text = \"\"\"Я никогда не учу своих учеников. Я только даю условия, при которых они могут сами учиться\n",
    "B учении нет более удобного способа, чем личные встречи с учителем.\n",
    "Без примеров невозможно ни правильно учить, ни успешно учиться.\n",
    "Безграмотность доверчива и легкомысленна.\n",
    "Благодаря истинному знанию ты будешь гораздо смелее и совершеннее в каждой работе, нежели без него.\n",
    "Большинство вещей, которым нас учат, конечно, вполне правдивы и правильны, но на все можно смотреть и совсем не так, как учителя, и тогда они большей частью приобретают куда лучший смысл.\n",
    "Большое преимущество получает тот, кто достаточно рано сделал ошибки, на которых можно учиться.\n",
    "Буква учит, буква же и портит.\n",
    "Быстрее и лучше всего учишься, когда учишь других.\n",
    "Быть умным и хорошо учиться — две разные вещи.\n",
    "В воспитании всё дело в том, кто воспитатель.\n",
    "В древности люди учились для того, чтобы совершенствовать себя. Ныне учатся для того, чтобы удивить других.\n",
    "В конце концов имеет значение только то, чему ты научился и что по-настоящему усвоил.\n",
    "В наших школах не учат самому главному — искусству читать газеты.\n",
    "В одном просвещении найдем мы спасительное противоядие для всех бедствий человечества.\n",
    "В школе нельзя всему научиться — нужно научиться учиться.\n",
    "Важно не количество знаний, а качество их. Можно знать очень многое, не зная самого нужного.\n",
    "Везде исследуйте всечасно, Что есть велико и прекрасно.\n",
    "Век живи — век учись! и ты наконец достигнешь того, что, подобно мудрецу, будешь иметь право сказать, что ничего не знаешь.\n",
    "Великая цель образования — не только знания, но и прежде всего действия.\"\"\""
   ]
  },
  {
   "cell_type": "code",
   "execution_count": null,
   "metadata": {
    "id": "AjmzVJ7K2OuX"
   },
   "outputs": [
    {
     "data": {
      "text/plain": [
       "'Я никогда не учу своих учеников. Я только даю условия, при которых они могут сами учиться\\nB учении нет более удобного способа, чем личные встречи с учителем.\\nБез примеров невозможно ни правильно учить, ни успешно учиться.\\nБезграмотность доверчива и легкомысленна.'"
      ]
     },
     "execution_count": 181,
     "metadata": {},
     "output_type": "execute_result"
    }
   ],
   "source": [
    "word_number = 50\n",
    "\n",
    "text_split = text.split(\"\\n\")\n",
    "nwords = len(text.split(\" \"))\n",
    "\n",
    "while nwords > word_number:\n",
    "    del text_split[-1]\n",
    "    text_new = \"\\n\".join(text_split)\n",
    "    nwords = len(text_new.split(\" \"))\n",
    "\n",
    "text_new"
   ]
  },
  {
   "cell_type": "markdown",
   "metadata": {
    "id": "x5Z8uowPBwWa"
   },
   "source": [
    "#### Цикл `for`"
   ]
  },
  {
   "cell_type": "markdown",
   "metadata": {
    "id": "i7-YhBs0gU0X"
   },
   "source": [
    "Перейдем теперь ко второму циклу `for`. Идея цикла заключается в том, чтобы выполнить блок кода для каждого элемента коллекции. Синтаксис данного цикла несколько отличается от цикла `while`. Конструкция цикла начинается с ключевого слова `for`, далее идет переменная цикла `variable` и после ключевого слова `in` - коллекция объектов для обхода `iterable`. Для каждого элемента коллекции `variable` будет выполнен блок кода, выделенный отступом"
   ]
  },
  {
   "cell_type": "markdown",
   "metadata": {
    "id": "GNhXcVDQgU0X"
   },
   "source": [
    "```python\n",
    "for variable in iterable:\n",
    "    <some code here>\n",
    "```\n",
    "\n",
    "<!-- _Примечание:_ Под итерируемым объектом в данном случае понимается коллекция элементов, для которой задан некоторый порядок обхода или, забегая вперед, определены методы `__iter__()` и `__next__()` -->"
   ]
  },
  {
   "cell_type": "markdown",
   "metadata": {
    "id": "Y3zVA4xHgU0Y"
   },
   "source": [
    "В данном примере переменной цикла является i, а коллекцией объектов - список, содержащий четыре элемента."
   ]
  },
  {
   "cell_type": "code",
   "execution_count": 182,
   "metadata": {
    "id": "SOAcH_IXBwWa"
   },
   "outputs": [
    {
     "name": "stdout",
     "output_type": "stream",
     "text": [
      "0\n",
      "1\n",
      "2\n",
      "3\n"
     ]
    }
   ],
   "source": [
    "for i in [0, 1, 2, 3]:\n",
    "    print(i)"
   ]
  },
  {
   "cell_type": "markdown",
   "metadata": {
    "id": "4h1wnIxbBwWb"
   },
   "source": [
    "Для задания коллекции итерируемых объектов очень часто удобно использовать функцию `range`.\n",
    "Функция `range` генерирует последовательность чисел от $\\textit{start}$\n",
    "до $\\textit{end}$ (не включая правую границу) с шагом $\\textit{step}$ (по умолчанию $\\textit{step}=1$)"
   ]
  },
  {
   "cell_type": "markdown",
   "metadata": {
    "id": "3MohHxCigU0Y"
   },
   "source": [
    "Функция `range`\n",
    "```python\n",
    "range(start, end, step)\n",
    "```"
   ]
  },
  {
   "cell_type": "markdown",
   "metadata": {
    "id": "U_D9bfaugU0Y"
   },
   "source": [
    "Простейший случай применения функции `range` - это обход целых чисел от $0$ до заданного значения"
   ]
  },
  {
   "cell_type": "code",
   "execution_count": 183,
   "metadata": {
    "id": "tNHNlT9ABwWb"
   },
   "outputs": [
    {
     "name": "stdout",
     "output_type": "stream",
     "text": [
      "0\n",
      "1\n",
      "2\n",
      "3\n"
     ]
    }
   ],
   "source": [
    "for i in range(0, 4, 1):\n",
    "    print(i)"
   ]
  },
  {
   "cell_type": "code",
   "execution_count": 184,
   "metadata": {
    "id": "FHo-4BC6gU0Z"
   },
   "outputs": [
    {
     "name": "stdout",
     "output_type": "stream",
     "text": [
      "0\n",
      "1\n",
      "2\n",
      "3\n"
     ]
    }
   ],
   "source": [
    "for i in range(4):\n",
    "    print(i)"
   ]
  },
  {
   "cell_type": "markdown",
   "metadata": {
    "id": "AwIeb7g_gU0Z"
   },
   "source": [
    "Несколько более сложный пример. Здесь обход совершается от $2$ до $5$ с шагом $2$."
   ]
  },
  {
   "cell_type": "code",
   "execution_count": 185,
   "metadata": {
    "id": "3GUzKo-oBwWb"
   },
   "outputs": [
    {
     "name": "stdout",
     "output_type": "stream",
     "text": [
      "2\n",
      "4\n"
     ]
    }
   ],
   "source": [
    "for i in range(2, 5, 2):\n",
    "    print(i)"
   ]
  },
  {
   "cell_type": "markdown",
   "metadata": {
    "id": "TYpiZNeUgU0Z"
   },
   "source": [
    "Цикл `for` может идти по любому итерируемому объекту"
   ]
  },
  {
   "cell_type": "code",
   "execution_count": null,
   "metadata": {
    "id": "LJmvwzaZBwWb"
   },
   "outputs": [
    {
     "name": "stdout",
     "output_type": "stream",
     "text": [
      "s\n",
      "t\n",
      "r\n",
      "o\n",
      "k\n",
      "a\n"
     ]
    }
   ],
   "source": [
    "for i in \"stroka\":\n",
    "    print(i)"
   ]
  },
  {
   "cell_type": "code",
   "execution_count": null,
   "metadata": {
    "id": "juRj9ehnBwWc"
   },
   "outputs": [
    {
     "name": "stdout",
     "output_type": "stream",
     "text": [
      "stroka\n",
      "1000\n"
     ]
    }
   ],
   "source": [
    "for i in [\"stroka\", 1000]:\n",
    "    print(i)"
   ]
  },
  {
   "cell_type": "code",
   "execution_count": 188,
   "metadata": {
    "id": "3xEOQeObgU0a"
   },
   "outputs": [
    {
     "name": "stdout",
     "output_type": "stream",
     "text": [
      "some\n",
      "random\n",
      "dict\n"
     ]
    }
   ],
   "source": [
    "d = {\"some\": \"af\", \"random\": 12, \"dict\": []}\n",
    "for key in d:\n",
    "    print(key)"
   ]
  },
  {
   "cell_type": "markdown",
   "metadata": {
    "id": "lN9wL--OgU0a"
   },
   "source": [
    "####  Задача 9.\n",
    "В переменной `text` находится текст про девочку Дашу. Напишите программу, которая подсчитывает какое количество раз в тексте упоминается её имя."
   ]
  },
  {
   "cell_type": "code",
   "execution_count": 191,
   "metadata": {
    "id": "7JVJ4-3lgU0a"
   },
   "outputs": [],
   "source": [
    "text = \"\"\"Жила была на свете самая обыкновенная девочка и звали её Даша. Даша ничем не отличалась от своих сверстниц. Разве что своими большими голубыми глазами, которыми она смотрела на мир, совсем по -другому. Несмотря на то, что жила она, как и все её сверстницы в современном большом многоэтажном доме. Так же как и все ходила в школу, делала уроки, в свободное время гуляла. В общем, всё как у всех. Если бы ни одно, но об этом немножечко позже.\n",
    "\n",
    "Пожалуй единственное что отличало Дашу от всех остальных девочек, так это её представление и её видение современного мира. Дело в том, что Даша видела всё по-другому. Всё это происходило из -за того, что она часто оставалась одна и её фантазия развилась до невероятных возможностей. Хотя может быть и из -за того, что это была её индивидуальная особенность. Её мир иллюзий был настолько широк и безграничен, что Даша всегда находила что-то интересное в самом обычном.\n",
    "\n",
    "Но самое интересное в этом было то, что сама Даша этого не замечала. Это происходило помимо неё. Всё самое необычное происходило с ней само собой и без её участия.\n",
    "\n",
    "Мама у Даши много работала, как сейчас это часто бывает, и очень часто задерживалась на работе. Бывало и такое, что она выходила на работу в выходные и даже брала работу на дом.\n",
    "\n",
    "Даше очень не хватало внимания мамы и простого общения.\n",
    "\n",
    "Наверное именно по этой причине и произошла вся эта невероятная история. Если бы всё было по-другому, то скорее всего с Дашей бы ничего и не произошло, и не происходило в дальнейшем.\"\"\""
   ]
  },
  {
   "cell_type": "code",
   "execution_count": 192,
   "metadata": {
    "id": "8_-SdHuw2Qog"
   },
   "outputs": [
    {
     "data": {
      "text/plain": [
       "8"
      ]
     },
     "execution_count": 192,
     "metadata": {},
     "output_type": "execute_result"
    }
   ],
   "source": [
    "counter = 0\n",
    "\n",
    "for word in text.split(' '):\n",
    "    if word.lower().startswith(\"даш\"):\n",
    "        counter += 1\n",
    "\n",
    "counter"
   ]
  },
  {
   "cell_type": "markdown",
   "metadata": {
    "id": "p3q0B9FXgU0b"
   },
   "source": [
    "### Генераторы списков"
   ]
  },
  {
   "cell_type": "markdown",
   "metadata": {
    "id": "hLQuiKB3gU0b"
   },
   "source": [
    "Ранее мы показали две инструкции циклов в Python: `while` и `for`. В целом, этих инструкций достаточно для решения многих задач. Однако переборы последовательностей в программировании возникают настолько часто, что были введены дополнительные инструменты, делающие эту операцию более простой и эффективной."
   ]
  },
  {
   "cell_type": "code",
   "execution_count": 198,
   "metadata": {
    "id": "b2B8D1CzgU0c"
   },
   "outputs": [],
   "source": [
    "L = [1, 2, 3, 4, 5]\n",
    "for i in range(len(L)):\n",
    "    L[i] += 10"
   ]
  },
  {
   "cell_type": "code",
   "execution_count": 199,
   "metadata": {},
   "outputs": [
    {
     "data": {
      "text/plain": [
       "[11, 12, 13, 14, 15]"
      ]
     },
     "execution_count": 199,
     "metadata": {},
     "output_type": "execute_result"
    }
   ],
   "source": [
    "L"
   ]
  },
  {
   "cell_type": "markdown",
   "metadata": {
    "id": "V1L2Q9jHgU0c"
   },
   "source": [
    "Теперь с сделаем то же самое, но с использованием генератора списков"
   ]
  },
  {
   "cell_type": "code",
   "execution_count": 200,
   "metadata": {
    "id": "1F9vkLTXgU0c"
   },
   "outputs": [],
   "source": [
    "L = [1, 2, 3, 4, 5]\n",
    "L = [x + 10 for x in L]"
   ]
  },
  {
   "cell_type": "code",
   "execution_count": 201,
   "metadata": {},
   "outputs": [
    {
     "data": {
      "text/plain": [
       "[11, 12, 13, 14, 15]"
      ]
     },
     "execution_count": 201,
     "metadata": {},
     "output_type": "execute_result"
    }
   ],
   "source": [
    "L"
   ]
  },
  {
   "cell_type": "markdown",
   "metadata": {
    "id": "4eqIGntrgU0c"
   },
   "source": [
    "#### Синтаксис генераторов списков"
   ]
  },
  {
   "cell_type": "markdown",
   "metadata": {
    "id": "gnjDC-A2gU0d"
   },
   "source": [
    "Общий вид генераторов списков выглядит следующим образом. На первом месте в квадратных скобках записывается блок кода, который выполняется для каждого элемента цикла и уже затем записывается сама конструкция цикла."
   ]
  },
  {
   "cell_type": "markdown",
   "metadata": {
    "id": "4qjqHv8ZgU0d"
   },
   "source": [
    "```python\n",
    "    [<some code> for <varible> in <iterable>]\n",
    "```\n",
    "\n",
    "<!-- В действительности генераторы списков могут иметь гораздо более сложную структуру. В частности, можно дополнять генератор операторами `if` или же писать вложенные циклы. -->"
   ]
  },
  {
   "cell_type": "markdown",
   "metadata": {
    "id": "_FCBhyBggU0d"
   },
   "source": [
    "Например, здесь будет создан список из десяти элементов"
   ]
  },
  {
   "cell_type": "code",
   "execution_count": 202,
   "metadata": {
    "id": "mfpECupggU0d"
   },
   "outputs": [
    {
     "data": {
      "text/plain": [
       "[0, 1, 2, 3, 4, 5, 6, 7, 8, 9]"
      ]
     },
     "execution_count": 202,
     "metadata": {},
     "output_type": "execute_result"
    }
   ],
   "source": [
    "[i for i in range(10)]"
   ]
  },
  {
   "cell_type": "markdown",
   "metadata": {
    "id": "2E_ty8yTgU0d"
   },
   "source": [
    "В генераторы списков можно включать условные выражения"
   ]
  },
  {
   "cell_type": "code",
   "execution_count": 203,
   "metadata": {
    "id": "6yJnWKYFgU0d"
   },
   "outputs": [
    {
     "data": {
      "text/plain": [
       "[0, 2, 4, 6, 8]"
      ]
     },
     "execution_count": 203,
     "metadata": {},
     "output_type": "execute_result"
    }
   ],
   "source": [
    "[i for i in range(10) if i % 2 == 0]"
   ]
  },
  {
   "cell_type": "markdown",
   "metadata": {
    "id": "gGOLDu0_gU0d"
   },
   "source": [
    "При использовании полной конструкции условного оператора ее следует писать перед инструкцией `for`"
   ]
  },
  {
   "cell_type": "code",
   "execution_count": 204,
   "metadata": {
    "id": "VHq4UaC4gU0e"
   },
   "outputs": [
    {
     "data": {
      "text/plain": [
       "[0, -1, 2, -1, 4, -1, 6, -1, 8, -1]"
      ]
     },
     "execution_count": 204,
     "metadata": {},
     "output_type": "execute_result"
    }
   ],
   "source": [
    "[i if i % 2 == 0 else -1 for i in range(10)]"
   ]
  },
  {
   "cell_type": "markdown",
   "metadata": {
    "id": "IIcwFB5HEJ0z"
   },
   "source": [
    "## Функции\n",
    "\n",
    "Основная цель использования функций - избавиться от дублирования кода в программе. Помимо этого, использование функций делает код лаконичным и упрощает его понимание."
   ]
  },
  {
   "cell_type": "markdown",
   "metadata": {
    "id": "FA0xz1LzBwWc"
   },
   "source": [
    "### Встроенные функции\n",
    "Python предоставляет набор [встроенных функций](https://docs.python.org/3/library/functions.html) доступных по умолчанию. Это набор полезных операций и команд, часто используемых программистами. Рассмотрим некоторые из них"
   ]
  },
  {
   "cell_type": "markdown",
   "metadata": {
    "id": "C4ub-DBNEJ05"
   },
   "source": [
    "Функция `len` вычисляет длину коллекции (количество элементов)"
   ]
  },
  {
   "cell_type": "code",
   "execution_count": 205,
   "metadata": {
    "id": "V4ZGICKTBwWc"
   },
   "outputs": [
    {
     "data": {
      "text/plain": [
       "4"
      ]
     },
     "execution_count": 205,
     "metadata": {},
     "output_type": "execute_result"
    }
   ],
   "source": [
    "len('abcd')"
   ]
  },
  {
   "cell_type": "markdown",
   "metadata": {
    "id": "aYcIdNtpEJ08"
   },
   "source": [
    "Функция `print` выводит объект на экран"
   ]
  },
  {
   "cell_type": "code",
   "execution_count": 206,
   "metadata": {
    "id": "ARs6okDDBwWc"
   },
   "outputs": [
    {
     "name": "stdout",
     "output_type": "stream",
     "text": [
      "a\n"
     ]
    }
   ],
   "source": [
    "print('a')"
   ]
  },
  {
   "cell_type": "markdown",
   "metadata": {
    "id": "-yNlk7O2EJ09"
   },
   "source": [
    "Функция `abs` вычисляет модуль числа"
   ]
  },
  {
   "cell_type": "code",
   "execution_count": 207,
   "metadata": {
    "id": "fyLaQoSTBwWd"
   },
   "outputs": [
    {
     "data": {
      "text/plain": [
       "4"
      ]
     },
     "execution_count": 207,
     "metadata": {},
     "output_type": "execute_result"
    }
   ],
   "source": [
    "abs(-4)"
   ]
  },
  {
   "cell_type": "markdown",
   "metadata": {
    "id": "7cw8qvkUEJ0-"
   },
   "source": [
    "Функция `sum` суммирует числовую последовательность"
   ]
  },
  {
   "cell_type": "code",
   "execution_count": 208,
   "metadata": {
    "id": "YrnfSOKgBwWd"
   },
   "outputs": [
    {
     "data": {
      "text/plain": [
       "10"
      ]
     },
     "execution_count": 208,
     "metadata": {},
     "output_type": "execute_result"
    }
   ],
   "source": [
    "sum([1, 2, 3, 4])"
   ]
  },
  {
   "cell_type": "markdown",
   "metadata": {
    "id": "TDv7sMsIBwWd"
   },
   "source": [
    "Остальные встроенные функции [здесь](https://docs.python.org/3/library/functions.html)"
   ]
  },
  {
   "cell_type": "markdown",
   "metadata": {
    "id": "YA58OBefBwWd"
   },
   "source": [
    "### Объявление функции\n",
    "Можно создавать и свои функции. Для объявления функции используется инструкция `def`, далее следует название функции, и в круглых скобках передаются необходимые аргументы `arguments`."
   ]
  },
  {
   "cell_type": "markdown",
   "metadata": {
    "id": "xTL5wZ1FBwWd"
   },
   "source": [
    "**Общий вид**\n",
    "\n",
    "```python\n",
    "def function_name(arguments):\n",
    "\n",
    "    <some code here>\n",
    "    return <something>\n",
    "```"
   ]
  },
  {
   "cell_type": "markdown",
   "metadata": {
    "id": "pEZD8tQ9EJ1B"
   },
   "source": [
    "В данном случае функция f принимает в качестве агрумента переменную $x$,добавляет к ней 2 и возвращает новое значение обратно. Для возвращения результата исполнения функции нужно использовать ключевое слово `return`, чтобы функция возвращала результат своих операций"
   ]
  },
  {
   "cell_type": "code",
   "execution_count": 209,
   "metadata": {
    "id": "Qyy8Eo3IBwWe"
   },
   "outputs": [],
   "source": [
    "def f(x):\n",
    "    y = x + 2\n",
    "    return y"
   ]
  },
  {
   "cell_type": "code",
   "execution_count": 210,
   "metadata": {
    "id": "0Zp8mT-aBwWe"
   },
   "outputs": [
    {
     "data": {
      "text/plain": [
       "3"
      ]
     },
     "execution_count": 210,
     "metadata": {},
     "output_type": "execute_result"
    }
   ],
   "source": [
    "f(1)"
   ]
  },
  {
   "cell_type": "markdown",
   "metadata": {
    "id": "QdvLIEujEJ1C"
   },
   "source": [
    "Функция может принимать бесконечное число аргументов, а может и не иметь ни одного:"
   ]
  },
  {
   "cell_type": "code",
   "execution_count": 211,
   "metadata": {
    "id": "Go-meuwcBwWe"
   },
   "outputs": [],
   "source": [
    "def name_func():\n",
    "    return 'I am function'"
   ]
  },
  {
   "cell_type": "code",
   "execution_count": 212,
   "metadata": {
    "id": "4hh9Vuy6BwWe"
   },
   "outputs": [
    {
     "data": {
      "text/plain": [
       "'I am function'"
      ]
     },
     "execution_count": 212,
     "metadata": {},
     "output_type": "execute_result"
    }
   ],
   "source": [
    "name_func()"
   ]
  },
  {
   "cell_type": "markdown",
   "metadata": {
    "id": "K8RPfs3HEJ1E"
   },
   "source": [
    "Ключевое слово `return` не является обязательным. Оно необходимо, если в дальнейшем нужно вернуть результат ее работы. Рассмотрим следующий пример. В этом случае функция `mult` печатает результат перемножения двух чисел, но не возвращает его, так как ключевого слова `return` нет. В этом случае Python возвращает объект None."
   ]
  },
  {
   "cell_type": "code",
   "execution_count": 213,
   "metadata": {
    "id": "GEG4j2zVBwWe"
   },
   "outputs": [],
   "source": [
    "def mult(x, y):\n",
    "    print(x * y)"
   ]
  },
  {
   "cell_type": "code",
   "execution_count": 214,
   "metadata": {
    "id": "OoYiicN5BwWf"
   },
   "outputs": [
    {
     "name": "stdout",
     "output_type": "stream",
     "text": [
      "2\n",
      "None\n"
     ]
    }
   ],
   "source": [
    "a = mult(1, 2)\n",
    "print(a)"
   ]
  },
  {
   "cell_type": "markdown",
   "metadata": {
    "id": "pLOpc8AjEJ1F"
   },
   "source": [
    "В этом примере в программе есть ключевое слово `return`, и в переменную `a` возвращается результат работы функции."
   ]
  },
  {
   "cell_type": "code",
   "execution_count": 215,
   "metadata": {
    "id": "18Kgey7KBwWf"
   },
   "outputs": [],
   "source": [
    "def mult(x, y):\n",
    "    print(x * y)\n",
    "    return x * y"
   ]
  },
  {
   "cell_type": "code",
   "execution_count": 216,
   "metadata": {
    "id": "8gzVstTbBwWf"
   },
   "outputs": [
    {
     "name": "stdout",
     "output_type": "stream",
     "text": [
      "2\n",
      "2\n"
     ]
    }
   ],
   "source": [
    "a = mult(1, 2)\n",
    "print(a)"
   ]
  },
  {
   "cell_type": "markdown",
   "metadata": {
    "id": "gNXcU37GEJ1F"
   },
   "source": [
    "Как видно использование ключевого слова `return` необязательное, и его можно не писать, если, например, задача функции состоит в изменении чего-либо \"на месте\" (изменение элементов списка, например). В таком случае инструкция `return` существует неявно и возвращается значение `None`."
   ]
  },
  {
   "cell_type": "markdown",
   "metadata": {
    "id": "vcGmitxJEJ1G"
   },
   "source": [
    "В Python есть возможность задать значение аргумента функции по умолчанию"
   ]
  },
  {
   "cell_type": "markdown",
   "metadata": {
    "id": "JsYP7YccEJ1G"
   },
   "source": [
    "В этом примере агрумент `c` принимает значение 1 по умолчанию и дает возможность не писать его в агрументы функции при вызове, если это значение по умолчанию нас устраивает.\n",
    "\n",
    "Такие агрументы называют именованными, а без значения по умолчанию - порядковыми"
   ]
  },
  {
   "cell_type": "code",
   "execution_count": 217,
   "metadata": {
    "id": "85Y9QuH8BwWg"
   },
   "outputs": [],
   "source": [
    "def pew(a, b, c=1):\n",
    "    return a + b - c"
   ]
  },
  {
   "cell_type": "code",
   "execution_count": 218,
   "metadata": {
    "id": "LG81-_wcBwWh"
   },
   "outputs": [
    {
     "data": {
      "text/plain": [
       "2"
      ]
     },
     "execution_count": 218,
     "metadata": {},
     "output_type": "execute_result"
    }
   ],
   "source": [
    "pew(1, 2)"
   ]
  },
  {
   "cell_type": "markdown",
   "metadata": {
    "id": "luIpESvJEJ1I"
   },
   "source": [
    "Если же нам нужно переопределить это значение, то нужно просто передать ему новое значение в соответствии с его порядковым нормером или указав явно."
   ]
  },
  {
   "cell_type": "code",
   "execution_count": 219,
   "metadata": {
    "id": "Xlkie2HFBwWh"
   },
   "outputs": [
    {
     "data": {
      "text/plain": [
       "0"
      ]
     },
     "execution_count": 219,
     "metadata": {},
     "output_type": "execute_result"
    }
   ],
   "source": [
    "pew(1, 2, 3)"
   ]
  },
  {
   "cell_type": "code",
   "execution_count": 220,
   "metadata": {
    "id": "X4rrpAuVBwWh"
   },
   "outputs": [
    {
     "data": {
      "text/plain": [
       "3"
      ]
     },
     "execution_count": 220,
     "metadata": {},
     "output_type": "execute_result"
    }
   ],
   "source": [
    "pew(c=2, a=2, b=3)"
   ]
  },
  {
   "cell_type": "markdown",
   "metadata": {
    "id": "yA3bT1vUEJ1J"
   },
   "source": [
    "Функцию можно задавать с произвольным числом порядковых и (или) именованных агрументов через операторы `*` и `**`."
   ]
  },
  {
   "cell_type": "markdown",
   "metadata": {
    "id": "4-g1qDzdEJ1J"
   },
   "source": [
    "Создадим функцию с произвольным количеством порядковых аргументов. В данном случае оператор `*` ставится перед ожидаемой переменной. Сами передванные значения приходят в функцию в переменной `args` в виде кортежа"
   ]
  },
  {
   "cell_type": "code",
   "execution_count": 221,
   "metadata": {
    "id": "PlmN1CLdBwWh"
   },
   "outputs": [],
   "source": [
    "def f(*args):\n",
    "    print(args)\n",
    "    return args[0] + args[1]"
   ]
  },
  {
   "cell_type": "code",
   "execution_count": 222,
   "metadata": {
    "id": "WfXxVMcWBwWi"
   },
   "outputs": [
    {
     "name": "stdout",
     "output_type": "stream",
     "text": [
      "(1, 2, 3, 4, 5)\n"
     ]
    },
    {
     "data": {
      "text/plain": [
       "3"
      ]
     },
     "execution_count": 222,
     "metadata": {},
     "output_type": "execute_result"
    }
   ],
   "source": [
    "f(1, 2, 3, 4, 5)"
   ]
  },
  {
   "cell_type": "markdown",
   "metadata": {
    "id": "x8iwF8Z_EJ1J"
   },
   "source": [
    "Переменная `args` является просто переменной, это не ключевое слово, поэтому ее можно заменять на любую другую, ключевым здесь является оператор `*`"
   ]
  },
  {
   "cell_type": "code",
   "execution_count": 223,
   "metadata": {
    "id": "xKNzG9bGBwWi"
   },
   "outputs": [],
   "source": [
    "def f(*a):\n",
    "    print(a)\n",
    "    return a[0] * a[1], 10 * a[2], a[3], a[4]"
   ]
  },
  {
   "cell_type": "code",
   "execution_count": 224,
   "metadata": {
    "id": "dSxzfnBTBwWi"
   },
   "outputs": [
    {
     "name": "stdout",
     "output_type": "stream",
     "text": [
      "(1, 2, 3, 4, 5)\n"
     ]
    },
    {
     "data": {
      "text/plain": [
       "(2, 30, 4, 5)"
      ]
     },
     "execution_count": 224,
     "metadata": {},
     "output_type": "execute_result"
    }
   ],
   "source": [
    "f(1, 2, 3, 4, 5)"
   ]
  },
  {
   "cell_type": "markdown",
   "metadata": {
    "id": "vevfK1rMEJ1K"
   },
   "source": [
    "Аналогично можно создать функцию с бесконечным числом именованных агрументов, воспользовавшись оператором `**`. Разница будет в том, что теперь в переменной `kwargs` будет не кортеж, а словарь из переданных аргументов."
   ]
  },
  {
   "cell_type": "code",
   "execution_count": 225,
   "metadata": {
    "id": "3T_6SYs8BwWj"
   },
   "outputs": [],
   "source": [
    "def f(**kwargs):\n",
    "    print(kwargs)\n",
    "    print(kwargs['a'], kwargs['b'])"
   ]
  },
  {
   "cell_type": "code",
   "execution_count": 226,
   "metadata": {
    "id": "QNsvVX8EBwWj"
   },
   "outputs": [
    {
     "name": "stdout",
     "output_type": "stream",
     "text": [
      "{'a': 1, 'b': 3}\n",
      "1 3\n"
     ]
    }
   ],
   "source": [
    "f(a=1, b=3)"
   ]
  },
  {
   "cell_type": "markdown",
   "metadata": {
    "id": "-QIN3tjqEJ1K"
   },
   "source": [
    "Возможны и более гибкие способы задания функций. Например, для функции `f` помимо  двух обязательных порядковых аргументов `y` и `r` и одного именованного агрумента `j`, который по умолчанию равен десяти, также возможно передать любое количество дополнительных порядковых и именованных аргументов"
   ]
  },
  {
   "cell_type": "code",
   "execution_count": 227,
   "metadata": {
    "id": "AdMReVrKBwWj"
   },
   "outputs": [],
   "source": [
    "def f(r, y, *a, j=10, **kw):\n",
    "    print(r, y)\n",
    "    print(kw)\n",
    "    print(a)\n",
    "    print(j)"
   ]
  },
  {
   "cell_type": "code",
   "execution_count": 228,
   "metadata": {
    "id": "LuqRPAioBwWk"
   },
   "outputs": [
    {
     "name": "stdout",
     "output_type": "stream",
     "text": [
      "678 677777\n",
      "{'b': 1, 't': 3}\n",
      "()\n",
      "ghjg\n"
     ]
    }
   ],
   "source": [
    "f(678, 677777, j='ghjg', b=1, t=3)"
   ]
  },
  {
   "cell_type": "markdown",
   "metadata": {
    "id": "EXkKLSkESTMO"
   },
   "source": [
    "#### Задача 10\n",
    "\n",
    "Напишите функцию `letter`, которая на вход принимает две переменных имя и отчество. И возвращает следующую строку:\n",
    "\n",
    "\"Добрый день, [имя] [отчество]!\n",
    "\n",
    "Пришлите, пожалуйства ваши данные.\n",
    "\n",
    "С уважением, программист\""
   ]
  },
  {
   "cell_type": "code",
   "execution_count": 236,
   "metadata": {
    "id": "3BTYd7_72UMt"
   },
   "outputs": [],
   "source": [
    "def letter(name, patronymic):\n",
    "    return f\"Добрый день, {name} {patronymic}!\\n\\nПришлите, пожалуйства ваши данные.\\n\\nС уважением, программист\""
   ]
  },
  {
   "cell_type": "code",
   "execution_count": 238,
   "metadata": {},
   "outputs": [
    {
     "name": "stdout",
     "output_type": "stream",
     "text": [
      "Добрый день, Иван Иванович!\n",
      "\n",
      "Пришлите, пожалуйства ваши данные.\n",
      "\n",
      "С уважением, программист\n"
     ]
    }
   ],
   "source": [
    "print(letter('Иван', 'Иванович'))"
   ]
  },
  {
   "cell_type": "markdown",
   "metadata": {
    "id": "1YspfNlDEJ1M"
   },
   "source": [
    "#### Задача 11\n",
    "---\n",
    "Написать функцию, которая возвращает строку:\n",
    "\n",
    "\"Добрый день, [фамилия] [имя]!\", если передано два аргумента,\n",
    "\n",
    "\"Добрый день, [фамилия] [имя] [отчество]!\" если передано три аргумента.\n"
   ]
  },
  {
   "cell_type": "code",
   "execution_count": 239,
   "metadata": {
    "id": "yUQ6hppB2WTi"
   },
   "outputs": [],
   "source": [
    "def letter1(**fio):\n",
    "    if len(fio) == 2:\n",
    "        return f\"Добрый день, {fio['surname']} {fio['name']}!\"\n",
    "    elif len(fio) == 3:\n",
    "        return f\"Добрый день, {fio['surname']} {fio['name']} {fio['patronymic']}!\"\n",
    "    else:\n",
    "        return \"Неверное количество аргументов\""
   ]
  },
  {
   "cell_type": "code",
   "execution_count": 242,
   "metadata": {},
   "outputs": [
    {
     "data": {
      "text/plain": [
       "'Добрый день, Иванов Иван Иванович!'"
      ]
     },
     "execution_count": 242,
     "metadata": {},
     "output_type": "execute_result"
    }
   ],
   "source": [
    "letter1(name=\"Иван\", surname=\"Иванов\", patronymic=\"Иванович\")"
   ]
  },
  {
   "cell_type": "code",
   "execution_count": 243,
   "metadata": {},
   "outputs": [
    {
     "data": {
      "text/plain": [
       "'Добрый день, Иванов Иван!'"
      ]
     },
     "execution_count": 243,
     "metadata": {},
     "output_type": "execute_result"
    }
   ],
   "source": [
    "letter1(name=\"Иван\", surname=\"Иванов\")"
   ]
  },
  {
   "cell_type": "markdown",
   "metadata": {
    "id": "3g5W_B2UEJ1M"
   },
   "source": [
    "### Области видимости\n",
    "Под областью видимости мы будем понимать некоторое пространство имен переменных в коде, которым было присвоено значение. Сами имена переменных, функций и других объектов начинают существовать, когда им присваивается некоторое значение. Так как в Python переменные не задаются заранее, то имена переменных привязываются к тому пространству имен, где было проведено присваивание."
   ]
  },
  {
   "cell_type": "markdown",
   "metadata": {
    "id": "SlNMvWU2EJ1N"
   },
   "source": [
    "До использования функций все наши операции происходили на самом высоком уровне пространств имен - глобальном. Теперь при объявлении переменных внутри каждой функции будут создаваться локальные области видимости."
   ]
  },
  {
   "cell_type": "markdown",
   "metadata": {
    "id": "3SPvQtO8EJ1N"
   },
   "source": [
    "В данном примере мы создали две переменных с именем `a`: первую в глобальной области видимости, вторую - локально внутри функции `func`. Присваивание `a = 10` происходит внутри функции, где автоматически создается свое локальное пространство имен, поэтому конфликта не происходит."
   ]
  },
  {
   "cell_type": "code",
   "execution_count": 244,
   "metadata": {
    "id": "--vlrqnnEJ1N"
   },
   "outputs": [
    {
     "name": "stdout",
     "output_type": "stream",
     "text": [
      "10\n",
      "1\n"
     ]
    }
   ],
   "source": [
    "a = 1\n",
    "def func():\n",
    "    a = 10\n",
    "    print(a)\n",
    "func()\n",
    "print(a)"
   ]
  },
  {
   "cell_type": "markdown",
   "metadata": {
    "id": "eQWxucPyEJ1N"
   },
   "source": [
    "Начнем с простого. Рассмотрим пример, где мы пытаемся вывести на экран переменную `a`, которая не объявляется внутри нашей функции. Однако она была объявлена раньше в глобальной области видимости, поэтому интерпретатор, не найдя `a` внутри функции `func`, ищет ее на уровне выше и выводит ее значение"
   ]
  },
  {
   "cell_type": "code",
   "execution_count": 245,
   "metadata": {
    "id": "8DaMQ2_HEJ1O"
   },
   "outputs": [
    {
     "name": "stdout",
     "output_type": "stream",
     "text": [
      "cat_123\n",
      "cat\n"
     ]
    }
   ],
   "source": [
    "a = 'cat'\n",
    "def func():\n",
    "    print(a + \"_123\")\n",
    "func()\n",
    "print(a)"
   ]
  },
  {
   "cell_type": "markdown",
   "metadata": {
    "id": "doR2W6XREJ1O"
   },
   "source": [
    "Однако если мы попытаемся внутри нашей функции изменить значение переменной `a`, то мы получим следующую ошибку"
   ]
  },
  {
   "cell_type": "code",
   "execution_count": 246,
   "metadata": {
    "id": "w6s4jTL9EJ1O"
   },
   "outputs": [
    {
     "ename": "UnboundLocalError",
     "evalue": "cannot access local variable 'a' where it is not associated with a value",
     "output_type": "error",
     "traceback": [
      "\u001b[1;31m---------------------------------------------------------------------------\u001b[0m",
      "\u001b[1;31mUnboundLocalError\u001b[0m                         Traceback (most recent call last)",
      "Cell \u001b[1;32mIn[246], line 5\u001b[0m\n\u001b[0;32m      3\u001b[0m     a \u001b[38;5;241m=\u001b[39m a \u001b[38;5;241m+\u001b[39m \u001b[38;5;124m\"\u001b[39m\u001b[38;5;124m_123\u001b[39m\u001b[38;5;124m\"\u001b[39m\n\u001b[0;32m      4\u001b[0m     \u001b[38;5;28;01mreturn\u001b[39;00m a\n\u001b[1;32m----> 5\u001b[0m func()\n",
      "Cell \u001b[1;32mIn[246], line 3\u001b[0m, in \u001b[0;36mfunc\u001b[1;34m()\u001b[0m\n\u001b[0;32m      2\u001b[0m \u001b[38;5;28;01mdef\u001b[39;00m \u001b[38;5;21mfunc\u001b[39m():\n\u001b[1;32m----> 3\u001b[0m     a \u001b[38;5;241m=\u001b[39m a \u001b[38;5;241m+\u001b[39m \u001b[38;5;124m\"\u001b[39m\u001b[38;5;124m_123\u001b[39m\u001b[38;5;124m\"\u001b[39m\n\u001b[0;32m      4\u001b[0m     \u001b[38;5;28;01mreturn\u001b[39;00m a\n",
      "\u001b[1;31mUnboundLocalError\u001b[0m: cannot access local variable 'a' where it is not associated with a value"
     ]
    }
   ],
   "source": [
    "a = 'cat'\n",
    "def func():\n",
    "    a = a + \"_123\"\n",
    "    return a\n",
    "func()"
   ]
  },
  {
   "cell_type": "markdown",
   "metadata": {
    "id": "XSVDLj19EJ1O"
   },
   "source": [
    "Происходит это из-за устройства операции присваивания. В строке 3 мы пытаемся изменить локальную переменную `a`, записав в нее `a` + `\"_123\"`. Сама по себе эта операция обозначает, что мы имеем локальную переменную `a`, которую мы захотили переопределить. А так как ранее такой переменной нами не было объявлено, то мы получили ошибку о том, что пытаемся использовать переменную до ее создания.\n",
    "\n",
    "Чтобы наша функция заработала можно, либо передать переменную `a` в аргументах функции, либо использовать инструкцию `global`"
   ]
  },
  {
   "cell_type": "markdown",
   "metadata": {
    "id": "0me1rgYuEJ1O"
   },
   "source": [
    "Инструкция  `global` предназначена для явного указания, что переменную следуюет искать в глобальном пространстве имен"
   ]
  },
  {
   "cell_type": "markdown",
   "metadata": {
    "id": "8vpV4Dr2EJ1O"
   },
   "source": [
    "Указав внутри функции, что переменная `a` - глобальная, мы переопределяем глобальное значение, поэтому при выводе `a` изменилась"
   ]
  },
  {
   "cell_type": "code",
   "execution_count": 247,
   "metadata": {
    "id": "DPBhNJrhEJ1P"
   },
   "outputs": [
    {
     "name": "stdout",
     "output_type": "stream",
     "text": [
      "10 10\n"
     ]
    }
   ],
   "source": [
    "a = 'cat'\n",
    "def func():\n",
    "  global a\n",
    "  a = 10\n",
    "  return a\n",
    "b = func()\n",
    "print(a, b)"
   ]
  },
  {
   "cell_type": "markdown",
   "metadata": {
    "id": "3VHdM-0ABwWk"
   },
   "source": [
    "### Безымянные функции\n",
    "Существует альтернатива инструкции `def` для задания функции, используемая для уменьшения размера кода. Речь идет о безымянных функциях или лямбда-функциях. Безымянная функция определяется ключевым словом `lambda`, после которого идут аргументы функции, а далее ее тело:\n",
    "\n",
    "```python\n",
    "lambda arguments: <some code>\n",
    "```\n",
    "В основном  лямбда-функции применяют, когда сама функция может быть записана в одну или несколько строк, а использование классического `def` приводит к раздуванию кода."
   ]
  },
  {
   "cell_type": "code",
   "execution_count": 248,
   "metadata": {
    "id": "noBqv9sZBwWk"
   },
   "outputs": [],
   "source": [
    "my_func = lambda x, y: x + y # анонимные / лямбда функции"
   ]
  },
  {
   "cell_type": "code",
   "execution_count": 249,
   "metadata": {
    "id": "qjQACouZBwWl"
   },
   "outputs": [
    {
     "data": {
      "text/plain": [
       "21"
      ]
     },
     "execution_count": 249,
     "metadata": {},
     "output_type": "execute_result"
    }
   ],
   "source": [
    "my_func(10, 11)"
   ]
  },
  {
   "cell_type": "markdown",
   "metadata": {
    "id": "6BBu0JS9EJ1Q"
   },
   "source": [
    "Попробуем продемонстрировать удобство лямбда-функций на следующем примере. Пусть имеется следующий массив из набора кортежей"
   ]
  },
  {
   "cell_type": "code",
   "execution_count": 250,
   "metadata": {
    "id": "VnBSe8HwEJ1Q"
   },
   "outputs": [],
   "source": [
    "lst = [(5, 'a'), (3, 'c'), (1, 'e'), (2, 'd'), (4, 'b')]"
   ]
  },
  {
   "cell_type": "markdown",
   "metadata": {
    "id": "uxXgnybWEJ1Q"
   },
   "source": [
    "и нам необходимо отсортировать этот массив по второму значению в кортеже, то есть по алфавиту. Сделать это можно разными способами. Здесь мы используем встроенную  функцию `sorted` и ее аргумент `key`, в который можно передать функцию, задающую порядок сортировки.\n",
    "\n",
    "Обычное применение функции не дает нужного результата"
   ]
  },
  {
   "cell_type": "code",
   "execution_count": 251,
   "metadata": {
    "id": "bU4fY1G8EJ1Q"
   },
   "outputs": [
    {
     "data": {
      "text/plain": [
       "[(1, 'e'), (2, 'd'), (3, 'c'), (4, 'b'), (5, 'a')]"
      ]
     },
     "execution_count": 251,
     "metadata": {},
     "output_type": "execute_result"
    }
   ],
   "source": [
    "sorted(lst)"
   ]
  },
  {
   "cell_type": "markdown",
   "metadata": {
    "id": "AEoEDKxpEJ1R"
   },
   "source": [
    "Определим функцию, которая будет указывать необходимый порядок сортировки"
   ]
  },
  {
   "cell_type": "code",
   "execution_count": 252,
   "metadata": {
    "id": "cWqarWkXEJ1R"
   },
   "outputs": [
    {
     "data": {
      "text/plain": [
       "[(5, 'a'), (4, 'b'), (3, 'c'), (2, 'd'), (1, 'e')]"
      ]
     },
     "execution_count": 252,
     "metadata": {},
     "output_type": "execute_result"
    }
   ],
   "source": [
    "def order(element):\n",
    "    return element[1]\n",
    "\n",
    "sorted(lst, key=order)"
   ]
  },
  {
   "cell_type": "markdown",
   "metadata": {
    "id": "28ihLynOEJ1R"
   },
   "source": [
    "То же самое с лямбда-функцией"
   ]
  },
  {
   "cell_type": "code",
   "execution_count": 253,
   "metadata": {
    "id": "CgUo4SLOEJ1R"
   },
   "outputs": [
    {
     "data": {
      "text/plain": [
       "[(5, 'a'), (4, 'b'), (3, 'c'), (2, 'd'), (1, 'e')]"
      ]
     },
     "execution_count": 253,
     "metadata": {},
     "output_type": "execute_result"
    }
   ],
   "source": [
    "sorted(lst, key=lambda x: x[1])"
   ]
  }
 ],
 "metadata": {
  "celltoolbar": "Слайд-шоу",
  "colab": {
   "provenance": []
  },
  "kernelspec": {
   "display_name": "data_analysis",
   "language": "python",
   "name": "python3"
  },
  "language_info": {
   "codemirror_mode": {
    "name": "ipython",
    "version": 3
   },
   "file_extension": ".py",
   "mimetype": "text/x-python",
   "name": "python",
   "nbconvert_exporter": "python",
   "pygments_lexer": "ipython3",
   "version": "3.12.7"
  }
 },
 "nbformat": 4,
 "nbformat_minor": 1
}
