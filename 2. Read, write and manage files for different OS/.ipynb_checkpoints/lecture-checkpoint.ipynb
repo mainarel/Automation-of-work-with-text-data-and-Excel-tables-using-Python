{
 "cells": [
  {
   "cell_type": "markdown",
   "metadata": {},
   "source": [
    "#  Занятие 2. Чтение, запись и управление файлами"
   ]
  },
  {
   "cell_type": "markdown",
   "metadata": {},
   "source": [
    "## Работа с простейшими файлами"
   ]
  },
  {
   "cell_type": "markdown",
   "metadata": {},
   "source": [
    "Согласно определению файл - именованная область постоянной памяти в компьютере, которой управляет операционная система. \n",
    "\n",
    "Чтобы открыть файл, нужно воспользоваться встроенной функцией `open(<путь до файла>, <режим работы с файлом (mode)>)`\n",
    "\n",
    "| mode | Описание |\n",
    "| --- | --- |\n",
    "|`'r'` | чтение (read-only, это значение выставлено по умолчанию)|\n",
    "|`'x'`| создает файл для записи; если файл уже существует, то выдаст ошибку|\n",
    "|`'w'`| создает файл для записи; если файл уже существует, данные будут перезаписаны|\n",
    "|`'a'`| открывает файл для дозаписи в конец файла; если требуемого файла нет, то сначала создаст его|\n",
    "\n",
    "* Добавление символа `b` в строку режима означает работу с двоичными данными\n",
    "* Добавление символа `+` означает, что файл открывается и для чтения, и для записи"
   ]
  },
  {
   "cell_type": "markdown",
   "metadata": {},
   "source": [
    "Рассмотрим пример работы с файлом.\n",
    "Создадим для записи файл `first_file.txt` в директории `./files/` и запишем в него две строки, после чего закроем файл."
   ]
  },
  {
   "cell_type": "code",
   "execution_count": null,
   "metadata": {
    "tags": []
   },
   "outputs": [],
   "source": [
    "f = open('files/first_file.txt', 'w')  # Открыли файл для записи (файл появится в папке  files) \n",
    "f.write('hello text file\\n')  # Записываем строку в файл с помощью функции write\n",
    "f.write('nice to meet you\\n')\n",
    "f.close()  # Закрываем файл с помощью функции close"
   ]
  },
  {
   "cell_type": "markdown",
   "metadata": {},
   "source": [
    "Попробуем считать данные из нашего файла с помощью функции `readline`, считывающей одну строку из файла при каждом обращении. "
   ]
  },
  {
   "cell_type": "code",
   "execution_count": null,
   "metadata": {},
   "outputs": [],
   "source": [
    "f = open('files/first_file.txt')\n",
    "line1 = f.readline()  # читаем строку\n",
    "line2 = f.readline() \n",
    "f.close()"
   ]
  },
  {
   "cell_type": "code",
   "execution_count": null,
   "metadata": {},
   "outputs": [],
   "source": [
    "line1, line2"
   ]
  },
  {
   "cell_type": "markdown",
   "metadata": {},
   "source": [
    "Строк в файле обычно бывает много, поэтому обернем считывание из файла в цикл"
   ]
  },
  {
   "cell_type": "code",
   "execution_count": null,
   "metadata": {},
   "outputs": [],
   "source": [
    "f = open('files/first_file.txt')\n",
    "lines = []  # массив для хранения строк\n",
    "while True:\n",
    "    line = f.readline()\n",
    "    if line == '':  # проверяем, есть ли еще строки в файле\n",
    "        break\n",
    "    lines.append(line)\n",
    "f.close()"
   ]
  },
  {
   "cell_type": "code",
   "execution_count": null,
   "metadata": {},
   "outputs": [],
   "source": [
    "lines"
   ]
  },
  {
   "cell_type": "markdown",
   "metadata": {},
   "source": [
    "Закрывать за собой файлы - это пример хорошего тона в программировании, однако в Python это действие не является обязательным. Дело в автоматическом сборщике мусора, который закроет файл после окончания выполнения программы.\n",
    "\n",
    "Помимо этого существует альтернитивный вариант автоматического закрытия файла - использование так называемого *контекстного менеджера*:"
   ]
  },
  {
   "cell_type": "markdown",
   "metadata": {},
   "source": [
    "### Контексный менеждер для работы с файлами"
   ]
  },
  {
   "cell_type": "code",
   "execution_count": null,
   "metadata": {},
   "outputs": [],
   "source": [
    "lines = []\n",
    "with open('files/first_file.txt') as f:\n",
    "    while True:\n",
    "        line = f.readline()\n",
    "        if line == '':  \n",
    "            break\n",
    "        lines.append(line)\n",
    "print(lines)"
   ]
  },
  {
   "cell_type": "markdown",
   "metadata": {},
   "source": [
    "Открытие файла при помощи конструкции `with` ... `as` позволяет автоматически закрыть файл после выполнения блока внутри конструкции. Убедимся, что файл закрыт:"
   ]
  },
  {
   "cell_type": "code",
   "execution_count": null,
   "metadata": {},
   "outputs": [],
   "source": [
    "f.write('df')"
   ]
  },
  {
   "cell_type": "markdown",
   "metadata": {},
   "source": [
    "Есть возможность прочитать файл целиком за один раз. Инструкция `file.read()` вернет строку со всем содержимым файла. Однако делать так стоит лишь когда вы уверены, что размер файла не превышает размера оперативной памяти, оставшейся в распоряжении компьютера."
   ]
  },
  {
   "cell_type": "code",
   "execution_count": null,
   "metadata": {},
   "outputs": [],
   "source": [
    "lines = []\n",
    "with open('files/first_file.txt') as f:\n",
    "    whole_file = f.read()\n",
    "    for line in whole_file.split('\\n'):\n",
    "        lines.append(line)\n",
    "        "
   ]
  },
  {
   "cell_type": "code",
   "execution_count": null,
   "metadata": {},
   "outputs": [],
   "source": [
    "whole_file"
   ]
  },
  {
   "cell_type": "code",
   "execution_count": null,
   "metadata": {},
   "outputs": [],
   "source": [
    "lines"
   ]
  },
  {
   "cell_type": "markdown",
   "metadata": {},
   "source": [
    "посмотреть о всех возможных методах для файлов можно посмотреть [тут](https://docs.python.org/2.4/lib/bltin-file-objects.html)"
   ]
  },
  {
   "cell_type": "markdown",
   "metadata": {},
   "source": [
    "## Модули "
   ]
  },
  {
   "cell_type": "markdown",
   "metadata": {},
   "source": [
    "Зачастую при разработке какого-нибудь проекта написанный программный код разрастается, и работать с ним становится некомфортно (даже после разбиения его на отдельные функции или другие структуры). В таком случае полезно разделять программный код на отдельные логические части и \"прятать\" их в модули. Например, если программа использует большое число различных функций, удобно все эти функции поместить в один модуль и подгрузить его.\n",
    "\n",
    "Любой файл с текстом на языке Python и расширением `.py`может быть использован в качестве модуля. Например, `fft.py`."
   ]
  },
  {
   "cell_type": "markdown",
   "metadata": {},
   "source": [
    "Рассмотрим в качестве примера модули в папке *modules_examples*. \n",
    "\n",
    "Загрузить файл с этим кодом в качестве модуля можно с помощью инструкции \n",
    "\n",
    "`import modules_examples.test_module1`"
   ]
  },
  {
   "cell_type": "markdown",
   "metadata": {},
   "source": [
    "Файл `test_module1.py`\n",
    "\n",
    "```python\n",
    "\n",
    "# test_module1\n",
    "print(f\"Hello, i'm module\")\n",
    "\n",
    "var1 = 1000\n",
    "\n",
    "def some_cool_function():\n",
    "    print('I do nothing')\n",
    "    \n",
    "def func(a: str, b: str):\n",
    "    return f\"{a.capitalize()} {b.upper()}\"\n",
    "```"
   ]
  },
  {
   "cell_type": "code",
   "execution_count": null,
   "metadata": {},
   "outputs": [],
   "source": [
    "import modules_examples.test_module1 as tm1"
   ]
  },
  {
   "cell_type": "markdown",
   "metadata": {},
   "source": [
    "Команда `import` выполняет все инструкции в загруженном файле, поэтому появляется вывод функции `print`. Инструкция `import` может появляться в любом месте программы, однако программный код любого модуля загружается и выполняется только один раз, независимо от количества инструкций `import`, загружающих его. Все последующие инструкции `import` будут просто связывать имя модуля с объектом модуля, созданным первой встретившейся инструкцией `import`."
   ]
  },
  {
   "cell_type": "code",
   "execution_count": null,
   "metadata": {},
   "outputs": [],
   "source": [
    "import modules_examples.test_module1 as tm1"
   ]
  },
  {
   "cell_type": "code",
   "execution_count": null,
   "metadata": {},
   "outputs": [],
   "source": [
    "tm1.some_cool_function()"
   ]
  },
  {
   "cell_type": "markdown",
   "metadata": {},
   "source": [
    "В одной из первых тем курса мы говорили, что посмотреть доступные методы некоторого объекта можно с помощью функций `help` и `dir`. Давайте воспользуемся функцией `help` и посмотрим информацию об импортируемом модуле"
   ]
  },
  {
   "cell_type": "code",
   "execution_count": null,
   "metadata": {},
   "outputs": [],
   "source": [
    "help(tm1)"
   ]
  },
  {
   "cell_type": "markdown",
   "metadata": {},
   "source": [
    "Мы видим основную информацию о модуле: его название, список достпуных методов, также имеется целочисленная переменная `var1` и полный путь до модуля. Соответственно, после импорта нам доступны все методы и переменные в модуле"
   ]
  },
  {
   "cell_type": "code",
   "execution_count": null,
   "metadata": {},
   "outputs": [],
   "source": [
    "tm1.var1"
   ]
  },
  {
   "cell_type": "code",
   "execution_count": null,
   "metadata": {},
   "outputs": [],
   "source": [
    "tm1.some_cool_function()"
   ]
  },
  {
   "cell_type": "code",
   "execution_count": null,
   "metadata": {},
   "outputs": [],
   "source": [
    "tm1.func('type', 'something')"
   ]
  },
  {
   "cell_type": "markdown",
   "metadata": {},
   "source": [
    "#### Импортирование отдельных имен из модулей\n",
    "Иногда из всего модуля нам необходимо всего несколько функций и нам не хочется импортировать его целиком. Тогда можно воспользоваться инструкцией `from <module> import <function1>, <function2>`."
   ]
  },
  {
   "cell_type": "markdown",
   "metadata": {},
   "source": [
    "Файл `test_module2.py`\n",
    "```python \n",
    "#test_module2\n",
    "\n",
    "def some_cool_function():\n",
    "    print('I do nothing')\n",
    "\n",
    "def func(a: str, b: str):\n",
    "    return f\"{a.capitalize()} {b.upper()}\"\n",
    "\n",
    "def prod(a=1, *args):\n",
    "    for i in args:\n",
    "        a *= i\n",
    "    return a\n",
    "```"
   ]
  },
  {
   "cell_type": "code",
   "execution_count": null,
   "metadata": {},
   "outputs": [],
   "source": [
    "from modules_examples.test_module2 import *"
   ]
  },
  {
   "cell_type": "code",
   "execution_count": null,
   "metadata": {},
   "outputs": [],
   "source": [
    "prod(2, 3, 4)"
   ]
  },
  {
   "cell_type": "markdown",
   "metadata": {},
   "source": [
    "Для того чтобы подгрузить все функции в модуле через инструкцию `from` можно воспользоваться выражением `from <module> import *`. \n",
    "\n",
    "Такая запись избавит вас от необходимости писать название модуля перед нужной функцией. Однако делать так не рекомендуется, так как при таком вызове в наше пространство имен выгружаются все имена функций, переменных из модуля, и в таком случае при совпадении имен старое значение будет перезаписано. "
   ]
  },
  {
   "cell_type": "markdown",
   "metadata": {},
   "source": [
    "Например, пусть у нас есть переменная  `sign`, а в модуле `test_module3.py` содержится функция с таким же именем."
   ]
  },
  {
   "cell_type": "code",
   "execution_count": null,
   "metadata": {},
   "outputs": [],
   "source": [
    "sign = \"+\""
   ]
  },
  {
   "cell_type": "markdown",
   "metadata": {},
   "source": [
    "Файл `test_module3.py`\n",
    "```python \n",
    "#test_module3\n",
    "\n",
    "def sign(a, b):\n",
    "    return 1 if a > b else 0\n",
    "```"
   ]
  },
  {
   "cell_type": "markdown",
   "metadata": {},
   "source": [
    "Если теперь из модуля `test_module3.py` подгрузить все функции, то переменная `sign` перезапишется и станет функцией."
   ]
  },
  {
   "cell_type": "code",
   "execution_count": null,
   "metadata": {},
   "outputs": [],
   "source": [
    "from modules_examples.test_module3 import *  "
   ]
  },
  {
   "cell_type": "code",
   "execution_count": null,
   "metadata": {},
   "outputs": [],
   "source": [
    "%%writefile mdl.py\n",
    "print('n')\n",
    "def f():\n",
    "    return 'a'"
   ]
  },
  {
   "cell_type": "code",
   "execution_count": null,
   "metadata": {},
   "outputs": [],
   "source": [
    "import mdl\n",
    "mdl.f()"
   ]
  },
  {
   "cell_type": "code",
   "execution_count": null,
   "metadata": {},
   "outputs": [],
   "source": [
    "привет = 10\n",
    "print(привет +10)"
   ]
  },
  {
   "cell_type": "markdown",
   "metadata": {},
   "source": [
    "### Задача 1\n",
    "---\n",
    "Напишите модуль `ticket` в котором есть функция `is_ticket_happy`, которая ожидает на вход строку и проверяет является ли введенный номер [счастливым](https://ru.wikipedia.org/wiki/%D0%A1%D1%87%D0%B0%D1%81%D1%82%D0%BB%D0%B8%D0%B2%D1%8B%D0%B9_%D0%B1%D0%B8%D0%BB%D0%B5%D1%82) - cчастливым считается билет, в шестизначном номере которого сумма первых трёх цифр совпадает с суммой трёх последних. \n",
    "\n",
    "Функция возвращает булевое значение."
   ]
  },
  {
   "cell_type": "code",
   "execution_count": null,
   "metadata": {},
   "outputs": [],
   "source": [
    "def is_ticket_happy(s):\n",
    "    ..."
   ]
  },
  {
   "cell_type": "code",
   "execution_count": null,
   "metadata": {},
   "outputs": [],
   "source": [
    "import happy\n",
    "happy.is_ticket_happy('101201')"
   ]
  },
  {
   "cell_type": "code",
   "execution_count": null,
   "metadata": {},
   "outputs": [],
   "source": [
    "from happy import is_ticket_happy\n",
    "is_ticket_happy('101201')"
   ]
  },
  {
   "cell_type": "markdown",
   "metadata": {},
   "source": [
    "## Библиотеки"
   ]
  },
  {
   "cell_type": "markdown",
   "metadata": {},
   "source": [
    "Теперь мы перейдём к изучению библиотек. По факту бибилиотекой называется набор тех самых модулей для решения конкретных задач. Часто в Python слово \"модуль\" и \"библотека\" вообще используются как синонимы. Главный критерий по которому мы будем разделять библиотеку и модуль будет то, что модуль написан лично Вами, а библиотека сделана другими профессиональными разработчиками. \n",
    "\n",
    "В Anacond-e есть встроенный набор некоторых библиотек, в качестве примера рассмотрим библиотеку `random`. "
   ]
  },
  {
   "cell_type": "markdown",
   "metadata": {},
   "source": [
    "Очень часто при решении задач, например, при статистическом моделировании результатов различных экспериментов, возникает необходимость использования случайных чисел.\n",
    "\n",
    "Для работы с ними в языке `Python` реализован целый набор функций, которые собраны в модуле `random`.\n",
    "\n",
    "Для подключения модуля к программе используется инструкция:\n",
    "\n",
    "~~~python\n",
    "import random\n",
    "~~~\n",
    "\n",
    "Ниже приведены некоторые из функций модуля, которые позволят использовать команды для генерации псевдослучайных чисел.\n",
    "\n",
    "|Функции |Описание|\n",
    "|---|:-|\n",
    "|`random.random()`|возвращает случайное вещественное число от 0.0 до 1.0|\n",
    "|`random.seed([a=<параметр>][, version=2])`|настраивает генератор случайных чисел на новую последовательность|\n",
    "|`random.uniform(<начало>, <конец>)`|возвращает случайное вещественное число в равновероятном диапазоне от \\<начала\\> до \\<конца\\>|\n",
    "|`random.randint(<начало>, <конец>)`|случайное целое число в диапазоне от \\<начала\\> до \\<конца\\>|\n",
    "|`random.randrange(<начало>, <конец>, <шаг>)`|выбирает случайный элемент из числовой последовательности|\n",
    "|`random.choice(<последовательность>)`|выбирает случайный элемент из некоторой непустой последовательности|\n",
    "\n",
    "*Псевдо*случайными числа называются потому, что для их создания применяются математические формулы, так что, зная вид генерирующей формулы и стартовые числа (\"затравки\" или \"зерна\" – seed), можно воспроизвести всю последовательность. Кроме того, цепочки псевдослучайных чисел являются замкнутыми: через $N$-ое количество значений последовательность начнет повторяться (именно последовательность, а не ее отдельные элементы). Величина $N$ считается показателем качества генератора случайных чисел: чем она выше, тем более надежную \"случайность\" вы получите в своей программе. Современные хорошие генераторы обладают длинами неповторяющихся последовательностей около $10^{50}$ значений!"
   ]
  },
  {
   "cell_type": "code",
   "execution_count": null,
   "metadata": {},
   "outputs": [],
   "source": [
    "import random"
   ]
  },
  {
   "cell_type": "code",
   "execution_count": null,
   "metadata": {},
   "outputs": [],
   "source": [
    "a = random.random()\n",
    "print(a)"
   ]
  },
  {
   "cell_type": "code",
   "execution_count": null,
   "metadata": {},
   "outputs": [],
   "source": [
    "random.seed(2)\n",
    "a = random.random()\n",
    "print(a)\n",
    "print(random.random())"
   ]
  },
  {
   "cell_type": "code",
   "execution_count": null,
   "metadata": {},
   "outputs": [],
   "source": [
    "a = random.uniform(-1, 10)\n",
    "print(a)"
   ]
  },
  {
   "cell_type": "code",
   "execution_count": null,
   "metadata": {},
   "outputs": [],
   "source": [
    "a = random.randint(-1, 1)\n",
    "print(a)"
   ]
  },
  {
   "cell_type": "code",
   "execution_count": null,
   "metadata": {},
   "outputs": [],
   "source": [
    "a = random.choice(['A', 'B', 'C'])\n",
    "print(a)"
   ]
  },
  {
   "cell_type": "markdown",
   "metadata": {},
   "source": [
    "### Задача 2\n",
    "---\n",
    "\n",
    "Напишите функцию, которая моделирует взятие случайной карты из колоды.\n",
    "\n",
    "Примерный формат вывода: 6♥ 2♦ Q♣ A♠ "
   ]
  },
  {
   "cell_type": "code",
   "execution_count": null,
   "metadata": {},
   "outputs": [],
   "source": [
    "import random\n",
    "values = [str(i) for i in range(2, 11)] + ['J', 'Q', 'K', 'A']\n",
    "suits = ['♥', '♦', '♣', '♠']"
   ]
  },
  {
   "cell_type": "markdown",
   "metadata": {},
   "source": [
    "### Библиотеки для работы с файлами и окружением"
   ]
  },
  {
   "cell_type": "markdown",
   "metadata": {},
   "source": [
    "### Модуль `os`\n",
    "\n",
    "Библиотека `os` в Python предоставляет множество функций для взаимодействия с операционной системой. Далее, посмотрим на основные функции данной библиотеки"
   ]
  },
  {
   "cell_type": "code",
   "execution_count": null,
   "metadata": {},
   "outputs": [],
   "source": [
    "import os"
   ]
  },
  {
   "cell_type": "markdown",
   "metadata": {},
   "source": [
    "Вывод рабочей директории"
   ]
  },
  {
   "cell_type": "code",
   "execution_count": null,
   "metadata": {},
   "outputs": [],
   "source": [
    "os.getcwd()"
   ]
  },
  {
   "cell_type": "markdown",
   "metadata": {},
   "source": [
    "Библиотека позволяет создавать и удалять директории"
   ]
  },
  {
   "cell_type": "code",
   "execution_count": null,
   "metadata": {},
   "outputs": [],
   "source": [
    "new_folder = 'os_example'\n",
    "os.mkdir(new_folder)"
   ]
  },
  {
   "cell_type": "code",
   "execution_count": null,
   "metadata": {},
   "outputs": [],
   "source": [
    "os.rmdir('os_example')"
   ]
  },
  {
   "cell_type": "markdown",
   "metadata": {},
   "source": [
    "Модуль позволяет получить список всех файлов и папок, содержащихся в заданной директории"
   ]
  },
  {
   "cell_type": "code",
   "execution_count": null,
   "metadata": {},
   "outputs": [],
   "source": [
    "os.listdir()"
   ]
  },
  {
   "cell_type": "code",
   "execution_count": null,
   "metadata": {},
   "outputs": [],
   "source": [
    "path = './files'\n",
    "files = os.listdir(path)"
   ]
  },
  {
   "cell_type": "markdown",
   "metadata": {},
   "source": [
    "Чтобы не прописывать пути до файлов в ручную можно использовать метод `join`"
   ]
  },
  {
   "cell_type": "code",
   "execution_count": null,
   "metadata": {},
   "outputs": [],
   "source": [
    "os.path.join(path, files[0])"
   ]
  },
  {
   "cell_type": "code",
   "execution_count": null,
   "metadata": {},
   "outputs": [],
   "source": [
    "path = os.path.join('test_dir', 'level_1', 'level_2', 'level_3')\n",
    "path"
   ]
  },
  {
   "cell_type": "markdown",
   "metadata": {},
   "source": [
    "Если нужно создать поддиректории тоже"
   ]
  },
  {
   "cell_type": "code",
   "execution_count": null,
   "metadata": {},
   "outputs": [],
   "source": [
    "os.makedirs(path)"
   ]
  },
  {
   "cell_type": "code",
   "execution_count": null,
   "metadata": {},
   "outputs": [],
   "source": [
    "os.rmdir('./test_dir')"
   ]
  },
  {
   "cell_type": "markdown",
   "metadata": {},
   "source": [
    "Также есть возможность получить полный путь до файла"
   ]
  },
  {
   "cell_type": "code",
   "execution_count": null,
   "metadata": {},
   "outputs": [],
   "source": [
    "path_to_file = os.path.abspath(files[0])\n",
    "path_to_file"
   ]
  },
  {
   "cell_type": "code",
   "execution_count": null,
   "metadata": {},
   "outputs": [],
   "source": [
    "os.path.exists(path_to_file)"
   ]
  },
  {
   "cell_type": "code",
   "execution_count": null,
   "metadata": {},
   "outputs": [],
   "source": [
    "path_to_file = os.path.abspath(os.path.join(path, files[0]))"
   ]
  },
  {
   "cell_type": "code",
   "execution_count": null,
   "metadata": {},
   "outputs": [],
   "source": [
    "os.path.exists(path_to_file)"
   ]
  },
  {
   "cell_type": "markdown",
   "metadata": {},
   "source": [
    "Проверка является ли указанный путь файлом или директорией"
   ]
  },
  {
   "cell_type": "code",
   "execution_count": null,
   "metadata": {},
   "outputs": [],
   "source": [
    "os.path.isfile(path_to_file)"
   ]
  },
  {
   "cell_type": "code",
   "execution_count": null,
   "metadata": {},
   "outputs": [],
   "source": [
    "os.path.isdir(path)"
   ]
  },
  {
   "cell_type": "markdown",
   "metadata": {},
   "source": [
    "#### Обход дерева катологов\n",
    "Предположим, вы хотите переименовать все файлы, находящиеся в некоторой папке, а также во всех ее подпапках. Следовательно, вам необходимо выполнить обход всего  дерева каталогов. \n"
   ]
  },
  {
   "cell_type": "code",
   "execution_count": null,
   "metadata": {},
   "outputs": [],
   "source": [
    "items = [item for item in os.walk('./')]"
   ]
  },
  {
   "cell_type": "markdown",
   "metadata": {},
   "source": [
    "Функция возвращает по три значения на каждой итерации цикла:\n",
    "* строку с именем папки \n",
    "* список строк из имен папок, которые содержатся в текущей папке\n",
    "* список строк из имен файлов текущей папки"
   ]
  },
  {
   "cell_type": "code",
   "execution_count": null,
   "metadata": {},
   "outputs": [],
   "source": [
    "items[4]"
   ]
  },
  {
   "cell_type": "markdown",
   "metadata": {},
   "source": [
    "### Модуль `shutil`\n",
    "Содержит функции, позволяющие копировать, перемещать, переименовывать и удалять файлы. "
   ]
  },
  {
   "cell_type": "code",
   "execution_count": null,
   "metadata": {},
   "outputs": [],
   "source": [
    "import shutil"
   ]
  },
  {
   "cell_type": "markdown",
   "metadata": {},
   "source": [
    "Работать с библиотекой мы начнем на примере. Рассмотрим содержимое папки `photo`"
   ]
  },
  {
   "cell_type": "code",
   "execution_count": null,
   "metadata": {},
   "outputs": [],
   "source": [
    "path = './photo'\n",
    "files = os.listdir(path)\n",
    "print(files)"
   ]
  },
  {
   "cell_type": "markdown",
   "metadata": {},
   "source": [
    "Рассортируем наши фотографии по отдельным папкам внутри акталога `photo`"
   ]
  },
  {
   "cell_type": "markdown",
   "metadata": {},
   "source": [
    "#### Удаление  директории с файлами"
   ]
  },
  {
   "cell_type": "code",
   "execution_count": null,
   "metadata": {},
   "outputs": [],
   "source": [
    "shutil.rmtree('./test_dir')"
   ]
  },
  {
   "cell_type": "markdown",
   "metadata": {},
   "source": [
    " ### Пример архивирования файлов"
   ]
  },
  {
   "cell_type": "code",
   "execution_count": null,
   "metadata": {},
   "outputs": [],
   "source": [
    "import zipfile"
   ]
  },
  {
   "cell_type": "code",
   "execution_count": null,
   "metadata": {},
   "outputs": [],
   "source": [
    "path = 'photo'\n",
    "with zipfile.ZipFile('photo.zip', 'w') as zfile:\n",
    "    for folder_name, sub_folders, filenames in os.walk(path):\n",
    "        zfile.write(folder_name)\n",
    "        for filename in filenames:\n",
    "            zfile.write(os.path.join(folder_name, filename))\n"
   ]
  },
  {
   "cell_type": "markdown",
   "metadata": {},
   "source": [
    "### Работа с PDF документами\n",
    "PDF документы представляют собой бинарные файлы, который огут содержать массу дополнительной информации, и поэтому работать с ними несколько сложнее, чем с текстовыми файлами.\n",
    "\n",
    "В данном разделе мы рассмотрим примеры работы с pdf файлами для извлечения текстовой информации из них\n"
   ]
  },
  {
   "cell_type": "code",
   "execution_count": null,
   "metadata": {},
   "outputs": [],
   "source": [
    "!pip install pymupdf"
   ]
  },
  {
   "cell_type": "code",
   "execution_count": null,
   "metadata": {},
   "outputs": [],
   "source": [
    "import pymupdf"
   ]
  },
  {
   "cell_type": "code",
   "execution_count": null,
   "metadata": {},
   "outputs": [],
   "source": [
    "pdf_file = pymupdf.open('pdf-files/paper.pdf')"
   ]
  },
  {
   "cell_type": "code",
   "execution_count": null,
   "metadata": {},
   "outputs": [],
   "source": [
    "help(pdf_file)"
   ]
  },
  {
   "cell_type": "code",
   "execution_count": null,
   "metadata": {},
   "outputs": [],
   "source": [
    "pdf_file.page_count"
   ]
  },
  {
   "cell_type": "code",
   "execution_count": null,
   "metadata": {},
   "outputs": [],
   "source": [
    "pdf_file.metadata"
   ]
  },
  {
   "cell_type": "code",
   "execution_count": null,
   "metadata": {},
   "outputs": [],
   "source": [
    "pdf_file.get_toc()"
   ]
  },
  {
   "cell_type": "code",
   "execution_count": null,
   "metadata": {},
   "outputs": [],
   "source": [
    "page = pdf_file[1]\n"
   ]
  },
  {
   "cell_type": "markdown",
   "metadata": {},
   "source": [
    "#### Извлечение текста"
   ]
  },
  {
   "cell_type": "code",
   "execution_count": null,
   "metadata": {},
   "outputs": [],
   "source": [
    "text = page.get_text()\n",
    "print(text)"
   ]
  },
  {
   "cell_type": "code",
   "execution_count": null,
   "metadata": {},
   "outputs": [],
   "source": [
    "instances = page.search_for('PHYSICAL')\n",
    "new_line = 'SOME TEXT HEREEEE'\n",
    "for item in instances:\n",
    "    page.add_redact_annot(item, new_line)\n",
    "page.apply_redactions()\n",
    "pdf_file.save(\"test1.pdf\")"
   ]
  },
  {
   "cell_type": "markdown",
   "metadata": {},
   "source": [
    "####  Извлечение картинок"
   ]
  },
  {
   "cell_type": "code",
   "execution_count": null,
   "metadata": {},
   "outputs": [],
   "source": [
    "images = page.get_images()"
   ]
  },
  {
   "cell_type": "code",
   "execution_count": null,
   "metadata": {},
   "outputs": [],
   "source": [
    "help(images[0])"
   ]
  },
  {
   "cell_type": "code",
   "execution_count": null,
   "metadata": {},
   "outputs": [],
   "source": [
    "images[0]"
   ]
  },
  {
   "cell_type": "code",
   "execution_count": null,
   "metadata": {},
   "outputs": [],
   "source": [
    "pix = pymupdf.Pixmap(pdf_file, images[0][0])"
   ]
  },
  {
   "cell_type": "code",
   "execution_count": null,
   "metadata": {},
   "outputs": [],
   "source": [
    "from PIL import Image\n",
    "\n",
    "\n",
    "mode = \"RGBA\" if pix.alpha else \"RGB\"\n",
    "img = Image.frombytes(mode, [pix.width, pix.height], pix.samples)\n",
    "img"
   ]
  },
  {
   "cell_type": "code",
   "execution_count": null,
   "metadata": {},
   "outputs": [],
   "source": [
    "img.save('image1.png')"
   ]
  },
  {
   "cell_type": "markdown",
   "metadata": {},
   "source": [
    "Другой способ "
   ]
  },
  {
   "cell_type": "code",
   "execution_count": null,
   "metadata": {},
   "outputs": [],
   "source": [
    "base_image = pdf_file.extract_image(images[0][0])"
   ]
  },
  {
   "cell_type": "code",
   "execution_count": null,
   "metadata": {},
   "outputs": [],
   "source": [
    "with open('image.png', 'wb') as bytes:\n",
    "    bytes.write(base_image['image'])"
   ]
  },
  {
   "cell_type": "markdown",
   "metadata": {},
   "source": [
    "Сохраним все картинки в из статьи в папку с фотографиями"
   ]
  },
  {
   "cell_type": "code",
   "execution_count": null,
   "metadata": {},
   "outputs": [],
   "source": []
  },
  {
   "cell_type": "markdown",
   "metadata": {},
   "source": [
    "Ссылка на библиотеку с [документацией](https://pymupdf.readthedocs.io/en/latest/the-basics.html \"pymupdf docs\")"
   ]
  },
  {
   "cell_type": "markdown",
   "metadata": {},
   "source": [
    "## Взаимодействие с облачным хранилищем Google Disk\n",
    "\n",
    "Нашей задачей будет настроить связь между локальным компьютером и сервисом Google Drive для обмена файлами.\n",
    "\n",
    "### Подготовка к проекту \n",
    "\n",
    "1. Создание проекта в Google Cloud Console\n",
    "    1. Идем по ссылке на [Google Cloud Console](https://console.cloud.google.com/ \"Console\")\n",
    "    2. Создаем новый проект\n",
    "    3. Далее, нужно включить API Google Drive:\n",
    "        * Перейдите в \"API и службы\" > \"Библиотека\"\n",
    "        * Найдите \"Google Drive API\" и включите его\n",
    "2. Настройка учетных данных \n",
    "    1. Перейдите в \"API и службы\" > \"Учетные данные\".\n",
    "    2. Нажмите \"Создать учетные данные\" и выберите \"OAuth 2.0 Client ID\"\n",
    "    3. Выберите тип приложения (например, \"Desktop app\") и создайте учетные данные\n",
    "    4. Скачайте файл `credentials.json`\n",
    "3. Установка необходимых библиотек\n",
    "    ```python \n",
    "    pip install --upgrade google-api-python-client google-auth-httplib2 google-auth-oauthlib\n",
    "    ```\n",
    "    \n",
    "\n"
   ]
  },
  {
   "cell_type": "code",
   "execution_count": null,
   "metadata": {},
   "outputs": [],
   "source": [
    "!pip install --upgrade google-api-python-client google-auth-httplib2 google-auth-oauthlib"
   ]
  },
  {
   "cell_type": "code",
   "execution_count": null,
   "metadata": {
    "tags": []
   },
   "outputs": [],
   "source": [
    "from google_auth_oauthlib.flow import InstalledAppFlow\n",
    "from googleapiclient.discovery import build\n",
    "import os\n",
    "import io\n",
    "from googleapiclient.http import MediaFileUpload, MediaIoBaseDownload"
   ]
  },
  {
   "cell_type": "markdown",
   "metadata": {},
   "source": [
    "Первая авторизация"
   ]
  },
  {
   "cell_type": "code",
   "execution_count": null,
   "metadata": {
    "tags": []
   },
   "outputs": [],
   "source": [
    "CREDENTIALS = '../client_secret.json'\n",
    "SCOPES = ['https://www.googleapis.com/auth/drive']\n",
    "flow = InstalledAppFlow.from_client_secrets_file(CREDENTIALS, SCOPES)\n",
    "creds = flow.run_local_server(port=0)\n"
   ]
  },
  {
   "cell_type": "markdown",
   "metadata": {},
   "source": [
    "Создадим объект для работы с диском"
   ]
  },
  {
   "cell_type": "code",
   "execution_count": null,
   "metadata": {
    "tags": []
   },
   "outputs": [],
   "source": [
    "service = build('drive', 'v3', credentials=creds)"
   ]
  },
  {
   "cell_type": "code",
   "execution_count": null,
   "metadata": {
    "tags": []
   },
   "outputs": [],
   "source": [
    "def create_file(filename, parents=None):\n",
    "    file_metadata = {\n",
    "        'name': filename,\n",
    "        'mimeType': 'text/plain'\n",
    "    }\n",
    "    if parents:\n",
    "        file_metadata['parents'] = [parents]\n",
    "    file = service.files().create(body=file_metadata, fields='id').execute()\n",
    "    return file\n",
    "\n",
    "def create_folder(foldername):\n",
    "    folder_metadata = {\n",
    "        'name': foldername,\n",
    "        'mimeType': 'application/vnd.google-apps.folder'\n",
    "    }\n",
    "    folder = service.files().create(body=folder_metadata, fields='id').execute()\n",
    "    return folder "
   ]
  },
  {
   "cell_type": "code",
   "execution_count": null,
   "metadata": {
    "tags": []
   },
   "outputs": [],
   "source": [
    "def list_files_in_folder():\n",
    "    ..."
   ]
  },
  {
   "cell_type": "code",
   "execution_count": null,
   "metadata": {
    "tags": []
   },
   "outputs": [],
   "source": [
    "def upload_file():\n",
    "    ...\n",
    "\n",
    "def download_file():\n",
    "    ...\n",
    "\n",
    "def download_folder():\n",
    "    ..."
   ]
  },
  {
   "cell_type": "code",
   "execution_count": null,
   "metadata": {},
   "outputs": [],
   "source": []
  }
 ],
 "metadata": {
  "kernelspec": {
   "display_name": "Python 3",
   "language": "python",
   "name": "python3"
  },
  "language_info": {
   "codemirror_mode": {
    "name": "ipython",
    "version": 3
   },
   "file_extension": ".py",
   "mimetype": "text/x-python",
   "name": "python",
   "nbconvert_exporter": "python",
   "pygments_lexer": "ipython3",
   "version": "3.8.8"
  }
 },
 "nbformat": 4,
 "nbformat_minor": 4
}
