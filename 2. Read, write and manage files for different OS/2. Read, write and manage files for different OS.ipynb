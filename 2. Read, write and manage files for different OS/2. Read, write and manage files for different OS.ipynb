{
 "cells": [
  {
   "cell_type": "markdown",
   "metadata": {},
   "source": [
    "#  Занятие 2. Чтение, запись и управление файлами"
   ]
  },
  {
   "cell_type": "markdown",
   "metadata": {},
   "source": [
    "## Работа с простейшими файлами"
   ]
  },
  {
   "cell_type": "markdown",
   "metadata": {},
   "source": [
    "Согласно определению файл - именованная область постоянной памяти в компьютере, которой управляет операционная система. \n",
    "\n",
    "Чтобы открыть файл, нужно воспользоваться встроенной функцией `open(<путь до файла>, <режим работы с файлом (mode)>)`\n",
    "\n",
    "| mode | Описание |\n",
    "| --- | --- |\n",
    "|`'r'` | чтение (read-only, это значение выставлено по умолчанию)|\n",
    "|`'x'`| создает файл для записи; если файл уже существует, то выдаст ошибку|\n",
    "|`'w'`| создает файл для записи; если файл уже существует, данные будут перезаписаны|\n",
    "|`'a'`| открывает файл для дозаписи в конец файла; если требуемого файла нет, то сначала создаст его|\n",
    "\n",
    "* Добавление символа `b` в строку режима означает работу с двоичными данными\n",
    "* Добавление символа `+` означает, что файл открывается и для чтения, и для записи"
   ]
  },
  {
   "cell_type": "markdown",
   "metadata": {},
   "source": [
    "Рассмотрим пример работы с файлом.\n",
    "Создадим для записи файл `first_file.txt` в директории `./files/` и запишем в него две строки, после чего закроем файл."
   ]
  },
  {
   "cell_type": "code",
   "execution_count": 1,
   "metadata": {
    "tags": []
   },
   "outputs": [],
   "source": [
    "f = open('files/first_file.txt', 'w')  # Открыли файл для записи (файл появится в папке  files)"
   ]
  },
  {
   "cell_type": "code",
   "execution_count": 2,
   "metadata": {
    "tags": []
   },
   "outputs": [],
   "source": [
    "f.write('hello text file\\n')  # Записываем строку в файл с помощью функции write\n",
    "f.write('nice to meet you\\n')\n",
    "f.close()  # Закрываем файл с помощью функции close"
   ]
  },
  {
   "cell_type": "markdown",
   "metadata": {},
   "source": [
    "Попробуем считать данные из нашего файла с помощью функции `readline`, считывающей одну строку из файла при каждом обращении. "
   ]
  },
  {
   "cell_type": "code",
   "execution_count": 3,
   "metadata": {},
   "outputs": [],
   "source": [
    "f = open('files/first_file.txt')"
   ]
  },
  {
   "cell_type": "code",
   "execution_count": 4,
   "metadata": {
    "tags": []
   },
   "outputs": [
    {
     "data": {
      "text/plain": [
       "<_io.TextIOWrapper name='files/first_file.txt' mode='r' encoding='utf-8'>"
      ]
     },
     "execution_count": 4,
     "metadata": {},
     "output_type": "execute_result"
    }
   ],
   "source": [
    "f"
   ]
  },
  {
   "cell_type": "code",
   "execution_count": 5,
   "metadata": {},
   "outputs": [],
   "source": [
    "line1 = f.readline()  # читаем строку"
   ]
  },
  {
   "cell_type": "code",
   "execution_count": 6,
   "metadata": {
    "tags": []
   },
   "outputs": [
    {
     "data": {
      "text/plain": [
       "'hello text file\\n'"
      ]
     },
     "execution_count": 6,
     "metadata": {},
     "output_type": "execute_result"
    }
   ],
   "source": [
    "line1"
   ]
  },
  {
   "cell_type": "code",
   "execution_count": 7,
   "metadata": {},
   "outputs": [],
   "source": [
    "line2 = f.readline() \n",
    "f.close()"
   ]
  },
  {
   "cell_type": "code",
   "execution_count": 8,
   "metadata": {},
   "outputs": [
    {
     "data": {
      "text/plain": [
       "('hello text file\\n', 'nice to meet you\\n')"
      ]
     },
     "execution_count": 8,
     "metadata": {},
     "output_type": "execute_result"
    }
   ],
   "source": [
    "line1, line2"
   ]
  },
  {
   "cell_type": "markdown",
   "metadata": {},
   "source": [
    "Строк в файле обычно бывает много, поэтому обернем считывание из файла в цикл"
   ]
  },
  {
   "cell_type": "code",
   "execution_count": 9,
   "metadata": {},
   "outputs": [],
   "source": [
    "f = open('files/first_file.txt')\n",
    "lines = []  # массив для хранения строк\n",
    "while True:\n",
    "    line = f.readline()\n",
    "    if line == '':  # проверяем, есть ли еще строки в файле\n",
    "        break\n",
    "    lines.append(line)\n",
    "f.close()"
   ]
  },
  {
   "cell_type": "code",
   "execution_count": 10,
   "metadata": {},
   "outputs": [
    {
     "data": {
      "text/plain": [
       "['hello text file\\n', 'nice to meet you\\n']"
      ]
     },
     "execution_count": 10,
     "metadata": {},
     "output_type": "execute_result"
    }
   ],
   "source": [
    "lines"
   ]
  },
  {
   "cell_type": "markdown",
   "metadata": {},
   "source": [
    "Закрывать за собой файлы - это пример хорошего тона в программировании, однако в Python это действие не является обязательным. Дело в автоматическом сборщике мусора, который закроет файл после окончания выполнения программы.\n",
    "\n",
    "Помимо этого существует альтернитивный вариант автоматического закрытия файла - использование так называемого *контекстного менеджера*:"
   ]
  },
  {
   "cell_type": "markdown",
   "metadata": {},
   "source": [
    "### Контексный менеждер для работы с файлами"
   ]
  },
  {
   "cell_type": "code",
   "execution_count": 11,
   "metadata": {},
   "outputs": [
    {
     "name": "stdout",
     "output_type": "stream",
     "text": [
      "['hello text file\\n', 'nice to meet you\\n']\n"
     ]
    }
   ],
   "source": [
    "lines = []\n",
    "with open('files/first_file.txt') as f:\n",
    "    while True:\n",
    "        line = f.readline()\n",
    "        if line == '':  \n",
    "            break\n",
    "        lines.append(line)\n",
    "print(lines)"
   ]
  },
  {
   "cell_type": "markdown",
   "metadata": {},
   "source": [
    "Открытие файла при помощи конструкции `with` ... `as` позволяет автоматически закрыть файл после выполнения блока внутри конструкции. Убедимся, что файл закрыт:"
   ]
  },
  {
   "cell_type": "code",
   "execution_count": 12,
   "metadata": {},
   "outputs": [
    {
     "ename": "ValueError",
     "evalue": "I/O operation on closed file.",
     "output_type": "error",
     "traceback": [
      "\u001b[1;31m---------------------------------------------------------------------------\u001b[0m",
      "\u001b[1;31mValueError\u001b[0m                                Traceback (most recent call last)",
      "Cell \u001b[1;32mIn[12], line 1\u001b[0m\n\u001b[1;32m----> 1\u001b[0m f\u001b[38;5;241m.\u001b[39mwrite(\u001b[38;5;124m'\u001b[39m\u001b[38;5;124mdf\u001b[39m\u001b[38;5;124m'\u001b[39m)\n",
      "\u001b[1;31mValueError\u001b[0m: I/O operation on closed file."
     ]
    }
   ],
   "source": [
    "f.write('df')"
   ]
  },
  {
   "cell_type": "markdown",
   "metadata": {},
   "source": [
    "Есть возможность прочитать файл целиком за один раз. Инструкция `file.read()` вернет строку со всем содержимым файла. Однако делать так стоит лишь когда вы уверены, что размер файла не превышает размера оперативной памяти, оставшейся в распоряжении компьютера."
   ]
  },
  {
   "cell_type": "code",
   "execution_count": 13,
   "metadata": {},
   "outputs": [],
   "source": [
    "lines = []\n",
    "with open('files/first_file.txt') as f:\n",
    "    whole_file = f.read()\n",
    "    for line in whole_file.split('\\n'):\n",
    "        lines.append(line)\n",
    "        "
   ]
  },
  {
   "cell_type": "code",
   "execution_count": 14,
   "metadata": {},
   "outputs": [
    {
     "data": {
      "text/plain": [
       "'hello text file\\nnice to meet you\\n'"
      ]
     },
     "execution_count": 14,
     "metadata": {},
     "output_type": "execute_result"
    }
   ],
   "source": [
    "whole_file"
   ]
  },
  {
   "cell_type": "code",
   "execution_count": 15,
   "metadata": {},
   "outputs": [
    {
     "data": {
      "text/plain": [
       "['hello text file', 'nice to meet you', '']"
      ]
     },
     "execution_count": 15,
     "metadata": {},
     "output_type": "execute_result"
    }
   ],
   "source": [
    "lines"
   ]
  },
  {
   "cell_type": "markdown",
   "metadata": {},
   "source": [
    "посмотреть о всех возможных методах для файлов можно посмотреть [тут](https://docs.python.org/2.4/lib/bltin-file-objects.html)"
   ]
  },
  {
   "cell_type": "markdown",
   "metadata": {},
   "source": [
    "## Модули "
   ]
  },
  {
   "cell_type": "markdown",
   "metadata": {},
   "source": [
    "Зачастую при разработке какого-нибудь проекта написанный программный код разрастается, и работать с ним становится некомфортно (даже после разбиения его на отдельные функции или другие структуры). В таком случае полезно разделять программный код на отдельные логические части и \"прятать\" их в модули. Например, если программа использует большое число различных функций, удобно все эти функции поместить в один модуль и подгрузить его.\n",
    "\n",
    "Любой файл с текстом на языке Python и расширением `.py`может быть использован в качестве модуля. Например, `fft.py`."
   ]
  },
  {
   "cell_type": "markdown",
   "metadata": {},
   "source": [
    "Рассмотрим в качестве примера модули в папке *modules_examples*. \n",
    "\n",
    "Загрузить файл с этим кодом в качестве модуля можно с помощью инструкции \n",
    "\n",
    "`import modules_examples.test_module1`"
   ]
  },
  {
   "cell_type": "markdown",
   "metadata": {},
   "source": [
    "Файл `test_module1.py`\n",
    "\n",
    "```python\n",
    "\n",
    "# test_module1\n",
    "print(f\"Hello, i'm module\")\n",
    "\n",
    "var1 = 1000\n",
    "\n",
    "def some_cool_function():\n",
    "    print('I do nothing')\n",
    "    \n",
    "def func(a: str, b: str):\n",
    "    return f\"{a.capitalize()} {b.upper()}\"\n",
    "```"
   ]
  },
  {
   "cell_type": "code",
   "execution_count": 16,
   "metadata": {},
   "outputs": [
    {
     "name": "stdout",
     "output_type": "stream",
     "text": [
      "Hello, i'm module modules_examples.test_module1\n"
     ]
    }
   ],
   "source": [
    "import modules_examples.test_module1 as tm1"
   ]
  },
  {
   "cell_type": "markdown",
   "metadata": {},
   "source": [
    "Команда `import` выполняет все инструкции в загруженном файле, поэтому появляется вывод функции `print`. Инструкция `import` может появляться в любом месте программы, однако программный код любого модуля загружается и выполняется только один раз, независимо от количества инструкций `import`, загружающих его. Все последующие инструкции `import` будут просто связывать имя модуля с объектом модуля, созданным первой встретившейся инструкцией `import`."
   ]
  },
  {
   "cell_type": "code",
   "execution_count": 17,
   "metadata": {},
   "outputs": [],
   "source": [
    "import modules_examples.test_module1 as tm1"
   ]
  },
  {
   "cell_type": "code",
   "execution_count": 18,
   "metadata": {
    "tags": []
   },
   "outputs": [
    {
     "data": {
      "text/plain": [
       "1000"
      ]
     },
     "execution_count": 18,
     "metadata": {},
     "output_type": "execute_result"
    }
   ],
   "source": [
    "tm1.var1"
   ]
  },
  {
   "cell_type": "code",
   "execution_count": 19,
   "metadata": {},
   "outputs": [
    {
     "name": "stdout",
     "output_type": "stream",
     "text": [
      "I do nothing\n"
     ]
    }
   ],
   "source": [
    "tm1.some_cool_function()"
   ]
  },
  {
   "cell_type": "markdown",
   "metadata": {},
   "source": [
    "В одной из первых тем курса мы говорили, что посмотреть доступные методы некоторого объекта можно с помощью функций `help` и `dir`. Давайте воспользуемся функцией `help` и посмотрим информацию об импортируемом модуле"
   ]
  },
  {
   "cell_type": "code",
   "execution_count": 20,
   "metadata": {},
   "outputs": [
    {
     "name": "stdout",
     "output_type": "stream",
     "text": [
      "Help on module modules_examples.test_module1 in modules_examples:\n",
      "\n",
      "NAME\n",
      "    modules_examples.test_module1\n",
      "\n",
      "FUNCTIONS\n",
      "    func(a: str, b: str)\n",
      "\n",
      "    some_cool_function()\n",
      "\n",
      "DATA\n",
      "    var1 = 1000\n",
      "\n",
      "FILE\n",
      "    c:\\vs_projects\\automation of work with text data and excel tables using python\\2. read, write and manage files for different os\\modules_examples\\test_module1.py\n",
      "\n",
      "\n"
     ]
    }
   ],
   "source": [
    "help(tm1)"
   ]
  },
  {
   "cell_type": "markdown",
   "metadata": {},
   "source": [
    "Мы видим основную информацию о модуле: его название, список достпуных методов, также имеется целочисленная переменная `var1` и полный путь до модуля. Соответственно, после импорта нам доступны все методы и переменные в модуле"
   ]
  },
  {
   "cell_type": "code",
   "execution_count": 21,
   "metadata": {},
   "outputs": [
    {
     "data": {
      "text/plain": [
       "1000"
      ]
     },
     "execution_count": 21,
     "metadata": {},
     "output_type": "execute_result"
    }
   ],
   "source": [
    "tm1.var1"
   ]
  },
  {
   "cell_type": "code",
   "execution_count": 22,
   "metadata": {},
   "outputs": [
    {
     "name": "stdout",
     "output_type": "stream",
     "text": [
      "I do nothing\n"
     ]
    }
   ],
   "source": [
    "tm1.some_cool_function()"
   ]
  },
  {
   "cell_type": "code",
   "execution_count": 23,
   "metadata": {},
   "outputs": [
    {
     "data": {
      "text/plain": [
       "'Type SOMETHING'"
      ]
     },
     "execution_count": 23,
     "metadata": {},
     "output_type": "execute_result"
    }
   ],
   "source": [
    "tm1.func('type', 'something')"
   ]
  },
  {
   "cell_type": "markdown",
   "metadata": {},
   "source": [
    "#### Импортирование отдельных имен из модулей\n",
    "Иногда из всего модуля нам необходимо всего несколько функций и нам не хочется импортировать его целиком. Тогда можно воспользоваться инструкцией `from <module> import <function1>, <function2>`."
   ]
  },
  {
   "cell_type": "markdown",
   "metadata": {},
   "source": [
    "Файл `test_module2.py`\n",
    "```python \n",
    "#test_module2\n",
    "\n",
    "def some_cool_function():\n",
    "    print('I do nothing')\n",
    "\n",
    "def func(a: str, b: str):\n",
    "    return f\"{a.capitalize()} {b.upper()}\"\n",
    "\n",
    "def prod(a=1, *args):\n",
    "    for i in args:\n",
    "        a *= i\n",
    "    return a\n",
    "```"
   ]
  },
  {
   "cell_type": "code",
   "execution_count": 24,
   "metadata": {},
   "outputs": [],
   "source": [
    "from modules_examples.test_module2 import *"
   ]
  },
  {
   "cell_type": "code",
   "execution_count": 25,
   "metadata": {},
   "outputs": [
    {
     "data": {
      "text/plain": [
       "24"
      ]
     },
     "execution_count": 25,
     "metadata": {},
     "output_type": "execute_result"
    }
   ],
   "source": [
    "prod(2, 3, 4)"
   ]
  },
  {
   "cell_type": "markdown",
   "metadata": {},
   "source": [
    "Для того чтобы подгрузить все функции в модуле через инструкцию `from` можно воспользоваться выражением `from <module> import *`. \n",
    "\n",
    "Такая запись избавит вас от необходимости писать название модуля перед нужной функцией. Однако делать так не рекомендуется, так как при таком вызове в наше пространство имен выгружаются все имена функций, переменных из модуля, и в таком случае при совпадении имен старое значение будет перезаписано. "
   ]
  },
  {
   "cell_type": "markdown",
   "metadata": {},
   "source": [
    "Например, пусть у нас есть переменная  `sign`, а в модуле `test_module3.py` содержится функция с таким же именем."
   ]
  },
  {
   "cell_type": "code",
   "execution_count": 26,
   "metadata": {},
   "outputs": [],
   "source": [
    "sign = \"+\""
   ]
  },
  {
   "cell_type": "markdown",
   "metadata": {},
   "source": [
    "Файл `test_module3.py`\n",
    "```python \n",
    "#test_module3\n",
    "\n",
    "def sign(a, b):\n",
    "    return 1 if a > b else 0\n",
    "```"
   ]
  },
  {
   "cell_type": "markdown",
   "metadata": {},
   "source": [
    "Если теперь из модуля `test_module3.py` подгрузить все функции, то переменная `sign` перезапишется и станет функцией."
   ]
  },
  {
   "cell_type": "code",
   "execution_count": 27,
   "metadata": {
    "tags": []
   },
   "outputs": [
    {
     "data": {
      "text/plain": [
       "'+'"
      ]
     },
     "execution_count": 27,
     "metadata": {},
     "output_type": "execute_result"
    }
   ],
   "source": [
    "sign"
   ]
  },
  {
   "cell_type": "code",
   "execution_count": 28,
   "metadata": {},
   "outputs": [],
   "source": [
    "from modules_examples.test_module3 import *  "
   ]
  },
  {
   "cell_type": "code",
   "execution_count": 29,
   "metadata": {
    "tags": []
   },
   "outputs": [
    {
     "data": {
      "text/plain": [
       "<function modules_examples.test_module3.sign(a, b)>"
      ]
     },
     "execution_count": 29,
     "metadata": {},
     "output_type": "execute_result"
    }
   ],
   "source": [
    "sign"
   ]
  },
  {
   "cell_type": "code",
   "execution_count": 30,
   "metadata": {},
   "outputs": [
    {
     "name": "stdout",
     "output_type": "stream",
     "text": [
      "Writing mdl.py\n"
     ]
    }
   ],
   "source": [
    "%%writefile mdl.py\n",
    "print('n')\n",
    "def f():\n",
    "    return 'a'"
   ]
  },
  {
   "cell_type": "code",
   "execution_count": 31,
   "metadata": {},
   "outputs": [
    {
     "name": "stdout",
     "output_type": "stream",
     "text": [
      "n\n"
     ]
    },
    {
     "data": {
      "text/plain": [
       "'a'"
      ]
     },
     "execution_count": 31,
     "metadata": {},
     "output_type": "execute_result"
    }
   ],
   "source": [
    "import mdl\n",
    "mdl.f()"
   ]
  },
  {
   "cell_type": "code",
   "execution_count": 32,
   "metadata": {},
   "outputs": [
    {
     "name": "stdout",
     "output_type": "stream",
     "text": [
      "20\n"
     ]
    }
   ],
   "source": [
    "привет = 10\n",
    "print(привет +10)"
   ]
  },
  {
   "cell_type": "markdown",
   "metadata": {},
   "source": [
    "### Задача 1\n",
    "---\n",
    "Напишите модуль `ticket` в котором есть функция `is_ticket_happy`, которая ожидает на вход строку и проверяет является ли введенный номер [счастливым](https://ru.wikipedia.org/wiki/%D0%A1%D1%87%D0%B0%D1%81%D1%82%D0%BB%D0%B8%D0%B2%D1%8B%D0%B9_%D0%B1%D0%B8%D0%BB%D0%B5%D1%82) - cчастливым считается билет, в шестизначном номере которого сумма первых трёх цифр совпадает с суммой трёх последних. \n",
    "\n",
    "Функция возвращает булевое значение."
   ]
  },
  {
   "cell_type": "code",
   "execution_count": 33,
   "metadata": {},
   "outputs": [
    {
     "name": "stdout",
     "output_type": "stream",
     "text": [
      "Writing happy.py\n"
     ]
    }
   ],
   "source": [
    "%%writefile happy.py\n",
    "def is_ticket_happy(s: str) -> bool:\n",
    "    return int(s[0]) + int(s[1]) + int(s[2]) == int(s[-3]) + int(s[-2]) + int(s[-1])"
   ]
  },
  {
   "cell_type": "code",
   "execution_count": 34,
   "metadata": {
    "tags": []
   },
   "outputs": [
    {
     "ename": "NameError",
     "evalue": "name 'is_ticket_happy' is not defined",
     "output_type": "error",
     "traceback": [
      "\u001b[1;31m---------------------------------------------------------------------------\u001b[0m",
      "\u001b[1;31mNameError\u001b[0m                                 Traceback (most recent call last)",
      "Cell \u001b[1;32mIn[34], line 1\u001b[0m\n\u001b[1;32m----> 1\u001b[0m is_ticket_happy(\u001b[38;5;124m'\u001b[39m\u001b[38;5;124m101290\u001b[39m\u001b[38;5;124m'\u001b[39m)\n",
      "\u001b[1;31mNameError\u001b[0m: name 'is_ticket_happy' is not defined"
     ]
    }
   ],
   "source": [
    "is_ticket_happy('101290')"
   ]
  },
  {
   "cell_type": "code",
   "execution_count": 35,
   "metadata": {},
   "outputs": [
    {
     "data": {
      "text/plain": [
       "False"
      ]
     },
     "execution_count": 35,
     "metadata": {},
     "output_type": "execute_result"
    }
   ],
   "source": [
    "import happy\n",
    "happy.is_ticket_happy('101201')"
   ]
  },
  {
   "cell_type": "code",
   "execution_count": 36,
   "metadata": {},
   "outputs": [
    {
     "data": {
      "text/plain": [
       "False"
      ]
     },
     "execution_count": 36,
     "metadata": {},
     "output_type": "execute_result"
    }
   ],
   "source": [
    "from happy import is_ticket_happy\n",
    "is_ticket_happy('101201')"
   ]
  },
  {
   "cell_type": "code",
   "execution_count": 37,
   "metadata": {
    "tags": []
   },
   "outputs": [
    {
     "data": {
      "text/plain": [
       "True"
      ]
     },
     "execution_count": 37,
     "metadata": {},
     "output_type": "execute_result"
    }
   ],
   "source": [
    "is_ticket_happy('111003')"
   ]
  },
  {
   "cell_type": "markdown",
   "metadata": {},
   "source": [
    "## Библиотеки"
   ]
  },
  {
   "cell_type": "markdown",
   "metadata": {},
   "source": [
    "Теперь мы перейдём к изучению библиотек. По факту библиотекой называется набор тех самых модулей для решения конкретных задач. Часто в Python слово \"модуль\" и \"библотека\" вообще используются как синонимы. Главный критерий по которому мы будем разделять библиотеку и модуль будет то, что модуль написан лично Вами, а библиотека сделана другими профессиональными разработчиками. \n",
    "\n",
    "В Anacond-e есть встроенный набор некоторых библиотек, в качестве примера рассмотрим библиотеку `random`. "
   ]
  },
  {
   "cell_type": "markdown",
   "metadata": {},
   "source": [
    "Очень часто при решении задач, например, при статистическом моделировании результатов различных экспериментов, возникает необходимость использования случайных чисел.\n",
    "\n",
    "Для работы с ними в языке `Python` реализован целый набор функций, которые собраны в модуле `random`.\n",
    "\n",
    "Для подключения модуля к программе используется инструкция:\n",
    "\n",
    "~~~python\n",
    "import random\n",
    "~~~\n",
    "\n",
    "Ниже приведены некоторые из функций модуля, которые позволят использовать команды для генерации псевдослучайных чисел.\n",
    "\n",
    "|Функции |Описание|\n",
    "|---|:-|\n",
    "|`random.random()`|возвращает случайное вещественное число от 0.0 до 1.0|\n",
    "|`random.seed([a=<параметр>][, version=2])`|настраивает генератор случайных чисел на новую последовательность|\n",
    "|`random.uniform(<начало>, <конец>)`|возвращает случайное вещественное число в равновероятном диапазоне от \\<начала\\> до \\<конца\\>|\n",
    "|`random.randint(<начало>, <конец>)`|случайное целое число в диапазоне от \\<начала\\> до \\<конца\\>|\n",
    "|`random.randrange(<начало>, <конец>, <шаг>)`|выбирает случайный элемент из числовой последовательности|\n",
    "|`random.choice(<последовательность>)`|выбирает случайный элемент из некоторой непустой последовательности|\n",
    "\n",
    "*Псевдо*случайными числа называются потому, что для их создания применяются математические формулы, так что, зная вид генерирующей формулы и стартовые числа (\"затравки\" или \"зерна\" – seed), можно воспроизвести всю последовательность. Кроме того, цепочки псевдослучайных чисел являются замкнутыми: через $N$-ое количество значений последовательность начнет повторяться (именно последовательность, а не ее отдельные элементы). Величина $N$ считается показателем качества генератора случайных чисел: чем она выше, тем более надежную \"случайность\" вы получите в своей программе. Современные хорошие генераторы обладают длинами неповторяющихся последовательностей около $10^{50}$ значений!"
   ]
  },
  {
   "cell_type": "code",
   "execution_count": 38,
   "metadata": {},
   "outputs": [],
   "source": [
    "import random"
   ]
  },
  {
   "cell_type": "code",
   "execution_count": 39,
   "metadata": {},
   "outputs": [
    {
     "name": "stdout",
     "output_type": "stream",
     "text": [
      "0.4711175603874761\n"
     ]
    }
   ],
   "source": [
    "a = random.random()\n",
    "print(a)"
   ]
  },
  {
   "cell_type": "code",
   "execution_count": 40,
   "metadata": {},
   "outputs": [
    {
     "name": "stdout",
     "output_type": "stream",
     "text": [
      "0.9560342718892494\n",
      "0.9478274870593494\n"
     ]
    }
   ],
   "source": [
    "random.seed(2)\n",
    "a = random.random()\n",
    "print(a)\n",
    "print(random.random())"
   ]
  },
  {
   "cell_type": "code",
   "execution_count": 41,
   "metadata": {},
   "outputs": [
    {
     "name": "stdout",
     "output_type": "stream",
     "text": [
      "-0.37793495500510443\n"
     ]
    }
   ],
   "source": [
    "a = random.uniform(-1, 10)\n",
    "print(a)"
   ]
  },
  {
   "cell_type": "code",
   "execution_count": 42,
   "metadata": {},
   "outputs": [
    {
     "name": "stdout",
     "output_type": "stream",
     "text": [
      "-1\n"
     ]
    }
   ],
   "source": [
    "a = random.randint(-1, 1)\n",
    "print(a)"
   ]
  },
  {
   "cell_type": "code",
   "execution_count": 44,
   "metadata": {},
   "outputs": [
    {
     "name": "stdout",
     "output_type": "stream",
     "text": [
      "A\n"
     ]
    }
   ],
   "source": [
    "a = random.choice(['A', 'B', 'C'])\n",
    "print(a)"
   ]
  },
  {
   "cell_type": "markdown",
   "metadata": {},
   "source": [
    "### Задача 2\n",
    "---\n",
    "\n",
    "Напишите функцию, которая моделирует взятие случайной карты из колоды.\n",
    "\n",
    "Примерный формат вывода: 6♥ 2♦ Q♣ A♠ "
   ]
  },
  {
   "cell_type": "code",
   "execution_count": 45,
   "metadata": {},
   "outputs": [],
   "source": [
    "import random\n",
    "values = [str(i) for i in range(2, 11)] + ['J', 'Q', 'K', 'A']\n",
    "suits = ['♥', '♦', '♣', '♠']\n",
    "\n",
    "deck = []\n",
    "for value in values:\n",
    "    for s in suits:\n",
    "        deck.append(value+s)"
   ]
  },
  {
   "cell_type": "code",
   "execution_count": 46,
   "metadata": {
    "tags": []
   },
   "outputs": [
    {
     "name": "stdout",
     "output_type": "stream",
     "text": [
      "5♠\n",
      "6♠\n",
      "3♣\n",
      "K♣\n",
      "8♦\n",
      "9♣\n",
      "4♦\n",
      "3♦\n",
      "3♥\n",
      "2♦\n"
     ]
    }
   ],
   "source": [
    "random.seed(4)\n",
    "for i in range(10):\n",
    "    print(random.choice(deck))"
   ]
  },
  {
   "cell_type": "markdown",
   "metadata": {},
   "source": [
    "### Библиотеки для работы с файлами и окружением"
   ]
  },
  {
   "cell_type": "markdown",
   "metadata": {},
   "source": [
    "### Модуль `os`\n",
    "\n",
    "Библиотека `os` в Python предоставляет множество функций для взаимодействия с операционной системой. Далее, посмотрим на основные функции данной библиотеки"
   ]
  },
  {
   "cell_type": "code",
   "execution_count": 47,
   "metadata": {},
   "outputs": [],
   "source": [
    "import os"
   ]
  },
  {
   "cell_type": "markdown",
   "metadata": {},
   "source": [
    "Вывод рабочей директории"
   ]
  },
  {
   "cell_type": "code",
   "execution_count": 48,
   "metadata": {},
   "outputs": [
    {
     "data": {
      "text/plain": [
       "'c:\\\\vs_projects\\\\Automation of work with text data and Excel tables using Python\\\\2. Read, write and manage files for different OS'"
      ]
     },
     "execution_count": 48,
     "metadata": {},
     "output_type": "execute_result"
    }
   ],
   "source": [
    "os.getcwd()"
   ]
  },
  {
   "cell_type": "markdown",
   "metadata": {},
   "source": [
    "Библиотека позволяет создавать и удалять директории"
   ]
  },
  {
   "cell_type": "code",
   "execution_count": 49,
   "metadata": {},
   "outputs": [],
   "source": [
    "new_folder = 'os_example'\n",
    "os.mkdir(new_folder)"
   ]
  },
  {
   "cell_type": "code",
   "execution_count": 50,
   "metadata": {},
   "outputs": [],
   "source": [
    "os.rmdir('os_example')"
   ]
  },
  {
   "cell_type": "markdown",
   "metadata": {},
   "source": [
    "Модуль позволяет получить список всех файлов и папок, содержащихся в заданной директории"
   ]
  },
  {
   "cell_type": "code",
   "execution_count": 51,
   "metadata": {},
   "outputs": [
    {
     "data": {
      "text/plain": [
       "['.DS_Store',\n",
       " '.ipynb_checkpoints',\n",
       " '2. Read, write and manage files for different OS.ipynb',\n",
       " 'files',\n",
       " 'happy.py',\n",
       " 'mdl.py',\n",
       " 'modules_examples',\n",
       " 'pdf-files',\n",
       " 'photo',\n",
       " '__pycache__']"
      ]
     },
     "execution_count": 51,
     "metadata": {},
     "output_type": "execute_result"
    }
   ],
   "source": [
    "os.listdir()"
   ]
  },
  {
   "cell_type": "code",
   "execution_count": 52,
   "metadata": {},
   "outputs": [],
   "source": [
    "path = './files'\n",
    "files = os.listdir(path)"
   ]
  },
  {
   "cell_type": "code",
   "execution_count": 53,
   "metadata": {
    "tags": []
   },
   "outputs": [
    {
     "data": {
      "text/plain": [
       "['first_file.txt', 'massiv.txt']"
      ]
     },
     "execution_count": 53,
     "metadata": {},
     "output_type": "execute_result"
    }
   ],
   "source": [
    "files"
   ]
  },
  {
   "cell_type": "markdown",
   "metadata": {},
   "source": [
    "Чтобы не прописывать пути до файлов в ручную можно использовать метод `join`"
   ]
  },
  {
   "cell_type": "code",
   "execution_count": 54,
   "metadata": {},
   "outputs": [
    {
     "data": {
      "text/plain": [
       "'./files\\\\first_file.txt'"
      ]
     },
     "execution_count": 54,
     "metadata": {},
     "output_type": "execute_result"
    }
   ],
   "source": [
    "os.path.join(path, files[0])"
   ]
  },
  {
   "cell_type": "code",
   "execution_count": 55,
   "metadata": {},
   "outputs": [
    {
     "data": {
      "text/plain": [
       "'test_dir\\\\level_1\\\\level_2\\\\level_3'"
      ]
     },
     "execution_count": 55,
     "metadata": {},
     "output_type": "execute_result"
    }
   ],
   "source": [
    "path = os.path.join('test_dir', 'level_1', 'level_2', 'level_3')\n",
    "path"
   ]
  },
  {
   "cell_type": "markdown",
   "metadata": {},
   "source": [
    "Если нужно создать поддиректории тоже"
   ]
  },
  {
   "cell_type": "code",
   "execution_count": 56,
   "metadata": {},
   "outputs": [],
   "source": [
    "os.makedirs(path)"
   ]
  },
  {
   "cell_type": "code",
   "execution_count": 57,
   "metadata": {},
   "outputs": [
    {
     "ename": "OSError",
     "evalue": "[WinError 145] Папка не пуста: './test_dir'",
     "output_type": "error",
     "traceback": [
      "\u001b[1;31m---------------------------------------------------------------------------\u001b[0m",
      "\u001b[1;31mOSError\u001b[0m                                   Traceback (most recent call last)",
      "Cell \u001b[1;32mIn[57], line 1\u001b[0m\n\u001b[1;32m----> 1\u001b[0m os\u001b[38;5;241m.\u001b[39mrmdir(\u001b[38;5;124m'\u001b[39m\u001b[38;5;124m./test_dir\u001b[39m\u001b[38;5;124m'\u001b[39m)\n",
      "\u001b[1;31mOSError\u001b[0m: [WinError 145] Папка не пуста: './test_dir'"
     ]
    }
   ],
   "source": [
    "os.rmdir('./test_dir')"
   ]
  },
  {
   "cell_type": "markdown",
   "metadata": {},
   "source": [
    "Также есть возможность получить полный путь до файла"
   ]
  },
  {
   "cell_type": "code",
   "execution_count": 58,
   "metadata": {
    "tags": []
   },
   "outputs": [
    {
     "data": {
      "text/plain": [
       "'first_file.txt'"
      ]
     },
     "execution_count": 58,
     "metadata": {},
     "output_type": "execute_result"
    }
   ],
   "source": [
    "files[0]"
   ]
  },
  {
   "cell_type": "code",
   "execution_count": 59,
   "metadata": {},
   "outputs": [
    {
     "data": {
      "text/plain": [
       "'c:\\\\vs_projects\\\\Automation of work with text data and Excel tables using Python\\\\2. Read, write and manage files for different OS\\\\first_file.txt'"
      ]
     },
     "execution_count": 59,
     "metadata": {},
     "output_type": "execute_result"
    }
   ],
   "source": [
    "path_to_file = os.path.abspath(files[0])\n",
    "path_to_file"
   ]
  },
  {
   "cell_type": "code",
   "execution_count": 60,
   "metadata": {},
   "outputs": [
    {
     "data": {
      "text/plain": [
       "False"
      ]
     },
     "execution_count": 60,
     "metadata": {},
     "output_type": "execute_result"
    }
   ],
   "source": [
    "os.path.exists(path_to_file)"
   ]
  },
  {
   "cell_type": "code",
   "execution_count": 61,
   "metadata": {},
   "outputs": [],
   "source": [
    "path = os.path.join('files', files[0])\n",
    "path_to_file = os.path.abspath(path)"
   ]
  },
  {
   "cell_type": "code",
   "execution_count": 62,
   "metadata": {
    "tags": []
   },
   "outputs": [
    {
     "data": {
      "text/plain": [
       "'c:\\\\vs_projects\\\\Automation of work with text data and Excel tables using Python\\\\2. Read, write and manage files for different OS\\\\files\\\\first_file.txt'"
      ]
     },
     "execution_count": 62,
     "metadata": {},
     "output_type": "execute_result"
    }
   ],
   "source": [
    "path_to_file"
   ]
  },
  {
   "cell_type": "code",
   "execution_count": 63,
   "metadata": {},
   "outputs": [
    {
     "data": {
      "text/plain": [
       "True"
      ]
     },
     "execution_count": 63,
     "metadata": {},
     "output_type": "execute_result"
    }
   ],
   "source": [
    "os.path.exists(path_to_file)"
   ]
  },
  {
   "cell_type": "markdown",
   "metadata": {},
   "source": [
    "Проверка является ли указанный путь файлом или директорией"
   ]
  },
  {
   "cell_type": "code",
   "execution_count": 64,
   "metadata": {},
   "outputs": [
    {
     "data": {
      "text/plain": [
       "True"
      ]
     },
     "execution_count": 64,
     "metadata": {},
     "output_type": "execute_result"
    }
   ],
   "source": [
    "os.path.isfile(path_to_file)"
   ]
  },
  {
   "cell_type": "code",
   "execution_count": 65,
   "metadata": {},
   "outputs": [
    {
     "data": {
      "text/plain": [
       "False"
      ]
     },
     "execution_count": 65,
     "metadata": {},
     "output_type": "execute_result"
    }
   ],
   "source": [
    "os.path.isdir(path_to_file)"
   ]
  },
  {
   "cell_type": "markdown",
   "metadata": {},
   "source": [
    "#### Обход дерева катологов\n",
    "Предположим, вы хотите переименовать все файлы, находящиеся в некоторой папке, а также во всех ее подпапках. Следовательно, вам необходимо выполнить обход всего  дерева каталогов. \n"
   ]
  },
  {
   "cell_type": "code",
   "execution_count": 66,
   "metadata": {},
   "outputs": [],
   "source": [
    "items = [item for item in os.walk('./')]"
   ]
  },
  {
   "cell_type": "markdown",
   "metadata": {},
   "source": [
    "Функция возвращает по три значения на каждой итерации цикла:\n",
    "* строку с именем папки \n",
    "* список строк из имен папок, которые содержатся в текущей папке\n",
    "* список строк из имен файлов текущей папки"
   ]
  },
  {
   "cell_type": "code",
   "execution_count": 67,
   "metadata": {},
   "outputs": [
    {
     "data": {
      "text/plain": [
       "('./modules_examples\\\\__pycache__',\n",
       " [],\n",
       " ['test_module1.cpython-312.pyc',\n",
       "  'test_module2.cpython-312.pyc',\n",
       "  'test_module3.cpython-312.pyc'])"
      ]
     },
     "execution_count": 67,
     "metadata": {},
     "output_type": "execute_result"
    }
   ],
   "source": [
    "items[4]"
   ]
  },
  {
   "cell_type": "code",
   "execution_count": 68,
   "metadata": {
    "tags": []
   },
   "outputs": [
    {
     "data": {
      "text/plain": [
       "1"
      ]
     },
     "execution_count": 68,
     "metadata": {},
     "output_type": "execute_result"
    }
   ],
   "source": [
    "os.system('touch test.txt')"
   ]
  },
  {
   "cell_type": "markdown",
   "metadata": {},
   "source": [
    "### Модуль `shutil`\n",
    "Содержит функции, позволяющие копировать, перемещать, переименовывать и удалять файлы. "
   ]
  },
  {
   "cell_type": "code",
   "execution_count": 69,
   "metadata": {},
   "outputs": [],
   "source": [
    "import shutil"
   ]
  },
  {
   "cell_type": "markdown",
   "metadata": {},
   "source": [
    "Работать с библиотекой мы начнем на примере. Рассмотрим содержимое папки `photo`"
   ]
  },
  {
   "cell_type": "code",
   "execution_count": 70,
   "metadata": {},
   "outputs": [
    {
     "name": "stdout",
     "output_type": "stream",
     "text": [
      "['.DS_Store', 'cat1.avif', 'cat2.jpg', 'cat3.jpg', 'dog1.avif', 'dog2.jpeg', 'dog3.avif', 'dog4.avif']\n"
     ]
    }
   ],
   "source": [
    "path = './photo'\n",
    "files = os.listdir(path)\n",
    "print(files)"
   ]
  },
  {
   "cell_type": "markdown",
   "metadata": {},
   "source": [
    "Рассортируем наши фотографии по отдельным папкам внутри акталога `photo`"
   ]
  },
  {
   "cell_type": "code",
   "execution_count": 71,
   "metadata": {
    "tags": []
   },
   "outputs": [],
   "source": [
    "path_cats = os.path.join(path, 'cats-photos')\n",
    "path_dogs = os.path.join(path, 'dogs-photos')"
   ]
  },
  {
   "cell_type": "code",
   "execution_count": 72,
   "metadata": {
    "tags": []
   },
   "outputs": [],
   "source": [
    "def create_dir(path: str) -> None:\n",
    "    if not os.path.exists(path):\n",
    "        os.mkdir(path)"
   ]
  },
  {
   "cell_type": "code",
   "execution_count": 73,
   "metadata": {
    "tags": []
   },
   "outputs": [],
   "source": [
    "create_dir(path_cats)\n",
    "create_dir(path_dogs)"
   ]
  },
  {
   "cell_type": "code",
   "execution_count": 74,
   "metadata": {
    "tags": []
   },
   "outputs": [],
   "source": [
    "for item in os.listdir(path):\n",
    "    full_path = os.path.abspath(os.path.join(path, item))\n",
    "    if os.path.isfile(full_path):\n",
    "        move_to = path_cats if 'cat' in item else path_dogs\n",
    "        shutil.move(full_path, move_to)"
   ]
  },
  {
   "cell_type": "markdown",
   "metadata": {
    "tags": []
   },
   "source": [
    "#### Удаление  директории с файлами"
   ]
  },
  {
   "cell_type": "code",
   "execution_count": 75,
   "metadata": {},
   "outputs": [],
   "source": [
    "shutil.rmtree('./test_dir')"
   ]
  },
  {
   "cell_type": "markdown",
   "metadata": {},
   "source": [
    " ### Пример архивирования файлов"
   ]
  },
  {
   "cell_type": "code",
   "execution_count": 76,
   "metadata": {},
   "outputs": [],
   "source": [
    "import zipfile"
   ]
  },
  {
   "cell_type": "code",
   "execution_count": 77,
   "metadata": {},
   "outputs": [],
   "source": [
    "path = 'photo'\n",
    "with zipfile.ZipFile('photo.zip', 'w') as zfile:\n",
    "    for folder_name, sub_folders, filenames in os.walk(path):\n",
    "        zfile.write(folder_name)\n",
    "        for filename in filenames:\n",
    "            zfile.write(os.path.join(folder_name, filename))\n"
   ]
  },
  {
   "cell_type": "markdown",
   "metadata": {},
   "source": [
    "### Работа с PDF документами\n",
    "PDF документы представляют собой бинарные файлы, который могут содержать массу дополнительной информации, и поэтому работать с ними несколько сложнее, чем с текстовыми файлами.\n",
    "\n",
    "В данном разделе мы рассмотрим примеры работы с pdf файлами для извлечения текстовой информации из них\n"
   ]
  },
  {
   "cell_type": "code",
   "execution_count": 78,
   "metadata": {},
   "outputs": [
    {
     "name": "stdout",
     "output_type": "stream",
     "text": [
      "Collecting pymupdf\n",
      "  Downloading PyMuPDF-1.24.13-cp39-abi3-win_amd64.whl.metadata (3.4 kB)\n",
      "Downloading PyMuPDF-1.24.13-cp39-abi3-win_amd64.whl (16.2 MB)\n",
      "   ---------------------------------------- 0.0/16.2 MB ? eta -:--:--\n",
      "   -- ------------------------------------- 1.0/16.2 MB 8.4 MB/s eta 0:00:02\n",
      "   -------- ------------------------------- 3.4/16.2 MB 11.2 MB/s eta 0:00:02\n",
      "   --------------------- ------------------ 8.7/16.2 MB 16.8 MB/s eta 0:00:01\n",
      "   ---------------------------------- ----- 13.9/16.2 MB 19.0 MB/s eta 0:00:01\n",
      "   ---------------------------------------  16.0/16.2 MB 19.7 MB/s eta 0:00:01\n",
      "   ---------------------------------------- 16.2/16.2 MB 16.0 MB/s eta 0:00:00\n",
      "Installing collected packages: pymupdf\n",
      "Successfully installed pymupdf-1.24.13\n"
     ]
    }
   ],
   "source": [
    "!pip install pymupdf"
   ]
  },
  {
   "cell_type": "code",
   "execution_count": 79,
   "metadata": {},
   "outputs": [],
   "source": [
    "import pymupdf"
   ]
  },
  {
   "cell_type": "code",
   "execution_count": 80,
   "metadata": {},
   "outputs": [],
   "source": [
    "pdf_file = pymupdf.open('pdf-files/paper.pdf')"
   ]
  },
  {
   "cell_type": "code",
   "execution_count": 81,
   "metadata": {},
   "outputs": [
    {
     "name": "stdout",
     "output_type": "stream",
     "text": [
      "Help on Document in module pymupdf object:\n",
      "\n",
      "class Document(builtins.object)\n",
      " |  Document(filename=None, stream=None, filetype=None, rect=None, width=0, height=0, fontsize=11)\n",
      " |\n",
      " |  Methods defined here:\n",
      " |\n",
      " |  __contains__(self, loc) -> bool\n",
      " |\n",
      " |  __delitem__(self, i) -> None\n",
      " |\n",
      " |  __enter__(self)\n",
      " |\n",
      " |  __exit__(self, *args)\n",
      " |\n",
      " |  __getitem__(self, i=0)\n",
      " |\n",
      " |  __init__(self, filename=None, stream=None, filetype=None, rect=None, width=0, height=0, fontsize=11)\n",
      " |      Creates a document. Use 'open' as a synonym.\n",
      " |\n",
      " |      Notes:\n",
      " |          Basic usages:\n",
      " |          open() - new PDF document\n",
      " |          open(filename) - string or pathlib.Path, must have supported\n",
      " |                  file extension.\n",
      " |          open(type, buffer) - type: valid extension, buffer: bytes object.\n",
      " |          open(stream=buffer, filetype=type) - keyword version of previous.\n",
      " |          open(filename, fileype=type) - filename with unrecognized extension.\n",
      " |          rect, width, height, fontsize: layout reflowable document\n",
      " |          on open (e.g. EPUB). Ignored if n/a.\n",
      " |\n",
      " |  __len__(self) -> int\n",
      " |\n",
      " |  __repr__(self) -> str\n",
      " |      Return repr(self).\n",
      " |\n",
      " |  add_layer(self, name, creator=None, on=None)\n",
      " |      Add a new OC layer.\n",
      " |\n",
      " |  add_ocg(self, name, config=-1, on=1, intent=None, usage=None)\n",
      " |      Add new optional content group.\n",
      " |\n",
      " |  authenticate(self, password)\n",
      " |      Decrypt document.\n",
      " |\n",
      " |  bake(self, *, annots: bool = True, widgets: bool = True) -> None\n",
      " |      Convert annotations or fields to permanent content.\n",
      " |\n",
      " |      Notes:\n",
      " |          Converts annotations or widgets to permanent page content, like\n",
      " |          text and vector graphics, as appropriate.\n",
      " |          After execution, pages will still look the same, but no longer\n",
      " |          have annotations, respectively no fields.\n",
      " |          If widgets are selected the PDF will no longer be a Form PDF.\n",
      " |\n",
      " |      Args:\n",
      " |          annots: convert annotations\n",
      " |          widgets: convert form fields\n",
      " |\n",
      " |  can_save_incrementally(self)\n",
      " |      Check whether incremental saves are possible.\n",
      " |\n",
      " |  chapter_page_count(self, chapter)\n",
      " |      Page count of chapter.\n",
      " |\n",
      " |  close(self)\n",
      " |      Close document.\n",
      " |\n",
      " |  convert_to_pdf(self, from_page=0, to_page=-1, rotate=0)\n",
      " |      Convert document to a PDF, selecting page range and optional rotation. Output bytes object.\n",
      " |\n",
      " |  copy_page(self, pno: int, to: int = -1)\n",
      " |      Copy a page within a PDF document.\n",
      " |\n",
      " |      This will only create another reference of the same page object.\n",
      " |      Args:\n",
      " |          pno: source page number\n",
      " |          to: put before this page, '-1' means after last page.\n",
      " |\n",
      " |  del_toc_item(doc: pymupdf.Document, idx: int) -> None from pymupdf.utils\n",
      " |      Delete TOC / bookmark item by index.\n",
      " |\n",
      " |  del_xml_metadata(self)\n",
      " |      Delete XML metadata.\n",
      " |\n",
      " |  delete_page(self, pno: int = -1)\n",
      " |      Delete one page from a PDF.\n",
      " |\n",
      " |  delete_pages(self, *args, **kw)\n",
      " |      Delete pages from a PDF.\n",
      " |\n",
      " |      Args:\n",
      " |          Either keywords 'from_page'/'to_page', or two integers to\n",
      " |          specify the first/last page to delete.\n",
      " |          Or a list/tuple/range object, which can contain arbitrary\n",
      " |          page numbers.\n",
      " |\n",
      " |  embfile_add(self, name: str, buffer_: ByteString, filename: Optional[str] = None, ufilename: Optional[str] = None, desc: Optional[str] = None) -> None\n",
      " |      Add an item to the EmbeddedFiles array.\n",
      " |\n",
      " |      Args:\n",
      " |          name: name of the new item, must not already exist.\n",
      " |          buffer_: (binary data) the file content.\n",
      " |          filename: (str) the file name, default: the name\n",
      " |          ufilename: (unicode) the file name, default: filename\n",
      " |          desc: (str) the description.\n",
      " |\n",
      " |  embfile_count(self) -> int\n",
      " |      Get number of EmbeddedFiles.\n",
      " |\n",
      " |  embfile_del(self, item: Union[int, str])\n",
      " |      Delete an entry from EmbeddedFiles.\n",
      " |\n",
      " |      Notes:\n",
      " |          The argument must be name or index of an EmbeddedFiles item.\n",
      " |          Physical deletion of data will happen on save to a new\n",
      " |          file with appropriate garbage option.\n",
      " |      Args:\n",
      " |          item: name or number of item.\n",
      " |      Returns:\n",
      " |          None\n",
      " |\n",
      " |  embfile_get(self, item: Union[int, str]) -> bytes\n",
      " |      Get the content of an item in the EmbeddedFiles array.\n",
      " |\n",
      " |      Args:\n",
      " |          item: number or name of item.\n",
      " |      Returns:\n",
      " |          (bytes) The file content.\n",
      " |\n",
      " |  embfile_info(self, item: Union[int, str]) -> dict\n",
      " |      Get information of an item in the EmbeddedFiles array.\n",
      " |\n",
      " |      Args:\n",
      " |          item: number or name of item.\n",
      " |      Returns:\n",
      " |          Information dictionary.\n",
      " |\n",
      " |  embfile_names(self) -> list\n",
      " |      Get list of names of EmbeddedFiles.\n",
      " |\n",
      " |  embfile_upd(self, item: Union[int, str], buffer_: Optional[ByteString] = None, filename: Optional[str] = None, ufilename: Optional[str] = None, desc: Optional[str] = None) -> None\n",
      " |      Change an item of the EmbeddedFiles array.\n",
      " |\n",
      " |      Notes:\n",
      " |          Only provided parameters are changed. If all are omitted,\n",
      " |          the method is a no-op.\n",
      " |      Args:\n",
      " |          item: number or name of item.\n",
      " |          buffer_: (binary data) the new file content.\n",
      " |          filename: (str) the new file name.\n",
      " |          ufilename: (unicode) the new filen ame.\n",
      " |          desc: (str) the new description.\n",
      " |\n",
      " |  extract_font(self, xref=0, info_only=0, named=None)\n",
      " |      Get a font by xref. Returns a tuple or dictionary.\n",
      " |\n",
      " |  extract_image(self, xref)\n",
      " |      Get image by xref. Returns a dictionary.\n",
      " |\n",
      " |  ez_save(self, filename, garbage=3, clean=False, deflate=True, deflate_images=True, deflate_fonts=True, incremental=False, ascii=False, expand=False, linear=False, pretty=False, encryption=1, permissions=4095, owner_pw=None, user_pw=None, no_new_id=True, preserve_metadata=1, use_objstms=1, compression_effort=0)\n",
      " |      Save PDF using some different defaults\n",
      " |\n",
      " |  find_bookmark(self, bm)\n",
      " |      Find new location after layouting a document.\n",
      " |\n",
      " |  fullcopy_page(self, pno, to=-1)\n",
      " |      Make a full page duplicate.\n",
      " |\n",
      " |  get_char_widths(doc: pymupdf.Document, xref: int, limit: int = 256, idx: int = 0, fontdict: Optional[dict] = None) -> list from pymupdf.utils\n",
      " |      Get list of glyph information of a font.\n",
      " |\n",
      " |      Notes:\n",
      " |          Must be provided by its XREF number. If we already dealt with the\n",
      " |          font, it will be recorded in doc.FontInfos. Otherwise we insert an\n",
      " |          entry there.\n",
      " |          Finally we return the glyphs for the font. This is a list of\n",
      " |          (glyph, width) where glyph is an integer controlling the char\n",
      " |          appearance, and width is a float controlling the char's spacing:\n",
      " |          width * fontsize is the actual space.\n",
      " |          For 'simple' fonts, glyph == ord(char) will usually be true.\n",
      " |          Exceptions are 'Symbol' and 'ZapfDingbats'. We are providing data for these directly here.\n",
      " |\n",
      " |  get_layer(self, config=-1)\n",
      " |      Content of ON, OFF, RBGroups of an OC layer.\n",
      " |\n",
      " |  get_layers(self)\n",
      " |      Show optional OC layers.\n",
      " |\n",
      " |  get_new_xref(self)\n",
      " |      Make new xref.\n",
      " |\n",
      " |  get_oc(doc: pymupdf.Document, xref: int) -> int from pymupdf.utils\n",
      " |      Return optional content object xref for an image or form xobject.\n",
      " |\n",
      " |      Args:\n",
      " |          xref: (int) xref number of an image or form xobject.\n",
      " |\n",
      " |  get_ocgs(self)\n",
      " |      Show existing optional content groups.\n",
      " |\n",
      " |  get_ocmd(doc: pymupdf.Document, xref: int) -> dict from pymupdf.utils\n",
      " |      Return the definition of an OCMD (optional content membership dictionary).\n",
      " |\n",
      " |      Recognizes PDF dict keys /OCGs (PDF array of OCGs), /P (policy string) and\n",
      " |      /VE (visibility expression, PDF array). Via string manipulation, this\n",
      " |      info is converted to a Python dictionary with keys \"xref\", \"ocgs\", \"policy\"\n",
      " |      and \"ve\" - ready to recycle as input for 'set_ocmd()'.\n",
      " |\n",
      " |  get_outline_xrefs(self)\n",
      " |      Get list of outline xref numbers.\n",
      " |\n",
      " |  get_page_fonts(self, pno: int, full: bool = False) -> list\n",
      " |      Retrieve a list of fonts used on a page.\n",
      " |\n",
      " |  get_page_images(self, pno: int, full: bool = False) -> list\n",
      " |      Retrieve a list of images used on a page.\n",
      " |\n",
      " |  get_page_labels(doc) from pymupdf.utils\n",
      " |      Return page label definitions in PDF document.\n",
      " |\n",
      " |      Args:\n",
      " |          doc: PDF document (resp. 'self').\n",
      " |      Returns:\n",
      " |          A list of dictionaries with the following format:\n",
      " |          {'startpage': int, 'prefix': str, 'style': str, 'firstpagenum': int}.\n",
      " |\n",
      " |  get_page_numbers(doc, label, only_one=False) from pymupdf.utils\n",
      " |      Return a list of page numbers with the given label.\n",
      " |\n",
      " |      Args:\n",
      " |          doc: PDF document object (resp. 'self').\n",
      " |          label: (str) label.\n",
      " |          only_one: (bool) stop searching after first hit.\n",
      " |      Returns:\n",
      " |          List of page numbers having this label.\n",
      " |\n",
      " |  get_page_pixmap(doc: pymupdf.Document, pno: int, *, matrix: 'matrix_like' = IdentityMatrix(1.0, 0.0, 0.0, 1.0, 0.0, 0.0), dpi=None, colorspace: pymupdf.Colorspace = Colorspace(CS_RGB) - DeviceRGB, clip: 'rect_like' = None, alpha: bool = False, annots: bool = True) -> pymupdf.Pixmap from pymupdf.utils\n",
      " |      Create pixmap of document page by page number.\n",
      " |\n",
      " |      Notes:\n",
      " |          Convenience function calling page.get_pixmap.\n",
      " |      Args:\n",
      " |          pno: (int) page number\n",
      " |          matrix: pymupdf.Matrix for transformation (default: pymupdf.Identity).\n",
      " |          colorspace: (str,pymupdf.Colorspace) rgb, rgb, gray - case ignored, default csRGB.\n",
      " |          clip: (irect-like) restrict rendering to this area.\n",
      " |          alpha: (bool) include alpha channel\n",
      " |          annots: (bool) also render annotations\n",
      " |\n",
      " |  get_page_text(doc: pymupdf.Document, pno: int, option: str = 'text', clip: 'rect_like' = None, flags: Optional[int] = None, textpage: pymupdf.TextPage = None, sort: bool = False) -> Any from pymupdf.utils\n",
      " |      Extract a document page's text by page number.\n",
      " |\n",
      " |      Notes:\n",
      " |          Convenience function calling page.get_text().\n",
      " |      Args:\n",
      " |          pno: page number\n",
      " |          option: (str) text, words, blocks, html, dict, json, rawdict, xhtml or xml.\n",
      " |      Returns:\n",
      " |          output from page.TextPage().\n",
      " |\n",
      " |  get_page_xobjects(self, pno: int) -> list\n",
      " |      Retrieve a list of XObjects used on a page.\n",
      " |\n",
      " |  get_sigflags(self)\n",
      " |      Get the /SigFlags value.\n",
      " |\n",
      " |  get_toc(doc: pymupdf.Document, simple: bool = True) -> list from pymupdf.utils\n",
      " |      Create a table of contents.\n",
      " |\n",
      " |      Args:\n",
      " |          simple: a bool to control output. Returns a list, where each entry consists of outline level, title, page number and link destination (if simple = False). For details see PyMuPDF's documentation.\n",
      " |\n",
      " |  get_xml_metadata(self)\n",
      " |      Get document XML metadata.\n",
      " |\n",
      " |  has_annots(doc: pymupdf.Document) -> bool from pymupdf.utils\n",
      " |      Check whether there are annotations on any page.\n",
      " |\n",
      " |  has_links(doc: pymupdf.Document) -> bool from pymupdf.utils\n",
      " |      Check whether there are links on any page.\n",
      " |\n",
      " |  init_doc(self)\n",
      " |\n",
      " |  insert_file(self, infile, from_page=-1, to_page=-1, start_at=-1, rotate=-1, links=True, annots=True, show_progress=0, final=1)\n",
      " |      Insert an arbitrary supported document to an existing PDF.\n",
      " |\n",
      " |      The infile may be given as a filename, a Document or a Pixmap. Other\n",
      " |      parameters - where applicable - equal those of insert_pdf().\n",
      " |\n",
      " |  insert_page(doc: pymupdf.Document, pno: int, text: Union[str, list, NoneType] = None, fontsize: float = 11, width: float = 595, height: float = 842, fontname: str = 'helv', fontfile: Optional[str] = None, color: Optional[Sequence] = (0,)) -> int from pymupdf.utils\n",
      " |      Create a new PDF page and insert some text.\n",
      " |\n",
      " |      Notes:\n",
      " |          Function combining pymupdf.Document.new_page() and pymupdf.Page.insert_text().\n",
      " |          For parameter details see these methods.\n",
      " |\n",
      " |  insert_pdf(self, docsrc, from_page=-1, to_page=-1, start_at=-1, rotate=-1, links=1, annots=1, show_progress=0, final=1, _gmap=None)\n",
      " |      Insert a page range from another PDF.\n",
      " |\n",
      " |      Args:\n",
      " |          docsrc: PDF to copy from. Must be different object, but may be same file.\n",
      " |          from_page: (int) first source page to copy, 0-based, default 0.\n",
      " |          to_page: (int) last source page to copy, 0-based, default last page.\n",
      " |          start_at: (int) from_page will become this page number in target.\n",
      " |          rotate: (int) rotate copied pages, default -1 is no change.\n",
      " |          links: (int/bool) whether to also copy links.\n",
      " |          annots: (int/bool) whether to also copy annotations.\n",
      " |          show_progress: (int) progress message interval, 0 is no messages.\n",
      " |          final: (bool) indicates last insertion from this source PDF.\n",
      " |          _gmap: internal use only\n",
      " |\n",
      " |      Copy sequence reversed if from_page > to_page.\n",
      " |\n",
      " |  is_stream = xref_is_stream(self, xref=0)\n",
      " |\n",
      " |  journal_can_do(self)\n",
      " |      Show if undo and / or redo are possible.\n",
      " |\n",
      " |  journal_enable(self)\n",
      " |      Activate document journalling.\n",
      " |\n",
      " |  journal_is_enabled(self)\n",
      " |      Check if journalling is enabled.\n",
      " |\n",
      " |  journal_load(self, filename)\n",
      " |      Load a journal from a file.\n",
      " |\n",
      " |  journal_op_name(self, step)\n",
      " |      Show operation name for given step.\n",
      " |\n",
      " |  journal_position(self)\n",
      " |      Show journalling state.\n",
      " |\n",
      " |  journal_redo(self)\n",
      " |      Move forward in the journal.\n",
      " |\n",
      " |  journal_save(self, filename)\n",
      " |      Save journal to a file.\n",
      " |\n",
      " |  journal_start_op(self, name=None)\n",
      " |      Begin a journalling operation.\n",
      " |\n",
      " |  journal_stop_op(self)\n",
      " |      End a journalling operation.\n",
      " |\n",
      " |  journal_undo(self)\n",
      " |      Move backwards in the journal.\n",
      " |\n",
      " |  layer_ui_configs(self)\n",
      " |      Show OC visibility status modifiable by user.\n",
      " |\n",
      " |  layout(self, rect=None, width=0, height=0, fontsize=11)\n",
      " |      Re-layout a reflowable document.\n",
      " |\n",
      " |  load_page(self, page_id)\n",
      " |      Load a page.\n",
      " |\n",
      " |      'page_id' is either a 0-based page number or a tuple (chapter, pno),\n",
      " |      with chapter number and page number within that chapter.\n",
      " |\n",
      " |  location_from_page_number(self, pno)\n",
      " |      Convert pno to (chapter, page).\n",
      " |\n",
      " |  make_bookmark(self, loc)\n",
      " |      Make a page pointer before layouting document.\n",
      " |\n",
      " |  move_page(self, pno: int, to: int = -1)\n",
      " |      Move a page within a PDF document.\n",
      " |\n",
      " |      Args:\n",
      " |          pno: source page number.\n",
      " |          to: put before this page, '-1' means after last page.\n",
      " |\n",
      " |  need_appearances(self, value=None)\n",
      " |      Get/set the NeedAppearances value.\n",
      " |\n",
      " |  new_page(doc: pymupdf.Document, pno: int = -1, width: float = 595, height: float = 842) -> pymupdf.Page from pymupdf.utils\n",
      " |      Create and return a new page object.\n",
      " |\n",
      " |      Args:\n",
      " |          pno: (int) insert before this page. Default: after last page.\n",
      " |          width: (float) page width in points. Default: 595 (ISO A4 width).\n",
      " |          height: (float) page height in points. Default 842 (ISO A4 height).\n",
      " |      Returns:\n",
      " |          A pymupdf.Page object.\n",
      " |\n",
      " |  next_location(self, page_id)\n",
      " |      Get (chapter, page) of next page.\n",
      " |\n",
      " |  page_annot_xrefs(self, n)\n",
      " |\n",
      " |  page_cropbox(self, pno)\n",
      " |      Get CropBox of page number (without loading page).\n",
      " |\n",
      " |  page_number_from_location(self, page_id)\n",
      " |      Convert (chapter, pno) to page number.\n",
      " |\n",
      " |  page_xref(self, pno)\n",
      " |      Get xref of page number.\n",
      " |\n",
      " |  pages(self, start: Optional[int] = None, stop: Optional[int] = None, step: Optional[int] = None) -> collections.abc.Iterable['Page_forward_decl']\n",
      " |      Return a generator iterator over a page range.\n",
      " |\n",
      " |      Arguments have the same meaning as for the range() built-in.\n",
      " |\n",
      " |  pdf_catalog(self)\n",
      " |      Get xref of PDF catalog.\n",
      " |\n",
      " |  pdf_trailer(self, compressed=0, ascii=0)\n",
      " |      Get PDF trailer as a string.\n",
      " |\n",
      " |  prev_location(self, page_id)\n",
      " |      Get (chapter, page) of previous page.\n",
      " |\n",
      " |  reload_page(self, page: 'Page_forward_decl') -> 'Page_forward_decl'\n",
      " |      Make a fresh copy of a page.\n",
      " |\n",
      " |  resolve_link(self, uri=None, chapters=0)\n",
      " |      Calculate internal link destination.\n",
      " |\n",
      " |      Args:\n",
      " |          uri: (str) some Link.uri\n",
      " |          chapters: (bool) whether to use (chapter, page) format\n",
      " |      Returns:\n",
      " |          (page_id, x, y) where x, y are point coordinates on the page.\n",
      " |          page_id is either page number (if chapters=0), or (chapter, pno).\n",
      " |\n",
      " |  resolve_names(self)\n",
      " |      Convert the PDF's destination names into a Python dict.\n",
      " |\n",
      " |      The only parameter is the pymupdf.Document.\n",
      " |      All names found in the catalog under keys \"/Dests\" and \"/Names/Dests\" are\n",
      " |      being included.\n",
      " |\n",
      " |      Returns:\n",
      " |          A dcitionary with the following layout:\n",
      " |          - key: (str) the name\n",
      " |          - value: (dict) with the following layout:\n",
      " |              * \"page\":  target page number (0-based). If no page number found -1.\n",
      " |              * \"to\": (x, y) target point on page - currently in PDF coordinates,\n",
      " |                      i.e. point (0,0) is the bottom-left of the page.\n",
      " |              * \"zoom\": (float) the zoom factor\n",
      " |              * \"dest\": (str) only occurs if the target location on the page has\n",
      " |                      not been provided as \"/XYZ\" or if no page number was found.\n",
      " |          Examples:\n",
      " |          {'__bookmark_1': {'page': 0, 'to': (0.0, 541.0), 'zoom': 0.0},\n",
      " |          '__bookmark_2': {'page': 0, 'to': (0.0, 481.45), 'zoom': 0.0}}\n",
      " |\n",
      " |          or\n",
      " |\n",
      " |          '21154a7c20684ceb91f9c9adc3b677c40': {'page': -1, 'dest': '/XYZ 15.75 1486 0'}, ...\n",
      " |\n",
      " |  save(self, filename, garbage=0, clean=0, deflate=0, deflate_images=0, deflate_fonts=0, incremental=0, ascii=0, expand=0, linear=0, no_new_id=0, appearance=0, pretty=0, encryption=1, permissions=4095, owner_pw=None, user_pw=None, preserve_metadata=1, use_objstms=0, compression_effort=0)\n",
      " |      Save PDF to file, pathlib.Path or file pointer.\n",
      " |\n",
      " |  saveIncr(self)\n",
      " |      Save PDF incrementally\n",
      " |\n",
      " |  save_snapshot(self, filename)\n",
      " |      Save a file snapshot suitable for journalling.\n",
      " |\n",
      " |  scrub(doc: pymupdf.Document, attached_files: bool = True, clean_pages: bool = True, embedded_files: bool = True, hidden_text: bool = True, javascript: bool = True, metadata: bool = True, redactions: bool = True, redact_images: int = 0, remove_links: bool = True, reset_fields: bool = True, reset_responses: bool = True, thumbnails: bool = True, xml_metadata: bool = True) -> None from pymupdf.utils\n",
      " |      # ------------------------------------------------------------------------------\n",
      " |      # Remove potentially sensitive data from a PDF. Similar to the Adobe\n",
      " |      # Acrobat 'sanitize' function\n",
      " |      # ------------------------------------------------------------------------------\n",
      " |\n",
      " |  search_page_for(doc: pymupdf.Document, pno: int, text: str, quads: bool = False, clip: 'rect_like' = None, flags: int = 83, textpage: pymupdf.TextPage = None) -> list from pymupdf.utils\n",
      " |      Search for a string on a page.\n",
      " |\n",
      " |      Args:\n",
      " |          pno: page number\n",
      " |          text: string to be searched for\n",
      " |          clip: restrict search to this rectangle\n",
      " |          quads: (bool) return quads instead of rectangles\n",
      " |          flags: bit switches, default: join hyphened words\n",
      " |          textpage: reuse a prepared textpage\n",
      " |      Returns:\n",
      " |          a list of rectangles or quads, each containing an occurrence.\n",
      " |\n",
      " |  select(self, pyliste)\n",
      " |      Build sub-pdf with page numbers in the list.\n",
      " |\n",
      " |  set_language(self, language=None)\n",
      " |\n",
      " |  set_layer(self, config, basestate=None, on=None, off=None, rbgroups=None, locked=None)\n",
      " |      Set the PDF keys /ON, /OFF, /RBGroups of an OC layer.\n",
      " |\n",
      " |  set_layer_ui_config(self, number, action=0)\n",
      " |      Set / unset OC intent configuration.\n",
      " |\n",
      " |  set_markinfo(self, markinfo: dict) -> bool\n",
      " |      Set the PDF MarkInfo values.\n",
      " |\n",
      " |  set_metadata(doc: pymupdf.Document, m: dict = None) -> None from pymupdf.utils\n",
      " |      Update the PDF /Info object.\n",
      " |\n",
      " |      Args:\n",
      " |          m: a dictionary like doc.metadata.\n",
      " |\n",
      " |  set_oc(doc: pymupdf.Document, xref: int, oc: int) -> None from pymupdf.utils\n",
      " |      Attach optional content object to image or form xobject.\n",
      " |\n",
      " |      Args:\n",
      " |          xref: (int) xref number of an image or form xobject\n",
      " |          oc: (int) xref number of an OCG or OCMD\n",
      " |\n",
      " |  set_ocmd(doc: pymupdf.Document, xref: int = 0, ocgs: Optional[list] = None, policy: Optional[str] = None, ve: Optional[list] = None) -> int from pymupdf.utils\n",
      " |      Create or update an OCMD object in a PDF document.\n",
      " |\n",
      " |      Args:\n",
      " |          xref: (int) 0 for creating a new object, otherwise update existing one.\n",
      " |          ocgs: (list) OCG xref numbers, which shall be subject to 'policy'.\n",
      " |          policy: one of 'AllOn', 'AllOff', 'AnyOn', 'AnyOff' (any casing).\n",
      " |          ve: (list) visibility expression. Use instead of 'ocgs' with 'policy'.\n",
      " |\n",
      " |      Returns:\n",
      " |          Xref of the created or updated OCMD.\n",
      " |\n",
      " |  set_page_labels(doc, labels) from pymupdf.utils\n",
      " |      Add / replace page label definitions in PDF document.\n",
      " |\n",
      " |      Args:\n",
      " |          doc: PDF document (resp. 'self').\n",
      " |          labels: list of label dictionaries like:\n",
      " |          {'startpage': int, 'prefix': str, 'style': str, 'firstpagenum': int},\n",
      " |          as returned by get_page_labels().\n",
      " |\n",
      " |  set_pagelayout(self, pagelayout: str)\n",
      " |      Set the PDF PageLayout value.\n",
      " |\n",
      " |  set_pagemode(self, pagemode: str)\n",
      " |      Set the PDF PageMode value.\n",
      " |\n",
      " |  set_toc(doc: pymupdf.Document, toc: list, collapse: int = 1) -> int from pymupdf.utils\n",
      " |      Create new outline tree (table of contents, TOC).\n",
      " |\n",
      " |      Args:\n",
      " |          toc: (list, tuple) each entry must contain level, title, page and\n",
      " |              optionally top margin on the page. None or '()' remove the TOC.\n",
      " |          collapse: (int) collapses entries beyond this level. Zero or None\n",
      " |              shows all entries unfolded.\n",
      " |      Returns:\n",
      " |          the number of inserted items, or the number of removed items respectively.\n",
      " |\n",
      " |  set_toc_item(doc: pymupdf.Document, idx: int, dest_dict: Optional[dict] = None, kind: Optional[int] = None, pno: Optional[int] = None, uri: Optional[str] = None, title: Optional[str] = None, to: 'point_like' = None, filename: Optional[str] = None, zoom: float = 0) -> None from pymupdf.utils\n",
      " |      Update TOC item by index.\n",
      " |\n",
      " |      It allows changing the item's title and link destination.\n",
      " |\n",
      " |      Args:\n",
      " |          idx:\n",
      " |              (int) desired index of the TOC list, as created by get_toc.\n",
      " |          dest_dict:\n",
      " |              (dict) destination dictionary as created by get_toc(False).\n",
      " |              Outrules all other parameters. If None, the remaining parameters\n",
      " |              are used to make a dest dictionary.\n",
      " |          kind:\n",
      " |              (int) kind of link (pymupdf.LINK_GOTO, etc.). If None, then only\n",
      " |              the title will be updated. If pymupdf.LINK_NONE, the TOC item will\n",
      " |              be deleted.\n",
      " |          pno:\n",
      " |              (int) page number (1-based like in get_toc). Required if\n",
      " |              pymupdf.LINK_GOTO.\n",
      " |          uri:\n",
      " |              (str) the URL, required if pymupdf.LINK_URI.\n",
      " |          title:\n",
      " |              (str) the new title. No change if None.\n",
      " |          to:\n",
      " |              (point-like) destination on the target page. If omitted, (72, 36)\n",
      " |              will be used as target coordinates.\n",
      " |          filename:\n",
      " |              (str) destination filename, required for pymupdf.LINK_GOTOR and\n",
      " |              pymupdf.LINK_LAUNCH.\n",
      " |          name:\n",
      " |              (str) a destination name for pymupdf.LINK_NAMED.\n",
      " |          zoom:\n",
      " |              (float) a zoom factor for the target location (pymupdf.LINK_GOTO).\n",
      " |\n",
      " |  set_xml_metadata(self, metadata)\n",
      " |      Store XML document level metadata.\n",
      " |\n",
      " |  subset_fonts(doc: pymupdf.Document, verbose: bool = False, fallback: bool = False) -> Optional[int] from pymupdf.utils\n",
      " |      Build font subsets in a PDF.\n",
      " |\n",
      " |      Eligible fonts are potentially replaced by smaller versions. Page text is\n",
      " |      NOT rewritten and thus should retain properties like being hidden or\n",
      " |      controlled by optional content.\n",
      " |\n",
      " |      This method by default uses MuPDF's own internal feature to create subset\n",
      " |      fonts. As this is a new function, errors may still occur. In this case,\n",
      " |      please fall back to using the previous version by using \"fallback=True\".\n",
      " |      Fallback mode requires the external package 'fontTools'.\n",
      " |\n",
      " |      Args:\n",
      " |          fallback: use the older deprecated implementation.\n",
      " |          verbose: only used by fallback mode.\n",
      " |\n",
      " |      Returns:\n",
      " |          The new MuPDF-based code returns None.  The deprecated fallback\n",
      " |          mode returns 0 if there are no fonts to subset.  Otherwise, it\n",
      " |          returns the decrease in fontsize (the difference in fontsize),\n",
      " |          measured in bytes.\n",
      " |\n",
      " |  switch_layer(self, config, as_default=0)\n",
      " |      Activate an OC layer.\n",
      " |\n",
      " |  tobytes = write(self, garbage=False, clean=False, deflate=False, deflate_images=False, deflate_fonts=False, incremental=False, ascii=False, expand=False, linear=False, no_new_id=False, appearance=False, pretty=False, encryption=1, permissions=4095, owner_pw=None, user_pw=None, preserve_metadata=1, use_objstms=0, compression_effort=0)\n",
      " |\n",
      " |  update_object(self, xref, text, page=None)\n",
      " |      Replace object definition source.\n",
      " |\n",
      " |  update_stream(self, xref=0, stream=None, new=1, compress=1)\n",
      " |      Replace xref stream part.\n",
      " |\n",
      " |  write(self, garbage=False, clean=False, deflate=False, deflate_images=False, deflate_fonts=False, incremental=False, ascii=False, expand=False, linear=False, no_new_id=False, appearance=False, pretty=False, encryption=1, permissions=4095, owner_pw=None, user_pw=None, preserve_metadata=1, use_objstms=0, compression_effort=0)\n",
      " |\n",
      " |  xref_copy(doc: pymupdf.Document, source: int, target: int, *, keep: list = None) -> None from pymupdf.utils\n",
      " |      Copy a PDF dictionary object to another one given their xref numbers.\n",
      " |\n",
      " |      Args:\n",
      " |          doc: PDF document object\n",
      " |          source: source xref number\n",
      " |          target: target xref number, the xref must already exist\n",
      " |          keep: an optional list of 1st level keys in target that should not be\n",
      " |                removed before copying.\n",
      " |      Notes:\n",
      " |          This works similar to the copy() method of dictionaries in Python. The\n",
      " |          source may be a stream object.\n",
      " |\n",
      " |  xref_get_key(self, xref, key)\n",
      " |      Get PDF dict key value of object at 'xref'.\n",
      " |\n",
      " |  xref_get_keys(self, xref)\n",
      " |      Get the keys of PDF dict object at 'xref'. Use -1 for the PDF trailer.\n",
      " |\n",
      " |  xref_is_font(self, xref)\n",
      " |      Check if xref is a font object.\n",
      " |\n",
      " |  xref_is_image(self, xref)\n",
      " |      Check if xref is an image object.\n",
      " |\n",
      " |  xref_is_stream(self, xref=0)\n",
      " |      Check if xref is a stream object.\n",
      " |\n",
      " |  xref_is_xobject(self, xref)\n",
      " |      Check if xref is a form xobject.\n",
      " |\n",
      " |  xref_length(self)\n",
      " |      Get length of xref table.\n",
      " |\n",
      " |  xref_object(self, xref, compressed=0, ascii=0)\n",
      " |      Get xref object source as a string.\n",
      " |\n",
      " |  xref_set_key(self, xref, key, value)\n",
      " |      Set the value of a PDF dictionary key.\n",
      " |\n",
      " |  xref_stream(self, xref)\n",
      " |      Get decompressed xref stream.\n",
      " |\n",
      " |  xref_stream_raw(self, xref)\n",
      " |      Get xref stream without decompression.\n",
      " |\n",
      " |  xref_xml_metadata(self)\n",
      " |      Get xref of document XML metadata.\n",
      " |\n",
      " |  ----------------------------------------------------------------------\n",
      " |  Readonly properties defined here:\n",
      " |\n",
      " |  FormFonts\n",
      " |      Get list of field font resource names.\n",
      " |\n",
      " |  chapter_count\n",
      " |      Number of chapters.\n",
      " |\n",
      " |  is_dirty\n",
      " |\n",
      " |  is_fast_webaccess\n",
      " |      Check whether we have a linearized PDF.\n",
      " |\n",
      " |  is_form_pdf\n",
      " |      Either False or PDF field count.\n",
      " |\n",
      " |  is_pdf\n",
      " |      Check for PDF.\n",
      " |\n",
      " |  is_reflowable\n",
      " |      Check if document is layoutable.\n",
      " |\n",
      " |  is_repaired\n",
      " |      Check whether PDF was repaired.\n",
      " |\n",
      " |  language\n",
      " |      Document language.\n",
      " |\n",
      " |  last_location\n",
      " |      Id (chapter, page) of last page.\n",
      " |\n",
      " |  markinfo\n",
      " |      Return the PDF MarkInfo value.\n",
      " |\n",
      " |  name\n",
      " |\n",
      " |  needs_pass\n",
      " |      Indicate password required.\n",
      " |\n",
      " |  outline\n",
      " |\n",
      " |  page_count\n",
      " |      Number of pages.\n",
      " |\n",
      " |  pagelayout\n",
      " |      Return the PDF PageLayout value.\n",
      " |\n",
      " |  pagemode\n",
      " |      Return the PDF PageMode value.\n",
      " |\n",
      " |  permissions\n",
      " |      Document permissions.\n",
      " |\n",
      " |  version_count\n",
      " |      Count versions of PDF document.\n",
      " |\n",
      " |  xref\n",
      " |      PDF xref number of page.\n",
      " |\n",
      " |  ----------------------------------------------------------------------\n",
      " |  Data descriptors defined here:\n",
      " |\n",
      " |  __dict__\n",
      " |      dictionary for instance variables\n",
      " |\n",
      " |  page_count2\n",
      " |\n",
      " |  this\n",
      " |\n",
      " |  this_is_pdf\n",
      "\n"
     ]
    }
   ],
   "source": [
    "help(pdf_file)"
   ]
  },
  {
   "cell_type": "code",
   "execution_count": 82,
   "metadata": {},
   "outputs": [
    {
     "data": {
      "text/plain": [
       "10"
      ]
     },
     "execution_count": 82,
     "metadata": {},
     "output_type": "execute_result"
    }
   ],
   "source": [
    "pdf_file.page_count"
   ]
  },
  {
   "cell_type": "code",
   "execution_count": 83,
   "metadata": {},
   "outputs": [
    {
     "data": {
      "text/plain": [
       "{'format': 'PDF 1.3',\n",
       " 'title': 'Laser-induced ultrafast insulator-metal transition in ${\\\\rm Ba}{\\\\rm Bi}{\\\\rm O}_{3}$',\n",
       " 'author': 'Alexander E. Lukyanov',\n",
       " 'subject': 'Phys. Rev. Res. 2, 043207 (2020). doi:10.1103/PhysRevResearch.2.043207',\n",
       " 'keywords': 'doi:10.1103/PhysRevResearch.2.043207 url:https://doi.org/10.1103/PhysRevResearch.2.043207',\n",
       " 'creator': 'Published by the American Physical Society',\n",
       " 'producer': 'Acrobat Distiller 10.1.10 (Windows)',\n",
       " 'creationDate': \"D:20201109184921+05'30'\",\n",
       " 'modDate': \"D:20201109184955+05'30'\",\n",
       " 'trapped': '',\n",
       " 'encryption': None}"
      ]
     },
     "execution_count": 83,
     "metadata": {},
     "output_type": "execute_result"
    }
   ],
   "source": [
    "pdf_file.metadata"
   ]
  },
  {
   "cell_type": "code",
   "execution_count": 84,
   "metadata": {},
   "outputs": [
    {
     "data": {
      "text/plain": [
       "[]"
      ]
     },
     "execution_count": 84,
     "metadata": {},
     "output_type": "execute_result"
    }
   ],
   "source": [
    "pdf_file.get_toc()"
   ]
  },
  {
   "cell_type": "code",
   "execution_count": 85,
   "metadata": {},
   "outputs": [
    {
     "name": "stdout",
     "output_type": "stream",
     "text": [
      "page 0 of pdf-files/paper.pdf\n",
      "page 1 of pdf-files/paper.pdf\n",
      "page 2 of pdf-files/paper.pdf\n",
      "page 3 of pdf-files/paper.pdf\n",
      "page 4 of pdf-files/paper.pdf\n",
      "page 5 of pdf-files/paper.pdf\n",
      "page 6 of pdf-files/paper.pdf\n",
      "page 7 of pdf-files/paper.pdf\n",
      "page 8 of pdf-files/paper.pdf\n",
      "page 9 of pdf-files/paper.pdf\n"
     ]
    }
   ],
   "source": [
    "for page in pdf_file:\n",
    "    print(page)"
   ]
  },
  {
   "cell_type": "code",
   "execution_count": 86,
   "metadata": {
    "tags": []
   },
   "outputs": [],
   "source": [
    "page = pdf_file[1]"
   ]
  },
  {
   "cell_type": "markdown",
   "metadata": {},
   "source": [
    "#### Извлечение текста"
   ]
  },
  {
   "cell_type": "code",
   "execution_count": 87,
   "metadata": {},
   "outputs": [
    {
     "name": "stdout",
     "output_type": "stream",
     "text": [
      "ALEXANDER E. LUKYANOV et al.\n",
      "PHYSICAL REVIEW RESEARCH 2, 043207 (2020)\n",
      "FIG. 1. A schematic crystal structure of BaBiO3, with ions Bi\n",
      "(blue), O (red), and Ba (green). (a) The structure before the pulse,\n",
      "distorted by the CDW, has larger and smaller BiO6 octahedra, extra\n",
      "electron/hole pairs sit on the upper antibonding Bi6s-O2pσ ∗orbitals.\n",
      "(b) The laser excitation breaks the pairs on the antibonding orbitals\n",
      "and removes the lattice distortion.\n",
      "An adequate interpretation of such experiments requires\n",
      "modeling the dynamics far from the equilibrium. This has\n",
      "to be done beyond the single-particle picture since the\n",
      "system state is altered considerably. In addition, many rele-\n",
      "vant nonequilibrium phenomena take place on the ultrafast\n",
      "timescale, where quantum coherences play a large role and\n",
      "cannot be neglected.\n",
      "Sufﬁciently accurate and consistent analysis of the ultrafast\n",
      "dynamic in strongly correlated systems, performed on equal\n",
      "footing with the analysis of their equilibrium state, became\n",
      "possible relatively lately, owing to rapid advances in the com-\n",
      "puting power. The dynamics of strongly correlated systems\n",
      "far from equilibrium have been addressed in a number of\n",
      "recent works, that studied, in particular, electron-mediated\n",
      "relaxation after ultrafast pumping [19], dynamical redistribu-\n",
      "tion of spectra [20], the role of the phonon-carrier coupling\n",
      "in the time-resolved optical spectra [21], dynamics of the\n",
      "photodoped charge transfer insulators [22], the gap dynamics\n",
      "in excitonic insulators [23] and the dynamics of a periodically\n",
      "driven strongly correlated Fermi-Hubbard model [24].\n",
      "The BBO is a representative example of the systems where\n",
      "the insulating CDW state appears as the result of the strong\n",
      "phonon-carrier coupling. Whether the CDW in this material\n",
      "can be externally manipulated and the metallic state achieved\n",
      "transiently by applying a strong driving is a very interest-\n",
      "ing problem, which until now has been investigated neither\n",
      "experimentally nor theoretically. Generally, little is known\n",
      "about the dynamics of this structure when it is driven far from\n",
      "equilibrium.\n",
      "In this work, we investigate the ultrafast dynamics of the\n",
      "BaBiO3 excited by a strong continuous laser pulse. In our\n",
      "analysis we consider a time evolution of the system retain-\n",
      "ing all pertinent quantum coherences within the dynamical\n",
      "mean-ﬁeld approach adapted to study strongly correlated sys-\n",
      "tems [25,26]. The chosen level of the theory is sufﬁcient\n",
      "to describe both the metal-insulator transition of the system\n",
      "and its ultrafast time evolution on the equal footing, ensuring\n",
      "consistency of the results.\n",
      "Our analysis demonstrates that a sufﬁciently strong excita-\n",
      "tion can break the insulating state and the system evolves into\n",
      "the metallic phase on the timescale of tens femtoseconds. It\n",
      "is shown that the dynamics of this regime is highly nonlinear,\n",
      "comprises many high harmonics and even develops the contin-\n",
      "uous high-frequency spectra. Although our study focuses on\n",
      "BaBiO3, the results are general and can be used as a guidance\n",
      "for experimental setups to control the state of the system with\n",
      "the strong electron-phonon interaction.\n",
      "The paper is organized as follows. In Sec. II, we introduce\n",
      "the model, describe the used assumptions, present necessary\n",
      "details of the formalism and discuss the choice of the system\n",
      "parameters. Results of the calculations are found in Sec. III in\n",
      "which we give examples of the various types of the dynamical\n",
      "behavior of the system as the reaction to the applied excitation\n",
      "ﬁeld, and give a summary of the obtained results in the form\n",
      "of the phase diagram. Finally, Sec. IV brieﬂy summarizes the\n",
      "results of the work and outlines future perspectives.\n",
      "II. MODEL AND METHODS\n",
      "A. Holstein model for BaBiO3\n",
      "To describe the metal-insulator transition in BaBiO3, we\n",
      "adopt the tight-biding (TB) model for electrons that occupy\n",
      "BiO6 octahedra and can tunnel between them. The octahedra\n",
      "are regarded as “sites” and the hopping elements describe the\n",
      "tunneling. The coupling to the lattice deformation modes is\n",
      "taken into account within the Holstein model [27] where an\n",
      "electron of an octahedron is coupled to the distortion oscilla-\n",
      "tion (phonon) mode of this octahedron. This model neglects\n",
      "the interaction between phonon modes of different octahedra.\n",
      "The Hamiltonian of the Holstein model is\n",
      "H = −\n",
      "\u0002\n",
      "i jσ\n",
      "(ti jc†\n",
      "jσciσ + H.c.) −μ\n",
      "\u0002\n",
      "i\n",
      "(ni↑+ ni↓)\n",
      "+ g\n",
      "\u0002\n",
      "i\n",
      "(b†\n",
      "i + bi)(ni↑+ ni↓−1) + ωph\n",
      "\u0002\n",
      "i\n",
      "b†\n",
      "i bi,\n",
      "(1)\n",
      "where ciσ denotes the electron operators with spin σ located\n",
      "at site i, niσ = c†\n",
      "iσciσ is the electron number operator, μ is\n",
      "the chemical potential, ti j are the hopping integrals, bi is a\n",
      "phonon operator corresponding to the deformation mode on\n",
      "site i, ωph is the mode frequency and g is the phonon-electron\n",
      "coupling constant. Values of ti j are extracted from the ab initio\n",
      "calculations by comparing obtained single-particle density of\n",
      "states (DOS) with the results for the tight-biding model (1).\n",
      "The comparison yields that the tight-binding model needs\n",
      "to account for the nearest as well as the second- and the\n",
      "fourth-nearest neighbors. The corresponding hopping matrix\n",
      "elements are extracted as t1 = −0.45 eV, t2 = −0.09 eV,\n",
      "t4 = 0.10 eV, respectively, while the chemical potential is\n",
      "μ = −0.13 eV.\n",
      "B. Bethe lattice model\n",
      "The Holstein model (1) appears simple, however, is still\n",
      "quite difﬁcult to solve, even within the dynamical mean-ﬁeld\n",
      "theory (DMFT). However, one can simplify the calculations\n",
      "considerably by taking into account the details of the metal-\n",
      "insulator transition. The transition is associated with the CDW\n",
      "state where the size of the neighboring octahedra BiO6 al-\n",
      "ternate. The CDW state of interest is associated with the\n",
      "doubling of the unit cell of the simple cubic lattice of BaBiO3\n",
      "in all three directions so that the corresponding CDW vector\n",
      "043207-2\n",
      "\n"
     ]
    }
   ],
   "source": [
    "text = page.get_text()\n",
    "print(text)"
   ]
  },
  {
   "cell_type": "code",
   "execution_count": 88,
   "metadata": {
    "tags": []
   },
   "outputs": [
    {
     "data": {
      "text/plain": [
       "page 1 of pdf-files/paper.pdf"
      ]
     },
     "execution_count": 88,
     "metadata": {},
     "output_type": "execute_result"
    }
   ],
   "source": [
    "page"
   ]
  },
  {
   "cell_type": "code",
   "execution_count": 89,
   "metadata": {},
   "outputs": [],
   "source": [
    "instances = page.search_for('PHYSICAL')\n",
    "new_line = 'SOME TEXT HEREEEE'"
   ]
  },
  {
   "cell_type": "code",
   "execution_count": 90,
   "metadata": {
    "tags": []
   },
   "outputs": [
    {
     "data": {
      "text/plain": [
       "[Rect(363.87176513671875, 42.37218475341797, 407.7210693359375, 52.378684997558594)]"
      ]
     },
     "execution_count": 90,
     "metadata": {},
     "output_type": "execute_result"
    }
   ],
   "source": [
    "instances"
   ]
  },
  {
   "cell_type": "code",
   "execution_count": 91,
   "metadata": {},
   "outputs": [
    {
     "data": {
      "text/plain": [
       "True"
      ]
     },
     "execution_count": 91,
     "metadata": {},
     "output_type": "execute_result"
    }
   ],
   "source": [
    "for item in instances:\n",
    "    page.add_redact_annot(item, new_line)\n",
    "page.apply_redactions()"
   ]
  },
  {
   "cell_type": "code",
   "execution_count": 92,
   "metadata": {},
   "outputs": [],
   "source": [
    "pdf_file.save(\"./pdf-files/test1.pdf\")"
   ]
  },
  {
   "cell_type": "markdown",
   "metadata": {},
   "source": [
    "####  Извлечение картинок"
   ]
  },
  {
   "cell_type": "code",
   "execution_count": 94,
   "metadata": {},
   "outputs": [],
   "source": [
    "images = page.get_images()"
   ]
  },
  {
   "cell_type": "code",
   "execution_count": 95,
   "metadata": {
    "tags": []
   },
   "outputs": [
    {
     "data": {
      "text/plain": [
       "[(6, 0, 1021, 385, 8, 'DeviceRGB', '', 'Im1', 'DCTDecode')]"
      ]
     },
     "execution_count": 95,
     "metadata": {},
     "output_type": "execute_result"
    }
   ],
   "source": [
    "images"
   ]
  },
  {
   "cell_type": "code",
   "execution_count": 96,
   "metadata": {},
   "outputs": [
    {
     "data": {
      "text/plain": [
       "6"
      ]
     },
     "execution_count": 96,
     "metadata": {},
     "output_type": "execute_result"
    }
   ],
   "source": [
    "images[0][0]"
   ]
  },
  {
   "cell_type": "code",
   "execution_count": 97,
   "metadata": {
    "tags": []
   },
   "outputs": [
    {
     "data": {
      "text/plain": [
       "Document('pdf-files/paper.pdf')"
      ]
     },
     "execution_count": 97,
     "metadata": {},
     "output_type": "execute_result"
    }
   ],
   "source": [
    "pdf_file"
   ]
  },
  {
   "cell_type": "code",
   "execution_count": 98,
   "metadata": {},
   "outputs": [],
   "source": [
    "pix = pymupdf.Pixmap(pdf_file, images[0][0])"
   ]
  },
  {
   "cell_type": "code",
   "execution_count": 99,
   "metadata": {
    "tags": []
   },
   "outputs": [
    {
     "data": {
      "text/plain": [
       "0"
      ]
     },
     "execution_count": 99,
     "metadata": {},
     "output_type": "execute_result"
    }
   ],
   "source": [
    "pix.alpha"
   ]
  },
  {
   "cell_type": "code",
   "execution_count": 100,
   "metadata": {},
   "outputs": [],
   "source": [
    "from PIL import Image"
   ]
  },
  {
   "cell_type": "code",
   "execution_count": 101,
   "metadata": {},
   "outputs": [],
   "source": [
    "mode = \"RGBA\" if pix.alpha else \"RGB\"\n",
    "img = Image.frombytes(mode, [pix.width, pix.height], pix.samples)\n"
   ]
  },
  {
   "cell_type": "code",
   "execution_count": 102,
   "metadata": {
    "tags": []
   },
   "outputs": [
    {
     "data": {
      "image/jpeg": "[encoded data removed]",
      "image/png": "[encoded data removed]",
      "text/plain": [
       "<PIL.Image.Image image mode=RGB size=1021x385>"
      ]
     },
     "execution_count": 102,
     "metadata": {},
     "output_type": "execute_result"
    }
   ],
   "source": [
    "img"
   ]
  },
  {
   "cell_type": "code",
   "execution_count": 103,
   "metadata": {},
   "outputs": [],
   "source": [
    "img.save('image1.png')"
   ]
  },
  {
   "cell_type": "markdown",
   "metadata": {},
   "source": [
    "Другой способ "
   ]
  },
  {
   "cell_type": "code",
   "execution_count": 104,
   "metadata": {},
   "outputs": [],
   "source": [
    "base_image = pdf_file.extract_image(images[0][0])"
   ]
  },
  {
   "cell_type": "code",
   "execution_count": 105,
   "metadata": {},
   "outputs": [],
   "source": [
    "with open('image.png', 'wb') as bytes_:\n",
    "    bytes_.write(base_image['image'])"
   ]
  },
  {
   "cell_type": "markdown",
   "metadata": {},
   "source": [
    "Сохраним все картинки в из статьи в папку с фотографиями"
   ]
  },
  {
   "cell_type": "code",
   "execution_count": 106,
   "metadata": {},
   "outputs": [],
   "source": [
    "path_to_dir = os.path.abspath(os.path.join('./photo', 'paper-images'))"
   ]
  },
  {
   "cell_type": "code",
   "execution_count": 107,
   "metadata": {
    "tags": []
   },
   "outputs": [
    {
     "data": {
      "text/plain": [
       "'c:\\\\vs_projects\\\\Automation of work with text data and Excel tables using Python\\\\2. Read, write and manage files for different OS\\\\photo\\\\paper-images'"
      ]
     },
     "execution_count": 107,
     "metadata": {},
     "output_type": "execute_result"
    }
   ],
   "source": [
    "path_to_dir"
   ]
  },
  {
   "cell_type": "code",
   "execution_count": 108,
   "metadata": {
    "tags": []
   },
   "outputs": [],
   "source": [
    "os.makedirs(path_to_dir)"
   ]
  },
  {
   "cell_type": "code",
   "execution_count": 109,
   "metadata": {
    "tags": []
   },
   "outputs": [
    {
     "data": {
      "text/plain": [
       "'2'"
      ]
     },
     "execution_count": 109,
     "metadata": {},
     "output_type": "execute_result"
    }
   ],
   "source": [
    "page.get_label()"
   ]
  },
  {
   "cell_type": "code",
   "execution_count": 110,
   "metadata": {
    "tags": []
   },
   "outputs": [],
   "source": [
    "for page in pdf_file:\n",
    "    images_on_page = page.get_images()\n",
    "    for (num, image) in enumerate(images_on_page, start=1):\n",
    "        base_image = pdf_file.extract_image(image[0])\n",
    "        name = f\"Image_page_{page.get_label()}_{num}.{base_image['ext']}\"\n",
    "        path_to_save = os.path.join(path_to_dir, name)\n",
    "        with open(path_to_save, 'wb') as bytes_:\n",
    "            bytes_.write(base_image['image'])"
   ]
  },
  {
   "cell_type": "markdown",
   "metadata": {},
   "source": [
    "Ссылка на библиотеку с [документацией](https://pymupdf.readthedocs.io/en/latest/the-basics.html \"pymupdf docs\")"
   ]
  },
  {
   "cell_type": "markdown",
   "metadata": {},
   "source": [
    "## Взаимодействие с облачным хранилищем Google Disk\n",
    "\n",
    "Нашей задачей будет настроить связь между локальным компьютером и сервисом Google Drive для обмена файлами.\n",
    "\n",
    "### Подготовка к проекту \n",
    "\n",
    "1. Создание проекта в Google Cloud Console\n",
    "    1. Идем по ссылке на [Google Cloud Console](https://console.cloud.google.com/ \"Console\")\n",
    "    2. Создаем новый проект\n",
    "    3. Далее, нужно включить API Google Drive:\n",
    "        * Перейдите в \"API и службы\" > \"Библиотека\"\n",
    "        * Найдите \"Google Drive API\" и включите его\n",
    "2. Настройка учетных данных \n",
    "    1. Перейдите в \"API и службы\" > \"Учетные данные\".\n",
    "    2. Нажмите \"Создать учетные данные\" и выберите \"OAuth 2.0 Client ID\"\n",
    "    3. Выберите тип приложения (например, \"Desktop app\") и создайте учетные данные\n",
    "    4. Скачайте файл `credentials.json`\n",
    "3. Установка необходимых библиотек\n",
    "    ```python \n",
    "    pip install --upgrade google-api-python-client google-auth-httplib2 google-auth-oauthlib\n",
    "    ```\n",
    "    \n",
    "\n"
   ]
  },
  {
   "cell_type": "code",
   "execution_count": 184,
   "metadata": {},
   "outputs": [
    {
     "name": "stdout",
     "output_type": "stream",
     "text": [
      "Requirement already satisfied: google-api-python-client in /Users/xela/anaconda3/lib/python3.11/site-packages (2.149.0)\n",
      "Requirement already satisfied: google-auth-httplib2 in /Users/xela/anaconda3/lib/python3.11/site-packages (0.2.0)\n",
      "Requirement already satisfied: google-auth-oauthlib in /Users/xela/anaconda3/lib/python3.11/site-packages (1.2.1)\n",
      "Requirement already satisfied: httplib2<1.dev0,>=0.19.0 in /Users/xela/anaconda3/lib/python3.11/site-packages (from google-api-python-client) (0.22.0)\n",
      "Requirement already satisfied: google-auth!=2.24.0,!=2.25.0,<3.0.0.dev0,>=1.32.0 in /Users/xela/anaconda3/lib/python3.11/site-packages (from google-api-python-client) (2.35.0)\n",
      "Requirement already satisfied: google-api-core!=2.0.*,!=2.1.*,!=2.2.*,!=2.3.0,<3.0.0.dev0,>=1.31.5 in /Users/xela/anaconda3/lib/python3.11/site-packages (from google-api-python-client) (2.21.0)\n",
      "Requirement already satisfied: uritemplate<5,>=3.0.1 in /Users/xela/anaconda3/lib/python3.11/site-packages (from google-api-python-client) (4.1.1)\n",
      "Requirement already satisfied: requests-oauthlib>=0.7.0 in /Users/xela/anaconda3/lib/python3.11/site-packages (from google-auth-oauthlib) (2.0.0)\n",
      "Requirement already satisfied: googleapis-common-protos<2.0.dev0,>=1.56.2 in /Users/xela/anaconda3/lib/python3.11/site-packages (from google-api-core!=2.0.*,!=2.1.*,!=2.2.*,!=2.3.0,<3.0.0.dev0,>=1.31.5->google-api-python-client) (1.65.0)\n",
      "Requirement already satisfied: protobuf!=3.20.0,!=3.20.1,!=4.21.0,!=4.21.1,!=4.21.2,!=4.21.3,!=4.21.4,!=4.21.5,<6.0.0.dev0,>=3.19.5 in /Users/xela/anaconda3/lib/python3.11/site-packages (from google-api-core!=2.0.*,!=2.1.*,!=2.2.*,!=2.3.0,<3.0.0.dev0,>=1.31.5->google-api-python-client) (5.28.2)\n",
      "Requirement already satisfied: proto-plus<2.0.0dev,>=1.22.3 in /Users/xela/anaconda3/lib/python3.11/site-packages (from google-api-core!=2.0.*,!=2.1.*,!=2.2.*,!=2.3.0,<3.0.0.dev0,>=1.31.5->google-api-python-client) (1.24.0)\n",
      "Requirement already satisfied: requests<3.0.0.dev0,>=2.18.0 in /Users/xela/anaconda3/lib/python3.11/site-packages (from google-api-core!=2.0.*,!=2.1.*,!=2.2.*,!=2.3.0,<3.0.0.dev0,>=1.31.5->google-api-python-client) (2.31.0)\n",
      "Requirement already satisfied: cachetools<6.0,>=2.0.0 in /Users/xela/anaconda3/lib/python3.11/site-packages (from google-auth!=2.24.0,!=2.25.0,<3.0.0.dev0,>=1.32.0->google-api-python-client) (5.5.0)\n",
      "Requirement already satisfied: pyasn1-modules>=0.2.1 in /Users/xela/anaconda3/lib/python3.11/site-packages (from google-auth!=2.24.0,!=2.25.0,<3.0.0.dev0,>=1.32.0->google-api-python-client) (0.2.8)\n",
      "Requirement already satisfied: rsa<5,>=3.1.4 in /Users/xela/anaconda3/lib/python3.11/site-packages (from google-auth!=2.24.0,!=2.25.0,<3.0.0.dev0,>=1.32.0->google-api-python-client) (4.9)\n",
      "Requirement already satisfied: pyparsing!=3.0.0,!=3.0.1,!=3.0.2,!=3.0.3,<4,>=2.4.2 in /Users/xela/anaconda3/lib/python3.11/site-packages (from httplib2<1.dev0,>=0.19.0->google-api-python-client) (3.0.9)\n",
      "Requirement already satisfied: oauthlib>=3.0.0 in /Users/xela/anaconda3/lib/python3.11/site-packages (from requests-oauthlib>=0.7.0->google-auth-oauthlib) (3.2.2)\n",
      "Requirement already satisfied: pyasn1<0.5.0,>=0.4.6 in /Users/xela/anaconda3/lib/python3.11/site-packages (from pyasn1-modules>=0.2.1->google-auth!=2.24.0,!=2.25.0,<3.0.0.dev0,>=1.32.0->google-api-python-client) (0.4.8)\n",
      "Requirement already satisfied: charset-normalizer<4,>=2 in /Users/xela/anaconda3/lib/python3.11/site-packages (from requests<3.0.0.dev0,>=2.18.0->google-api-core!=2.0.*,!=2.1.*,!=2.2.*,!=2.3.0,<3.0.0.dev0,>=1.31.5->google-api-python-client) (2.0.4)\n",
      "Requirement already satisfied: idna<4,>=2.5 in /Users/xela/anaconda3/lib/python3.11/site-packages (from requests<3.0.0.dev0,>=2.18.0->google-api-core!=2.0.*,!=2.1.*,!=2.2.*,!=2.3.0,<3.0.0.dev0,>=1.31.5->google-api-python-client) (3.4)\n",
      "Requirement already satisfied: urllib3<3,>=1.21.1 in /Users/xela/anaconda3/lib/python3.11/site-packages (from requests<3.0.0.dev0,>=2.18.0->google-api-core!=2.0.*,!=2.1.*,!=2.2.*,!=2.3.0,<3.0.0.dev0,>=1.31.5->google-api-python-client) (1.26.16)\n",
      "Requirement already satisfied: certifi>=2017.4.17 in /Users/xela/anaconda3/lib/python3.11/site-packages (from requests<3.0.0.dev0,>=2.18.0->google-api-core!=2.0.*,!=2.1.*,!=2.2.*,!=2.3.0,<3.0.0.dev0,>=1.31.5->google-api-python-client) (2023.7.22)\n"
     ]
    }
   ],
   "source": [
    "!pip install --upgrade google-api-python-client google-auth-httplib2 google-auth-oauthlib"
   ]
  },
  {
   "cell_type": "code",
   "execution_count": 185,
   "metadata": {
    "tags": []
   },
   "outputs": [],
   "source": [
    "import io\n",
    "from google_auth_oauthlib.flow import InstalledAppFlow\n",
    "from googleapiclient.discovery import build\n",
    "from googleapiclient.http import MediaFileUpload, MediaIoBaseDownload"
   ]
  },
  {
   "cell_type": "markdown",
   "metadata": {},
   "source": [
    "Первая авторизация"
   ]
  },
  {
   "cell_type": "code",
   "execution_count": 186,
   "metadata": {
    "tags": []
   },
   "outputs": [],
   "source": [
    "CREDENTIALS = '../client_secret.json'\n",
    "SCOPES = ['https://www.googleapis.com/auth/drive']"
   ]
  },
  {
   "cell_type": "code",
   "execution_count": 187,
   "metadata": {
    "tags": []
   },
   "outputs": [],
   "source": [
    "flow = InstalledAppFlow.from_client_secrets_file(CREDENTIALS, SCOPES)"
   ]
  },
  {
   "cell_type": "code",
   "execution_count": 188,
   "metadata": {
    "tags": []
   },
   "outputs": [
    {
     "data": {
      "text/plain": [
       "<google_auth_oauthlib.flow.InstalledAppFlow at 0x12b854550>"
      ]
     },
     "execution_count": 188,
     "metadata": {},
     "output_type": "execute_result"
    }
   ],
   "source": [
    "flow"
   ]
  },
  {
   "cell_type": "code",
   "execution_count": 189,
   "metadata": {
    "tags": []
   },
   "outputs": [
    {
     "name": "stdout",
     "output_type": "stream",
     "text": [
      "Please visit this URL to authorize this application: https://accounts.google.com/o/oauth2/auth?response_type=code&client_id=763829165223-sbnj2n605rmak3835kv92k8oq3vg1vsv.apps.googleusercontent.com&redirect_uri=http%3A%2F%2Flocalhost%3A50493%2F&scope=https%3A%2F%2Fwww.googleapis.com%2Fauth%2Fdrive&state=0fwB3ykZhrRyZozFi5iqLRJic4UuF3&access_type=offline\n"
     ]
    }
   ],
   "source": [
    "creds = flow.run_local_server(port=0)"
   ]
  },
  {
   "cell_type": "markdown",
   "metadata": {},
   "source": [
    "Создадим объект для работы с диском"
   ]
  },
  {
   "cell_type": "code",
   "execution_count": 190,
   "metadata": {
    "tags": []
   },
   "outputs": [],
   "source": [
    "service = build('drive', 'v3', credentials=creds)"
   ]
  },
  {
   "cell_type": "code",
   "execution_count": 192,
   "metadata": {
    "tags": []
   },
   "outputs": [],
   "source": [
    "def create_file(filename, parents=None):\n",
    "    file_metadata = {\n",
    "        'name': filename,\n",
    "        'mimeType': 'text/plain'\n",
    "    }\n",
    "    if parents:\n",
    "        file_metadata['parents'] = [parents]\n",
    "        \n",
    "    file = service.files().create(body=file_metadata, fields='id').execute()\n",
    "    \n",
    "    return file"
   ]
  },
  {
   "cell_type": "code",
   "execution_count": 193,
   "metadata": {
    "tags": []
   },
   "outputs": [],
   "source": [
    "file_txt = create_file('test.txt')"
   ]
  },
  {
   "cell_type": "code",
   "execution_count": 194,
   "metadata": {
    "tags": []
   },
   "outputs": [
    {
     "data": {
      "text/plain": [
       "{'id': '1kulY1TkPALboX8PO2p2wnjoTJFcJOHtc'}"
      ]
     },
     "execution_count": 194,
     "metadata": {},
     "output_type": "execute_result"
    }
   ],
   "source": [
    "file_txt"
   ]
  },
  {
   "cell_type": "code",
   "execution_count": 195,
   "metadata": {
    "tags": []
   },
   "outputs": [],
   "source": [
    "def create_folder(foldername):\n",
    "    folder_metadata = {\n",
    "        'name': foldername,\n",
    "        'mimeType': 'application/vnd.google-apps.folder'\n",
    "    }\n",
    "    folder = service.files().create(body=folder_metadata, fields='id').execute()\n",
    "    return folder "
   ]
  },
  {
   "cell_type": "code",
   "execution_count": 196,
   "metadata": {
    "tags": []
   },
   "outputs": [],
   "source": [
    "folder = create_folder('new-folder')"
   ]
  },
  {
   "cell_type": "code",
   "execution_count": 199,
   "metadata": {
    "tags": []
   },
   "outputs": [],
   "source": [
    "new_file = create_file('inner.txt', parents=folder['id'])"
   ]
  },
  {
   "cell_type": "code",
   "execution_count": 202,
   "metadata": {
    "tags": []
   },
   "outputs": [],
   "source": [
    "res = service.files().list().execute()"
   ]
  },
  {
   "cell_type": "code",
   "execution_count": 205,
   "metadata": {
    "tags": []
   },
   "outputs": [
    {
     "data": {
      "text/plain": [
       "dict_keys(['nextPageToken', 'kind', 'incompleteSearch', 'files'])"
      ]
     },
     "execution_count": 205,
     "metadata": {},
     "output_type": "execute_result"
    }
   ],
   "source": [
    "res.keys()"
   ]
  },
  {
   "cell_type": "code",
   "execution_count": null,
   "metadata": {},
   "outputs": [],
   "source": [
    "res['files']"
   ]
  },
  {
   "cell_type": "code",
   "execution_count": 212,
   "metadata": {
    "tags": []
   },
   "outputs": [],
   "source": [
    "def list_files_in_folder(folder_id):\n",
    "    res = service.files().list(\n",
    "        q=f\"'{folder_id}' in parents\",\n",
    "        pageSize=10,\n",
    "        fields=\"nextPageToken, files(id, name)\"\n",
    "    ).execute()\n",
    "    items = res.get('files', [])\n",
    "    if not items:\n",
    "        print('Пустая папка')\n",
    "    else:\n",
    "        print(\"Файлы в папке:\")\n",
    "        for item in items:\n",
    "            print(item)\n",
    "        return res"
   ]
  },
  {
   "cell_type": "code",
   "execution_count": 213,
   "metadata": {
    "tags": []
   },
   "outputs": [
    {
     "name": "stdout",
     "output_type": "stream",
     "text": [
      "Файлы в папке:\n",
      "{'id': '1fl1NK12WJF0Csr6ixKGP26mE8_a-jhsO', 'name': 'inner.txt'}\n"
     ]
    }
   ],
   "source": [
    "res = list_files_in_folder(folder['id'])"
   ]
  },
  {
   "cell_type": "code",
   "execution_count": 214,
   "metadata": {
    "tags": []
   },
   "outputs": [
    {
     "data": {
      "text/plain": [
       "{'files': [{'id': '1fl1NK12WJF0Csr6ixKGP26mE8_a-jhsO', 'name': 'inner.txt'}]}"
      ]
     },
     "execution_count": 214,
     "metadata": {},
     "output_type": "execute_result"
    }
   ],
   "source": [
    "res"
   ]
  },
  {
   "cell_type": "code",
   "execution_count": 216,
   "metadata": {
    "tags": []
   },
   "outputs": [],
   "source": [
    "path = os.path.abspath('lecture.ipynb')"
   ]
  },
  {
   "cell_type": "code",
   "execution_count": 218,
   "metadata": {
    "tags": []
   },
   "outputs": [
    {
     "data": {
      "text/plain": [
       "'lecture.ipynb'"
      ]
     },
     "execution_count": 218,
     "metadata": {},
     "output_type": "execute_result"
    }
   ],
   "source": [
    "os.path.basename(path)"
   ]
  },
  {
   "cell_type": "code",
   "execution_count": 229,
   "metadata": {
    "tags": []
   },
   "outputs": [],
   "source": [
    "def upload_file(service, file_path):\n",
    "    file_metadata = {\n",
    "        'name': os.path.basename(file_path),\n",
    "    }\n",
    "    media = MediaFileUpload(file_path, mimetype='application/octet-stream')\n",
    "    file = service.files().create(body=file_metadata, media_body=media, fields='id').execute()\n",
    "    print(f\"Файл загружен с ID: {file.get('id')}\")\n",
    "    return file\n",
    "    "
   ]
  },
  {
   "cell_type": "code",
   "execution_count": 230,
   "metadata": {
    "tags": []
   },
   "outputs": [
    {
     "name": "stdout",
     "output_type": "stream",
     "text": [
      "Файл загружен с ID: 1DawhxLoUjMJCLL66gjxcR4MsSApaD9h4\n"
     ]
    },
    {
     "data": {
      "text/plain": [
       "{'id': '1DawhxLoUjMJCLL66gjxcR4MsSApaD9h4'}"
      ]
     },
     "execution_count": 230,
     "metadata": {},
     "output_type": "execute_result"
    }
   ],
   "source": [
    "upload_file(service, path)"
   ]
  },
  {
   "cell_type": "code",
   "execution_count": 249,
   "metadata": {
    "tags": []
   },
   "outputs": [],
   "source": [
    "def download_file(service, file_id, dest):\n",
    "    request = service.files().get_media(fileId=file_id)\n",
    "    fh = io.BytesIO()\n",
    "    downloader = MediaIoBaseDownload(fh, request)\n",
    "    done = False\n",
    "    while done is False:\n",
    "        status, done = downloader.next_chunk()\n",
    "        print(f\"Загрузка {int(status.progress()) * 100}\")\n",
    "    fh.seek(0)\n",
    "    with open(dest, 'wb') as f:\n",
    "        f.write(fh.read())\n",
    "    print(f'Файл скачан: {dest}')"
   ]
  },
  {
   "cell_type": "code",
   "execution_count": 250,
   "metadata": {
    "tags": []
   },
   "outputs": [
    {
     "data": {
      "text/plain": [
       "{'id': '1kulY1TkPALboX8PO2p2wnjoTJFcJOHtc'}"
      ]
     },
     "execution_count": 250,
     "metadata": {},
     "output_type": "execute_result"
    }
   ],
   "source": [
    "file_txt"
   ]
  },
  {
   "cell_type": "code",
   "execution_count": 254,
   "metadata": {
    "tags": []
   },
   "outputs": [],
   "source": [
    "path = os.path.join(os.getcwd(), 'downloaded_txt.txt')"
   ]
  },
  {
   "cell_type": "code",
   "execution_count": 255,
   "metadata": {
    "tags": []
   },
   "outputs": [
    {
     "data": {
      "text/plain": [
       "'/Users/xela/Documents/Library/Working_Directory/ДПО-автоматизация-рутинных-процессов/lecture2/downloaded_txt.txt'"
      ]
     },
     "execution_count": 255,
     "metadata": {},
     "output_type": "execute_result"
    }
   ],
   "source": [
    "path"
   ]
  },
  {
   "cell_type": "code",
   "execution_count": 256,
   "metadata": {
    "tags": []
   },
   "outputs": [
    {
     "name": "stdout",
     "output_type": "stream",
     "text": [
      "Загрузка 0\n",
      "Файл скачан: /Users/xela/Documents/Library/Working_Directory/ДПО-автоматизация-рутинных-процессов/lecture2/downloaded_txt.txt\n"
     ]
    }
   ],
   "source": [
    "download_file(service, file_txt['id'], path)"
   ]
  },
  {
   "cell_type": "code",
   "execution_count": 257,
   "metadata": {
    "tags": []
   },
   "outputs": [],
   "source": [
    "def download_folder(service, folder_id, dest):\n",
    "    if not os.path.exists(dest):\n",
    "        os.makedirs(dest)\n",
    "    \n",
    "    query = f\"'{folder_id}' in parents\"\n",
    "    results = service.files().list(q=query).execute()\n",
    "    items = results.get('files', [])\n",
    "    \n",
    "    for item in items:\n",
    "        file_id = item['id']\n",
    "        file_name = item['name']\n",
    "        dest_path = os.path.join(dest, file_name)\n",
    "        \n",
    "        if item['mimeType'] == 'application/vnd.google-apps.folder':\n",
    "            download_folder(service, file_id, dest_path)\n",
    "        else:\n",
    "            download_file(service, file_id, dest_path)\n"
   ]
  },
  {
   "cell_type": "code",
   "execution_count": 258,
   "metadata": {
    "tags": []
   },
   "outputs": [
    {
     "data": {
      "text/plain": [
       "{'id': '1hEsoMRZWzrFUVdFlLDoicDB3KmwklYdq'}"
      ]
     },
     "execution_count": 258,
     "metadata": {},
     "output_type": "execute_result"
    }
   ],
   "source": [
    "folder"
   ]
  },
  {
   "cell_type": "code",
   "execution_count": 262,
   "metadata": {
    "tags": []
   },
   "outputs": [],
   "source": [
    "path = os.path.join(os.getcwd(), 'new-dir-test')"
   ]
  },
  {
   "cell_type": "code",
   "execution_count": 263,
   "metadata": {
    "tags": []
   },
   "outputs": [
    {
     "data": {
      "text/plain": [
       "'/Users/xela/Documents/Library/Working_Directory/ДПО-автоматизация-рутинных-процессов/lecture2/new-dir-test'"
      ]
     },
     "execution_count": 263,
     "metadata": {},
     "output_type": "execute_result"
    }
   ],
   "source": [
    "path"
   ]
  },
  {
   "cell_type": "code",
   "execution_count": 264,
   "metadata": {},
   "outputs": [
    {
     "name": "stdout",
     "output_type": "stream",
     "text": [
      "Загрузка 100\n",
      "Файл скачан: /Users/xela/Documents/Library/Working_Directory/ДПО-автоматизация-рутинных-процессов/lecture2/new-dir-test/inner-dir/lecture.ipynb\n",
      "Загрузка 0\n",
      "Файл скачан: /Users/xela/Documents/Library/Working_Directory/ДПО-автоматизация-рутинных-процессов/lecture2/new-dir-test/inner-dir/test.txt\n",
      "Загрузка 0\n",
      "Файл скачан: /Users/xela/Documents/Library/Working_Directory/ДПО-автоматизация-рутинных-процессов/lecture2/new-dir-test/inner.txt\n"
     ]
    }
   ],
   "source": [
    "download_folder(service, folder['id'], path)"
   ]
  },
  {
   "cell_type": "code",
   "execution_count": null,
   "metadata": {},
   "outputs": [],
   "source": []
  }
 ],
 "metadata": {
  "kernelspec": {
   "display_name": "data_analysis",
   "language": "python",
   "name": "python3"
  },
  "language_info": {
   "codemirror_mode": {
    "name": "ipython",
    "version": 3
   },
   "file_extension": ".py",
   "mimetype": "text/x-python",
   "name": "python",
   "nbconvert_exporter": "python",
   "pygments_lexer": "ipython3",
   "version": "3.12.7"
  }
 },
 "nbformat": 4,
 "nbformat_minor": 4
}
